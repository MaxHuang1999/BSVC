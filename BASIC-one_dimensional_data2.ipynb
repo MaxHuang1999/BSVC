{
 "cells": [
  {
   "cell_type": "code",
   "execution_count": 1,
   "outputs": [],
   "source": [
    "#bulk RNA-seq\n",
    "import os\n",
    "os.chdir(\"D:/360MoveData/Users/dgwei/Desktop/BASIC/bulk_RNAseq/\")\n",
    "from plotly.offline import plot\n",
    "from IPython.display import IFrame\n",
    "import pandas as pd\n",
    "import numpy as np\n",
    "import shutil#os模块的补充，提供了复制、移动、删除、压缩、解压等操作\n",
    "from tabulate import tabulate#打印漂亮的表格数据\n",
    "import matplotlib.pyplot as plt"
   ],
   "metadata": {
    "collapsed": false,
    "ExecuteTime": {
     "end_time": "2024-01-22T12:42:47.531325100Z",
     "start_time": "2024-01-22T12:42:47.501328500Z"
    }
   }
  },
  {
   "cell_type": "code",
   "execution_count": 2,
   "outputs": [
    {
     "data": {
      "text/plain": "        chrom type   name  start    end\n0  MK584552.1  CDS  ORF1a    293  12601\n1  MK584552.1  CDS  ORF1b  12601  20637\n2  MK584552.1  CDS      S  20633  24791\n3  MK584552.1  CDS  ORF3a  24790  25465\n4  MK584552.1  CDS      E  25445  25676\n5  MK584552.1  CDS      M  25683  26364\n6  MK584552.1  CDS      N  26375  27701",
      "text/html": "<div>\n<style scoped>\n    .dataframe tbody tr th:only-of-type {\n        vertical-align: middle;\n    }\n\n    .dataframe tbody tr th {\n        vertical-align: top;\n    }\n\n    .dataframe thead th {\n        text-align: right;\n    }\n</style>\n<table border=\"1\" class=\"dataframe\">\n  <thead>\n    <tr style=\"text-align: right;\">\n      <th></th>\n      <th>chrom</th>\n      <th>type</th>\n      <th>name</th>\n      <th>start</th>\n      <th>end</th>\n    </tr>\n  </thead>\n  <tbody>\n    <tr>\n      <th>0</th>\n      <td>MK584552.1</td>\n      <td>CDS</td>\n      <td>ORF1a</td>\n      <td>293</td>\n      <td>12601</td>\n    </tr>\n    <tr>\n      <th>1</th>\n      <td>MK584552.1</td>\n      <td>CDS</td>\n      <td>ORF1b</td>\n      <td>12601</td>\n      <td>20637</td>\n    </tr>\n    <tr>\n      <th>2</th>\n      <td>MK584552.1</td>\n      <td>CDS</td>\n      <td>S</td>\n      <td>20633</td>\n      <td>24791</td>\n    </tr>\n    <tr>\n      <th>3</th>\n      <td>MK584552.1</td>\n      <td>CDS</td>\n      <td>ORF3a</td>\n      <td>24790</td>\n      <td>25465</td>\n    </tr>\n    <tr>\n      <th>4</th>\n      <td>MK584552.1</td>\n      <td>CDS</td>\n      <td>E</td>\n      <td>25445</td>\n      <td>25676</td>\n    </tr>\n    <tr>\n      <th>5</th>\n      <td>MK584552.1</td>\n      <td>CDS</td>\n      <td>M</td>\n      <td>25683</td>\n      <td>26364</td>\n    </tr>\n    <tr>\n      <th>6</th>\n      <td>MK584552.1</td>\n      <td>CDS</td>\n      <td>N</td>\n      <td>26375</td>\n      <td>27701</td>\n    </tr>\n  </tbody>\n</table>\n</div>"
     },
     "execution_count": 2,
     "metadata": {},
     "output_type": "execute_result"
    }
   ],
   "source": [
    "#常规和非常规不连续转录得到的reads\n",
    "orfcolors = pd.read_csv('PEDV-colorcode-rainbow.txt', sep=' ', names=['orf', 'color'], index_col=0)['color'].to_dict()\n",
    "annotations= pd.read_csv('reference/PEDV-annotations.gff', sep='\\t', names=['chrom', 'type', 'name', 'start', 'end', '_x', '_y', '_z'])\n",
    "annotations['start'] -= 1\n",
    "cdsanno = annotations[(annotations['type'] == 'CDS') & (~annotations['name'].isin(['ORF10', 'nsp1', 'frameshift'])) & (~annotations['name'].apply(lambda x: x.startswith('nsp')))]\n",
    "cdsanno = pd.concat([cdsanno,pd.DataFrame([pd.Series(['MK584552.1', 'CDS', 'ORF1a',  293, 12601, 0.0, '.', '.'], index=cdsanno.columns),pd.Series(['MK584552.1', 'CDS', 'ORF1b', 12601,20637, 0.0, '.', '.'], index=cdsanno.columns),])\n",
    "]).sort_values(by='start').reset_index(drop=True).iloc[:, :5]\n",
    "cdsanno"
   ],
   "metadata": {
    "collapsed": false,
    "ExecuteTime": {
     "end_time": "2024-01-22T12:42:50.494201900Z",
     "start_time": "2024-01-22T12:42:50.191602800Z"
    }
   }
  },
  {
   "cell_type": "code",
   "execution_count": 3,
   "outputs": [
    {
     "data": {
      "text/plain": "44317"
     },
     "execution_count": 3,
     "metadata": {},
     "output_type": "execute_result"
    }
   ],
   "source": [
    "largedels_mgi = pd.read_csv('result/PEDV-luo-invirion/PEDV.jumps.txt', names=['j5', 'j3', 'count'], sep='\\t')\n",
    "len(largedels_mgi)"
   ],
   "metadata": {
    "collapsed": false,
    "ExecuteTime": {
     "end_time": "2024-01-22T12:42:54.304347500Z",
     "start_time": "2024-01-22T12:42:54.064805900Z"
    }
   }
  },
  {
   "cell_type": "code",
   "execution_count": 4,
   "outputs": [],
   "source": [
    "from Bio import SeqIO, Seq\n",
    "covseq = str(next(SeqIO.parse('result/MK584552.1.fasta','fasta')).seq)"
   ],
   "metadata": {
    "collapsed": false,
    "ExecuteTime": {
     "end_time": "2024-01-22T12:42:56.232443900Z",
     "start_time": "2024-01-22T12:42:55.995446200Z"
    }
   }
  },
  {
   "cell_type": "code",
   "execution_count": 5,
   "outputs": [
    {
     "data": {
      "text/plain": "   j5     j3  count  startpos  productsize\n0  52  17353      1     17400         1078\n1  53  16012      1     16041         1531\n2  53  17352      1     17400         1078\n3  54  21766      1     21840           38\n4  55  13413      1     13483            4",
      "text/html": "<div>\n<style scoped>\n    .dataframe tbody tr th:only-of-type {\n        vertical-align: middle;\n    }\n\n    .dataframe tbody tr th {\n        vertical-align: top;\n    }\n\n    .dataframe thead th {\n        text-align: right;\n    }\n</style>\n<table border=\"1\" class=\"dataframe\">\n  <thead>\n    <tr style=\"text-align: right;\">\n      <th></th>\n      <th>j5</th>\n      <th>j3</th>\n      <th>count</th>\n      <th>startpos</th>\n      <th>productsize</th>\n    </tr>\n  </thead>\n  <tbody>\n    <tr>\n      <th>0</th>\n      <td>52</td>\n      <td>17353</td>\n      <td>1</td>\n      <td>17400</td>\n      <td>1078</td>\n    </tr>\n    <tr>\n      <th>1</th>\n      <td>53</td>\n      <td>16012</td>\n      <td>1</td>\n      <td>16041</td>\n      <td>1531</td>\n    </tr>\n    <tr>\n      <th>2</th>\n      <td>53</td>\n      <td>17352</td>\n      <td>1</td>\n      <td>17400</td>\n      <td>1078</td>\n    </tr>\n    <tr>\n      <th>3</th>\n      <td>54</td>\n      <td>21766</td>\n      <td>1</td>\n      <td>21840</td>\n      <td>38</td>\n    </tr>\n    <tr>\n      <th>4</th>\n      <td>55</td>\n      <td>13413</td>\n      <td>1</td>\n      <td>13483</td>\n      <td>4</td>\n    </tr>\n  </tbody>\n</table>\n</div>"
     },
     "execution_count": 5,
     "metadata": {},
     "output_type": "execute_result"
    }
   ],
   "source": [
    "#对 largedels_mgi 中的每一行进行基因组序列分析，并将结果存储在 largedel_anno DataFrame 中。包括对基因组序列进行切片，查找起始密码子位置，计算蛋白质产物大小等操作\n",
    "SNEEKSIZE = 12\n",
    "largedel_anno = []\n",
    "\n",
    "for _, row in largedels_mgi.iterrows():\n",
    "    seqleft = covseq[:row.j5]\n",
    "    seqright = covseq[row.j3:]\n",
    "    seqrecomb = seqleft + seqright\n",
    "\n",
    "    if 'ATG' in seqrecomb:\n",
    "        # calculate start codon positions\n",
    "        startpos_recomb = seqrecomb.find('ATG')\n",
    "        if startpos_recomb < row.j5:\n",
    "            startpos = startpos_recomb\n",
    "        else:\n",
    "            startpos = startpos_recomb - row.j5 + row.j3\n",
    "\n",
    "        # calculate protein product size\n",
    "        orfcandseq = seqrecomb[startpos_recomb:]\n",
    "        if len(orfcandseq) % 3 > 0:\n",
    "            orfcandseq += 'N' * (3 - len(orfcandseq) % 3)\n",
    "\n",
    "        translation = Seq.Seq(orfcandseq).translate().split('*')[0]\n",
    "        #if row['name'] == 'j2':\n",
    "        #    print(Seq(orfcandseq).translate())\n",
    "        product_size = len(translation)\n",
    "    else:\n",
    "        startpos_recomb = -1\n",
    "        startpos = -1\n",
    "        product_size = 0\n",
    "        translation = ''\n",
    "\n",
    "    #recombseq = covseq[row.j5 - SNEEKSIZE:row.j5].lower() + (\n",
    "    #    covseq[row.j3:row.j3 + SNEEKSIZE])\n",
    "\n",
    "    largedel_anno.append([row['j5'], row['j3'], row['count'],\n",
    "                          startpos, product_size])\n",
    "\n",
    "largedel_anno = pd.DataFrame(largedel_anno, columns=[\n",
    "    'j5', 'j3', 'count', 'startpos', 'productsize'])\n",
    "largedel_anno.head()"
   ],
   "metadata": {
    "collapsed": false,
    "ExecuteTime": {
     "end_time": "2024-01-22T12:45:36.765087600Z",
     "start_time": "2024-01-22T12:42:57.640357200Z"
    }
   }
  },
  {
   "cell_type": "code",
   "execution_count": 6,
   "outputs": [
    {
     "data": {
      "text/plain": "          j5     j3  count  startpos  productsize\n0       6773   6793   1265        94           12\n1         62  20620    750     20633         1385\n2         66  26360    660     26375          441\n3      19818  20043    584        94           12\n4       6019  24119    544        94           12\n...      ...    ...    ...       ...          ...\n44312   6106   6729      1        94           12\n44313   6106   6748      1        94           12\n44314   6106   6768      1        94           12\n44315   6107  11589      1        94           12\n44316  27918  27982      1        94           12\n\n[44317 rows x 5 columns]",
      "text/html": "<div>\n<style scoped>\n    .dataframe tbody tr th:only-of-type {\n        vertical-align: middle;\n    }\n\n    .dataframe tbody tr th {\n        vertical-align: top;\n    }\n\n    .dataframe thead th {\n        text-align: right;\n    }\n</style>\n<table border=\"1\" class=\"dataframe\">\n  <thead>\n    <tr style=\"text-align: right;\">\n      <th></th>\n      <th>j5</th>\n      <th>j3</th>\n      <th>count</th>\n      <th>startpos</th>\n      <th>productsize</th>\n    </tr>\n  </thead>\n  <tbody>\n    <tr>\n      <th>0</th>\n      <td>6773</td>\n      <td>6793</td>\n      <td>1265</td>\n      <td>94</td>\n      <td>12</td>\n    </tr>\n    <tr>\n      <th>1</th>\n      <td>62</td>\n      <td>20620</td>\n      <td>750</td>\n      <td>20633</td>\n      <td>1385</td>\n    </tr>\n    <tr>\n      <th>2</th>\n      <td>66</td>\n      <td>26360</td>\n      <td>660</td>\n      <td>26375</td>\n      <td>441</td>\n    </tr>\n    <tr>\n      <th>3</th>\n      <td>19818</td>\n      <td>20043</td>\n      <td>584</td>\n      <td>94</td>\n      <td>12</td>\n    </tr>\n    <tr>\n      <th>4</th>\n      <td>6019</td>\n      <td>24119</td>\n      <td>544</td>\n      <td>94</td>\n      <td>12</td>\n    </tr>\n    <tr>\n      <th>...</th>\n      <td>...</td>\n      <td>...</td>\n      <td>...</td>\n      <td>...</td>\n      <td>...</td>\n    </tr>\n    <tr>\n      <th>44312</th>\n      <td>6106</td>\n      <td>6729</td>\n      <td>1</td>\n      <td>94</td>\n      <td>12</td>\n    </tr>\n    <tr>\n      <th>44313</th>\n      <td>6106</td>\n      <td>6748</td>\n      <td>1</td>\n      <td>94</td>\n      <td>12</td>\n    </tr>\n    <tr>\n      <th>44314</th>\n      <td>6106</td>\n      <td>6768</td>\n      <td>1</td>\n      <td>94</td>\n      <td>12</td>\n    </tr>\n    <tr>\n      <th>44315</th>\n      <td>6107</td>\n      <td>11589</td>\n      <td>1</td>\n      <td>94</td>\n      <td>12</td>\n    </tr>\n    <tr>\n      <th>44316</th>\n      <td>27918</td>\n      <td>27982</td>\n      <td>1</td>\n      <td>94</td>\n      <td>12</td>\n    </tr>\n  </tbody>\n</table>\n<p>44317 rows × 5 columns</p>\n</div>"
     },
     "execution_count": 6,
     "metadata": {},
     "output_type": "execute_result"
    }
   ],
   "source": [
    "largedel_anno = largedel_anno.sort_values(by='count', ascending=False).reset_index(drop=True)\n",
    "largedel_anno"
   ],
   "metadata": {
    "collapsed": false,
    "ExecuteTime": {
     "end_time": "2024-01-22T12:56:21.785219900Z",
     "start_time": "2024-01-22T12:56:21.408426100Z"
    }
   }
  },
  {
   "cell_type": "code",
   "execution_count": 7,
   "outputs": [
    {
     "data": {
      "text/plain": "       j5     j3  count  startpos  productsize\n523    65  18222      5     18232            9\n607    63  18220      4     18232            9\n970    64  12193      3     12272            9\n4274   63  24338      2     24369            9\n30161  64  12124      1     12272            9\n30233  61  24336      1     24369            9\n30268  59  18216      1     18232            9\n30295  62  12192      1     12272            9\n30303  62  12212      1     12272            9\n30310  62  18218      1     18232            9\n30398  66  18229      1     18232            9",
      "text/html": "<div>\n<style scoped>\n    .dataframe tbody tr th:only-of-type {\n        vertical-align: middle;\n    }\n\n    .dataframe tbody tr th {\n        vertical-align: top;\n    }\n\n    .dataframe thead th {\n        text-align: right;\n    }\n</style>\n<table border=\"1\" class=\"dataframe\">\n  <thead>\n    <tr style=\"text-align: right;\">\n      <th></th>\n      <th>j5</th>\n      <th>j3</th>\n      <th>count</th>\n      <th>startpos</th>\n      <th>productsize</th>\n    </tr>\n  </thead>\n  <tbody>\n    <tr>\n      <th>523</th>\n      <td>65</td>\n      <td>18222</td>\n      <td>5</td>\n      <td>18232</td>\n      <td>9</td>\n    </tr>\n    <tr>\n      <th>607</th>\n      <td>63</td>\n      <td>18220</td>\n      <td>4</td>\n      <td>18232</td>\n      <td>9</td>\n    </tr>\n    <tr>\n      <th>970</th>\n      <td>64</td>\n      <td>12193</td>\n      <td>3</td>\n      <td>12272</td>\n      <td>9</td>\n    </tr>\n    <tr>\n      <th>4274</th>\n      <td>63</td>\n      <td>24338</td>\n      <td>2</td>\n      <td>24369</td>\n      <td>9</td>\n    </tr>\n    <tr>\n      <th>30161</th>\n      <td>64</td>\n      <td>12124</td>\n      <td>1</td>\n      <td>12272</td>\n      <td>9</td>\n    </tr>\n    <tr>\n      <th>30233</th>\n      <td>61</td>\n      <td>24336</td>\n      <td>1</td>\n      <td>24369</td>\n      <td>9</td>\n    </tr>\n    <tr>\n      <th>30268</th>\n      <td>59</td>\n      <td>18216</td>\n      <td>1</td>\n      <td>18232</td>\n      <td>9</td>\n    </tr>\n    <tr>\n      <th>30295</th>\n      <td>62</td>\n      <td>12192</td>\n      <td>1</td>\n      <td>12272</td>\n      <td>9</td>\n    </tr>\n    <tr>\n      <th>30303</th>\n      <td>62</td>\n      <td>12212</td>\n      <td>1</td>\n      <td>12272</td>\n      <td>9</td>\n    </tr>\n    <tr>\n      <th>30310</th>\n      <td>62</td>\n      <td>18218</td>\n      <td>1</td>\n      <td>18232</td>\n      <td>9</td>\n    </tr>\n    <tr>\n      <th>30398</th>\n      <td>66</td>\n      <td>18229</td>\n      <td>1</td>\n      <td>18232</td>\n      <td>9</td>\n    </tr>\n  </tbody>\n</table>\n</div>"
     },
     "execution_count": 7,
     "metadata": {},
     "output_type": "execute_result"
    }
   ],
   "source": [
    "newdata1=largedel_anno[largedel_anno['productsize']==9]\n",
    "newdata1"
   ],
   "metadata": {
    "collapsed": false,
    "ExecuteTime": {
     "end_time": "2024-01-22T12:56:23.760444200Z",
     "start_time": "2024-01-22T12:56:23.376528500Z"
    }
   }
  },
  {
   "cell_type": "code",
   "execution_count": 8,
   "outputs": [
    {
     "data": {
      "text/plain": "       productsize  count\n0               12   1265\n1             1385    750\n2              441    660\n3               12    584\n4               12    544\n...            ...    ...\n44312           12      1\n44313           12      1\n44314           12      1\n44315           12      1\n44316           12      1\n\n[44317 rows x 2 columns]",
      "text/html": "<div>\n<style scoped>\n    .dataframe tbody tr th:only-of-type {\n        vertical-align: middle;\n    }\n\n    .dataframe tbody tr th {\n        vertical-align: top;\n    }\n\n    .dataframe thead th {\n        text-align: right;\n    }\n</style>\n<table border=\"1\" class=\"dataframe\">\n  <thead>\n    <tr style=\"text-align: right;\">\n      <th></th>\n      <th>productsize</th>\n      <th>count</th>\n    </tr>\n  </thead>\n  <tbody>\n    <tr>\n      <th>0</th>\n      <td>12</td>\n      <td>1265</td>\n    </tr>\n    <tr>\n      <th>1</th>\n      <td>1385</td>\n      <td>750</td>\n    </tr>\n    <tr>\n      <th>2</th>\n      <td>441</td>\n      <td>660</td>\n    </tr>\n    <tr>\n      <th>3</th>\n      <td>12</td>\n      <td>584</td>\n    </tr>\n    <tr>\n      <th>4</th>\n      <td>12</td>\n      <td>544</td>\n    </tr>\n    <tr>\n      <th>...</th>\n      <td>...</td>\n      <td>...</td>\n    </tr>\n    <tr>\n      <th>44312</th>\n      <td>12</td>\n      <td>1</td>\n    </tr>\n    <tr>\n      <th>44313</th>\n      <td>12</td>\n      <td>1</td>\n    </tr>\n    <tr>\n      <th>44314</th>\n      <td>12</td>\n      <td>1</td>\n    </tr>\n    <tr>\n      <th>44315</th>\n      <td>12</td>\n      <td>1</td>\n    </tr>\n    <tr>\n      <th>44316</th>\n      <td>12</td>\n      <td>1</td>\n    </tr>\n  </tbody>\n</table>\n<p>44317 rows × 2 columns</p>\n</div>"
     },
     "execution_count": 8,
     "metadata": {},
     "output_type": "execute_result"
    }
   ],
   "source": [
    "newdata=largedel_anno[['productsize','count']]\n",
    "newdata"
   ],
   "metadata": {
    "collapsed": false,
    "ExecuteTime": {
     "end_time": "2024-01-22T12:56:27.725036600Z",
     "start_time": "2024-01-22T12:56:27.293760800Z"
    }
   }
  },
  {
   "cell_type": "code",
   "execution_count": 9,
   "outputs": [
    {
     "data": {
      "text/plain": "             count\nproductsize       \n12           60572\n1385           783\n441            662\n963            241\n59             219\n226            161\n1078           123\n76              94\n224             92\n3349            59",
      "text/html": "<div>\n<style scoped>\n    .dataframe tbody tr th:only-of-type {\n        vertical-align: middle;\n    }\n\n    .dataframe tbody tr th {\n        vertical-align: top;\n    }\n\n    .dataframe thead th {\n        text-align: right;\n    }\n</style>\n<table border=\"1\" class=\"dataframe\">\n  <thead>\n    <tr style=\"text-align: right;\">\n      <th></th>\n      <th>count</th>\n    </tr>\n    <tr>\n      <th>productsize</th>\n      <th></th>\n    </tr>\n  </thead>\n  <tbody>\n    <tr>\n      <th>12</th>\n      <td>60572</td>\n    </tr>\n    <tr>\n      <th>1385</th>\n      <td>783</td>\n    </tr>\n    <tr>\n      <th>441</th>\n      <td>662</td>\n    </tr>\n    <tr>\n      <th>963</th>\n      <td>241</td>\n    </tr>\n    <tr>\n      <th>59</th>\n      <td>219</td>\n    </tr>\n    <tr>\n      <th>226</th>\n      <td>161</td>\n    </tr>\n    <tr>\n      <th>1078</th>\n      <td>123</td>\n    </tr>\n    <tr>\n      <th>76</th>\n      <td>94</td>\n    </tr>\n    <tr>\n      <th>224</th>\n      <td>92</td>\n    </tr>\n    <tr>\n      <th>3349</th>\n      <td>59</td>\n    </tr>\n  </tbody>\n</table>\n</div>"
     },
     "execution_count": 9,
     "metadata": {},
     "output_type": "execute_result"
    }
   ],
   "source": [
    "sum_of_productsize = newdata.groupby('productsize').agg({'count': 'sum'}).sort_values(by='count', ascending=False)\n",
    "sum_of_productsize=sum_of_productsize.head(10)\n",
    "sum_of_productsize"
   ],
   "metadata": {
    "collapsed": false,
    "ExecuteTime": {
     "end_time": "2024-01-22T12:56:34.647596800Z",
     "start_time": "2024-01-22T12:56:34.322779300Z"
    }
   }
  },
  {
   "cell_type": "code",
   "execution_count": 10,
   "outputs": [
    {
     "data": {
      "text/plain": "<Figure size 640x480 with 1 Axes>",
      "image/png": "[encoded data removed]"
     },
     "metadata": {},
     "output_type": "display_data"
    }
   ],
   "source": [
    "ax=sum_of_productsize.plot(y='count', kind='bar',grid=False)\n",
    "ax.set_xlabel('productsize', fontsize=20)\n",
    "ax.set_ylabel('counts', fontsize=20)\n",
    "# ax.ylim(0, 0.4)\n",
    "ax.legend(loc='upper right',fontsize=\"xx-large\")\n",
    "# plt.savefig('result/SARS2.productszie.png', dpi=1200,bbox_inches = 'tight')\n",
    "plt.show()"
   ],
   "metadata": {
    "collapsed": false,
    "ExecuteTime": {
     "end_time": "2024-01-22T12:56:44.322400700Z",
     "start_time": "2024-01-22T12:56:43.705774700Z"
    }
   }
  },
  {
   "cell_type": "code",
   "execution_count": 11,
   "outputs": [
    {
     "data": {
      "text/plain": "          count    j5     j3  productsize\nstartpos                                 \n94        60502  6773   6793           12\n20633       783    62  20620         1385\n26375       662    66  26360          441\n17745       241    63  17740          963\n9032        219    61   8985           59\n25683       161    66  25672          226\n17400       123    62  17353         1078\n25445        94    57  25426           76\n24790        92    61  24750          224\n2596         59    64   2565         3349\n21840        52    63  21772           38\n18148        44    65  18130           12\n26822        42    61  26778          292\n14190        41    65  14166         2148\n8383         39    65   8341         1420\n22314        37    65  22268           40\n7771         32    63   7745         1624\n15985        30    62  15926            5\n16306        27    60  16111            8\n16041        24    62  16020         1531",
      "text/html": "<div>\n<style scoped>\n    .dataframe tbody tr th:only-of-type {\n        vertical-align: middle;\n    }\n\n    .dataframe tbody tr th {\n        vertical-align: top;\n    }\n\n    .dataframe thead th {\n        text-align: right;\n    }\n</style>\n<table border=\"1\" class=\"dataframe\">\n  <thead>\n    <tr style=\"text-align: right;\">\n      <th></th>\n      <th>count</th>\n      <th>j5</th>\n      <th>j3</th>\n      <th>productsize</th>\n    </tr>\n    <tr>\n      <th>startpos</th>\n      <th></th>\n      <th></th>\n      <th></th>\n      <th></th>\n    </tr>\n  </thead>\n  <tbody>\n    <tr>\n      <th>94</th>\n      <td>60502</td>\n      <td>6773</td>\n      <td>6793</td>\n      <td>12</td>\n    </tr>\n    <tr>\n      <th>20633</th>\n      <td>783</td>\n      <td>62</td>\n      <td>20620</td>\n      <td>1385</td>\n    </tr>\n    <tr>\n      <th>26375</th>\n      <td>662</td>\n      <td>66</td>\n      <td>26360</td>\n      <td>441</td>\n    </tr>\n    <tr>\n      <th>17745</th>\n      <td>241</td>\n      <td>63</td>\n      <td>17740</td>\n      <td>963</td>\n    </tr>\n    <tr>\n      <th>9032</th>\n      <td>219</td>\n      <td>61</td>\n      <td>8985</td>\n      <td>59</td>\n    </tr>\n    <tr>\n      <th>25683</th>\n      <td>161</td>\n      <td>66</td>\n      <td>25672</td>\n      <td>226</td>\n    </tr>\n    <tr>\n      <th>17400</th>\n      <td>123</td>\n      <td>62</td>\n      <td>17353</td>\n      <td>1078</td>\n    </tr>\n    <tr>\n      <th>25445</th>\n      <td>94</td>\n      <td>57</td>\n      <td>25426</td>\n      <td>76</td>\n    </tr>\n    <tr>\n      <th>24790</th>\n      <td>92</td>\n      <td>61</td>\n      <td>24750</td>\n      <td>224</td>\n    </tr>\n    <tr>\n      <th>2596</th>\n      <td>59</td>\n      <td>64</td>\n      <td>2565</td>\n      <td>3349</td>\n    </tr>\n    <tr>\n      <th>21840</th>\n      <td>52</td>\n      <td>63</td>\n      <td>21772</td>\n      <td>38</td>\n    </tr>\n    <tr>\n      <th>18148</th>\n      <td>44</td>\n      <td>65</td>\n      <td>18130</td>\n      <td>12</td>\n    </tr>\n    <tr>\n      <th>26822</th>\n      <td>42</td>\n      <td>61</td>\n      <td>26778</td>\n      <td>292</td>\n    </tr>\n    <tr>\n      <th>14190</th>\n      <td>41</td>\n      <td>65</td>\n      <td>14166</td>\n      <td>2148</td>\n    </tr>\n    <tr>\n      <th>8383</th>\n      <td>39</td>\n      <td>65</td>\n      <td>8341</td>\n      <td>1420</td>\n    </tr>\n    <tr>\n      <th>22314</th>\n      <td>37</td>\n      <td>65</td>\n      <td>22268</td>\n      <td>40</td>\n    </tr>\n    <tr>\n      <th>7771</th>\n      <td>32</td>\n      <td>63</td>\n      <td>7745</td>\n      <td>1624</td>\n    </tr>\n    <tr>\n      <th>15985</th>\n      <td>30</td>\n      <td>62</td>\n      <td>15926</td>\n      <td>5</td>\n    </tr>\n    <tr>\n      <th>16306</th>\n      <td>27</td>\n      <td>60</td>\n      <td>16111</td>\n      <td>8</td>\n    </tr>\n    <tr>\n      <th>16041</th>\n      <td>24</td>\n      <td>62</td>\n      <td>16020</td>\n      <td>1531</td>\n    </tr>\n  </tbody>\n</table>\n</div>"
     },
     "execution_count": 11,
     "metadata": {},
     "output_type": "execute_result"
    }
   ],
   "source": [
    "lda_mg = largedel_anno.groupby('startpos').agg({'count': 'sum', 'j5': 'first', 'j3': 'first','productsize': 'first'}).sort_values(by='count',ascending=False)\n",
    "lda_mg.head(20)"
   ],
   "metadata": {
    "collapsed": false,
    "ExecuteTime": {
     "end_time": "2024-01-22T12:56:50.352153800Z",
     "start_time": "2024-01-22T12:56:50.030842900Z"
    }
   }
  },
  {
   "cell_type": "code",
   "execution_count": 12,
   "outputs": [
    {
     "data": {
      "text/plain": "20"
     },
     "execution_count": 12,
     "metadata": {},
     "output_type": "execute_result"
    }
   ],
   "source": [
    "(largedel_anno['j3'] - largedel_anno['j5']).min()"
   ],
   "metadata": {
    "collapsed": false,
    "ExecuteTime": {
     "end_time": "2024-01-22T12:56:54.516215300Z",
     "start_time": "2024-01-22T12:56:54.114622100Z"
    }
   }
  },
  {
   "cell_type": "code",
   "execution_count": 13,
   "outputs": [
    {
     "data": {
      "text/plain": "63888"
     },
     "execution_count": 13,
     "metadata": {},
     "output_type": "execute_result"
    }
   ],
   "source": [
    "#排除 largedel_anno DataFrame 中起始和结束位置与 BLACKLIST 中定义的位置相匹配的行，并计算剔除后的行的计数总和\n",
    "BLACKLIST = [\n",
    "    [26256, 26283], # mixed substrain with partial deletion in genomic RNA\n",
    "]\n",
    "\n",
    "for blkstart, blkend in BLACKLIST:\n",
    "    largedel_anno = largedel_anno[~((largedel_anno['j5'] == blkstart) &\n",
    "                                    (largedel_anno['j3'] == blkend))]\n",
    "largedel_anno['count'].sum()"
   ],
   "metadata": {
    "collapsed": false,
    "ExecuteTime": {
     "end_time": "2024-01-22T12:56:56.639635200Z",
     "start_time": "2024-01-22T12:56:56.240203900Z"
    }
   }
  },
  {
   "cell_type": "code",
   "execution_count": 14,
   "outputs": [
    {
     "data": {
      "text/plain": "(3262, 60626)"
     },
     "execution_count": 14,
     "metadata": {},
     "output_type": "execute_result"
    }
   ],
   "source": [
    "CANONICAL_START = 59 # 0-based, inc\n",
    "CANONICAL_END = 80 # 0-based, noninc\n",
    "\n",
    "is_cano = largedel_anno['j5'].between(CANONICAL_START, CANONICAL_END-1)\n",
    "ld_cano = largedel_anno[is_cano]\n",
    "ld_noncano = largedel_anno[~is_cano]\n",
    "\n",
    "ld_cano['count'].sum(), ld_noncano['count'].sum()\n",
    "# ld_cano"
   ],
   "metadata": {
    "collapsed": false,
    "ExecuteTime": {
     "end_time": "2024-01-22T12:56:59.059063400Z",
     "start_time": "2024-01-22T12:56:58.673207900Z"
    }
   }
  },
  {
   "cell_type": "code",
   "execution_count": 15,
   "outputs": [
    {
     "data": {
      "text/plain": "        chrom type   name  start    end\n0  MK584552.1  CDS  ORF1a    293  12601\n1  MK584552.1  CDS  ORF1b  12601  20637\n2  MK584552.1  CDS      S  20633  24791\n3  MK584552.1  CDS  ORF3a  24790  25465\n4  MK584552.1  CDS      E  25445  25676\n5  MK584552.1  CDS      M  25683  26364\n6  MK584552.1  CDS      N  26375  27701",
      "text/html": "<div>\n<style scoped>\n    .dataframe tbody tr th:only-of-type {\n        vertical-align: middle;\n    }\n\n    .dataframe tbody tr th {\n        vertical-align: top;\n    }\n\n    .dataframe thead th {\n        text-align: right;\n    }\n</style>\n<table border=\"1\" class=\"dataframe\">\n  <thead>\n    <tr style=\"text-align: right;\">\n      <th></th>\n      <th>chrom</th>\n      <th>type</th>\n      <th>name</th>\n      <th>start</th>\n      <th>end</th>\n    </tr>\n  </thead>\n  <tbody>\n    <tr>\n      <th>0</th>\n      <td>MK584552.1</td>\n      <td>CDS</td>\n      <td>ORF1a</td>\n      <td>293</td>\n      <td>12601</td>\n    </tr>\n    <tr>\n      <th>1</th>\n      <td>MK584552.1</td>\n      <td>CDS</td>\n      <td>ORF1b</td>\n      <td>12601</td>\n      <td>20637</td>\n    </tr>\n    <tr>\n      <th>2</th>\n      <td>MK584552.1</td>\n      <td>CDS</td>\n      <td>S</td>\n      <td>20633</td>\n      <td>24791</td>\n    </tr>\n    <tr>\n      <th>3</th>\n      <td>MK584552.1</td>\n      <td>CDS</td>\n      <td>ORF3a</td>\n      <td>24790</td>\n      <td>25465</td>\n    </tr>\n    <tr>\n      <th>4</th>\n      <td>MK584552.1</td>\n      <td>CDS</td>\n      <td>E</td>\n      <td>25445</td>\n      <td>25676</td>\n    </tr>\n    <tr>\n      <th>5</th>\n      <td>MK584552.1</td>\n      <td>CDS</td>\n      <td>M</td>\n      <td>25683</td>\n      <td>26364</td>\n    </tr>\n    <tr>\n      <th>6</th>\n      <td>MK584552.1</td>\n      <td>CDS</td>\n      <td>N</td>\n      <td>26375</td>\n      <td>27701</td>\n    </tr>\n  </tbody>\n</table>\n</div>"
     },
     "execution_count": 15,
     "metadata": {},
     "output_type": "execute_result"
    }
   ],
   "source": [
    "cdsanno"
   ],
   "metadata": {
    "collapsed": false,
    "ExecuteTime": {
     "end_time": "2024-01-22T12:57:01.674681Z",
     "start_time": "2024-01-22T12:57:01.243725500Z"
    }
   }
  },
  {
   "cell_type": "code",
   "execution_count": 16,
   "outputs": [
    {
     "data": {
      "text/plain": "1698"
     },
     "execution_count": 16,
     "metadata": {},
     "output_type": "execute_result"
    }
   ],
   "source": [
    "can_prod = pd.merge(ld_cano, cdsanno, left_on='startpos', right_on='start')\n",
    "can_prod = can_prod[can_prod['name'].notnull()]\n",
    "can_prod['count'].sum()"
   ],
   "metadata": {
    "collapsed": false,
    "ExecuteTime": {
     "end_time": "2024-01-22T12:57:05.900846Z",
     "start_time": "2024-01-22T12:57:05.417166500Z"
    }
   }
  },
  {
   "cell_type": "code",
   "execution_count": 17,
   "outputs": [
    {
     "data": {
      "text/plain": "       count\nname        \nS        783\nN        662\nM        161\nORF3a     92",
      "text/html": "<div>\n<style scoped>\n    .dataframe tbody tr th:only-of-type {\n        vertical-align: middle;\n    }\n\n    .dataframe tbody tr th {\n        vertical-align: top;\n    }\n\n    .dataframe thead th {\n        text-align: right;\n    }\n</style>\n<table border=\"1\" class=\"dataframe\">\n  <thead>\n    <tr style=\"text-align: right;\">\n      <th></th>\n      <th>count</th>\n    </tr>\n    <tr>\n      <th>name</th>\n      <th></th>\n    </tr>\n  </thead>\n  <tbody>\n    <tr>\n      <th>S</th>\n      <td>783</td>\n    </tr>\n    <tr>\n      <th>N</th>\n      <td>662</td>\n    </tr>\n    <tr>\n      <th>M</th>\n      <td>161</td>\n    </tr>\n    <tr>\n      <th>ORF3a</th>\n      <td>92</td>\n    </tr>\n  </tbody>\n</table>\n</div>"
     },
     "execution_count": 17,
     "metadata": {},
     "output_type": "execute_result"
    }
   ],
   "source": [
    "can_prod.groupby('name').agg({'count': 'sum'}).sort_values(by='count', ascending=False)"
   ],
   "metadata": {
    "collapsed": false,
    "ExecuteTime": {
     "end_time": "2024-01-22T12:57:10.878202600Z",
     "start_time": "2024-01-22T12:57:10.487534100Z"
    }
   }
  },
  {
   "cell_type": "code",
   "execution_count": 18,
   "outputs": [
    {
     "data": {
      "text/plain": "     j5     j3  count  startpos  productsize chrom type name  start  end\n2    63  17740    208     17745          963   NaN  NaN  NaN    NaN  NaN\n3    61   8985    206      9032           59   NaN  NaN  NaN    NaN  NaN\n4    62  17353    111     17400         1078   NaN  NaN  NaN    NaN  NaN\n8    65  14166     40     14190         2148   NaN  NaN  NaN    NaN  NaN\n9    65  18130     37     18148           12   NaN  NaN  NaN    NaN  NaN\n..   ..    ...    ...       ...          ...   ...  ...  ...    ...  ...\n359  69   5261      1      5285           15   NaN  NaN  NaN    NaN  NaN\n360  70  17387      1     17400         1078   NaN  NaN  NaN    NaN  NaN\n361  70  17747      1     17845           46   NaN  NaN  NaN    NaN  NaN\n362  70  19486      1     19504            4   NaN  NaN  NaN    NaN  NaN\n364  71  13797      1     13834           17   NaN  NaN  NaN    NaN  NaN\n\n[351 rows x 10 columns]",
      "text/html": "<div>\n<style scoped>\n    .dataframe tbody tr th:only-of-type {\n        vertical-align: middle;\n    }\n\n    .dataframe tbody tr th {\n        vertical-align: top;\n    }\n\n    .dataframe thead th {\n        text-align: right;\n    }\n</style>\n<table border=\"1\" class=\"dataframe\">\n  <thead>\n    <tr style=\"text-align: right;\">\n      <th></th>\n      <th>j5</th>\n      <th>j3</th>\n      <th>count</th>\n      <th>startpos</th>\n      <th>productsize</th>\n      <th>chrom</th>\n      <th>type</th>\n      <th>name</th>\n      <th>start</th>\n      <th>end</th>\n    </tr>\n  </thead>\n  <tbody>\n    <tr>\n      <th>2</th>\n      <td>63</td>\n      <td>17740</td>\n      <td>208</td>\n      <td>17745</td>\n      <td>963</td>\n      <td>NaN</td>\n      <td>NaN</td>\n      <td>NaN</td>\n      <td>NaN</td>\n      <td>NaN</td>\n    </tr>\n    <tr>\n      <th>3</th>\n      <td>61</td>\n      <td>8985</td>\n      <td>206</td>\n      <td>9032</td>\n      <td>59</td>\n      <td>NaN</td>\n      <td>NaN</td>\n      <td>NaN</td>\n      <td>NaN</td>\n      <td>NaN</td>\n    </tr>\n    <tr>\n      <th>4</th>\n      <td>62</td>\n      <td>17353</td>\n      <td>111</td>\n      <td>17400</td>\n      <td>1078</td>\n      <td>NaN</td>\n      <td>NaN</td>\n      <td>NaN</td>\n      <td>NaN</td>\n      <td>NaN</td>\n    </tr>\n    <tr>\n      <th>8</th>\n      <td>65</td>\n      <td>14166</td>\n      <td>40</td>\n      <td>14190</td>\n      <td>2148</td>\n      <td>NaN</td>\n      <td>NaN</td>\n      <td>NaN</td>\n      <td>NaN</td>\n      <td>NaN</td>\n    </tr>\n    <tr>\n      <th>9</th>\n      <td>65</td>\n      <td>18130</td>\n      <td>37</td>\n      <td>18148</td>\n      <td>12</td>\n      <td>NaN</td>\n      <td>NaN</td>\n      <td>NaN</td>\n      <td>NaN</td>\n      <td>NaN</td>\n    </tr>\n    <tr>\n      <th>...</th>\n      <td>...</td>\n      <td>...</td>\n      <td>...</td>\n      <td>...</td>\n      <td>...</td>\n      <td>...</td>\n      <td>...</td>\n      <td>...</td>\n      <td>...</td>\n      <td>...</td>\n    </tr>\n    <tr>\n      <th>359</th>\n      <td>69</td>\n      <td>5261</td>\n      <td>1</td>\n      <td>5285</td>\n      <td>15</td>\n      <td>NaN</td>\n      <td>NaN</td>\n      <td>NaN</td>\n      <td>NaN</td>\n      <td>NaN</td>\n    </tr>\n    <tr>\n      <th>360</th>\n      <td>70</td>\n      <td>17387</td>\n      <td>1</td>\n      <td>17400</td>\n      <td>1078</td>\n      <td>NaN</td>\n      <td>NaN</td>\n      <td>NaN</td>\n      <td>NaN</td>\n      <td>NaN</td>\n    </tr>\n    <tr>\n      <th>361</th>\n      <td>70</td>\n      <td>17747</td>\n      <td>1</td>\n      <td>17845</td>\n      <td>46</td>\n      <td>NaN</td>\n      <td>NaN</td>\n      <td>NaN</td>\n      <td>NaN</td>\n      <td>NaN</td>\n    </tr>\n    <tr>\n      <th>362</th>\n      <td>70</td>\n      <td>19486</td>\n      <td>1</td>\n      <td>19504</td>\n      <td>4</td>\n      <td>NaN</td>\n      <td>NaN</td>\n      <td>NaN</td>\n      <td>NaN</td>\n      <td>NaN</td>\n    </tr>\n    <tr>\n      <th>364</th>\n      <td>71</td>\n      <td>13797</td>\n      <td>1</td>\n      <td>13834</td>\n      <td>17</td>\n      <td>NaN</td>\n      <td>NaN</td>\n      <td>NaN</td>\n      <td>NaN</td>\n      <td>NaN</td>\n    </tr>\n  </tbody>\n</table>\n<p>351 rows × 10 columns</p>\n</div>"
     },
     "execution_count": 18,
     "metadata": {},
     "output_type": "execute_result"
    }
   ],
   "source": [
    "can_nonprod = pd.merge(ld_cano, cdsanno, left_on='startpos', right_on='start', how='left')\n",
    "can_nonprod = can_nonprod[can_nonprod['name'].isnull()]\n",
    "can_nonprod"
   ],
   "metadata": {
    "collapsed": false,
    "ExecuteTime": {
     "end_time": "2024-01-22T12:57:15.153888900Z",
     "start_time": "2024-01-22T12:57:14.782771900Z"
    }
   }
  },
  {
   "cell_type": "code",
   "execution_count": 19,
   "outputs": [],
   "source": [
    "from matplotlib.patches import Rectangle"
   ],
   "metadata": {
    "collapsed": false,
    "ExecuteTime": {
     "end_time": "2024-01-22T12:57:19.019401700Z",
     "start_time": "2024-01-22T12:57:18.863004800Z"
    }
   }
  },
  {
   "cell_type": "code",
   "execution_count": 20,
   "outputs": [],
   "source": [
    "def common_tune(ax):\n",
    "    ax.set_xlim(-.1, 29950)\n",
    "    ax.set_ylim(-12, 12)\n",
    "\n",
    "    for spname in 'top left right'.split():\n",
    "        ax.spines[spname].set_visible(False)\n",
    "    plt.setp(ax.get_yticklines(), visible=False)\n",
    "    plt.setp(ax.get_yticklabels(), visible=False)"
   ],
   "metadata": {
    "collapsed": false,
    "ExecuteTime": {
     "end_time": "2024-01-22T12:57:20.232479100Z",
     "start_time": "2024-01-22T12:57:20.078925900Z"
    }
   }
  },
  {
   "cell_type": "code",
   "execution_count": 21,
   "outputs": [],
   "source": [
    "ANCHOR_TOP = 1.5\n",
    "ANCHOR_BOTTOM = -1.5\n",
    "APEX_TOP = 9\n",
    "APEX_BOTTOM = -9\n",
    "\n",
    "def draw_bar(ax):\n",
    "    for _, row in cdsanno.iterrows():\n",
    "        if row['name'].startswith('nsp'):\n",
    "            continue\n",
    "        rect = Rectangle((row['start'], ANCHOR_BOTTOM), row['end'] - row['start'], ANCHOR_TOP-ANCHOR_BOTTOM, fc=orfcolors[row['name']])\n",
    "        ax.add_patch(rect)\n",
    "\n",
    "    rect = Rectangle((0, ANCHOR_BOTTOM), 265, ANCHOR_TOP-ANCHOR_BOTTOM, fc='#505050')\n",
    "    ax.add_patch(rect)\n",
    "    rect = Rectangle((265, ANCHOR_BOTTOM), 13441-265, ANCHOR_TOP-ANCHOR_BOTTOM, fc='#c5d9ea')\n",
    "    ax.add_patch(rect)\n",
    "    rect = Rectangle((13441, ANCHOR_BOTTOM), 21552-13441, ANCHOR_TOP-ANCHOR_BOTTOM, fc='#e8d2c4')\n",
    "    ax.add_patch(rect)\n",
    "    rect = Rectangle((27701, ANCHOR_BOTTOM), 28044-27701, ANCHOR_TOP-ANCHOR_BOTTOM, fc='#d0d0d0')\n",
    "    ax.add_patch(rect)"
   ],
   "metadata": {
    "collapsed": false,
    "ExecuteTime": {
     "end_time": "2024-01-22T12:57:22.350912Z",
     "start_time": "2024-01-22T12:57:22.205149600Z"
    }
   }
  },
  {
   "cell_type": "code",
   "execution_count": 22,
   "outputs": [],
   "source": [
    "import matplotlib.path as mpath\n",
    "import matplotlib.patches as mpatches\n",
    "Path = mpath.Path"
   ],
   "metadata": {
    "collapsed": false,
    "ExecuteTime": {
     "end_time": "2024-01-22T12:57:25.680195700Z",
     "start_time": "2024-01-22T12:57:25.560445500Z"
    }
   }
  },
  {
   "cell_type": "code",
   "execution_count": 23,
   "outputs": [],
   "source": [
    "def draw_junction(ax, start, end, top, height_coef=1, **kwds):\n",
    "    distance = (end - start)\n",
    "\n",
    "    height = max(1, height_coef * .015 * distance ** .6)\n",
    "    curve = 3 * height ** .5\n",
    "    pleft = start + distance / curve\n",
    "    pmid = start + distance / 2\n",
    "    pright = start + distance * (curve - 1) / curve\n",
    "    anchor = ANCHOR_TOP if top else ANCHOR_BOTTOM\n",
    "    apex = ANCHOR_TOP+height if top else ANCHOR_BOTTOM-height\n",
    "\n",
    "    if 'edgecolor' in kwds:\n",
    "        pass\n",
    "    elif top:\n",
    "        kwds['edgecolor'] = '#364fc7'\n",
    "    else:\n",
    "        kwds['edgecolor'] = '#c92a2a'\n",
    "    pp1 = mpatches.PathPatch(\n",
    "        Path([(start, anchor), (pleft, apex), (pmid, apex), (pright, apex), (end, anchor)],\n",
    "             [Path.MOVETO, Path.CURVE3, Path.CURVE3, Path.CURVE3, Path.MOVETO]),\n",
    "        fc=\"none\", transform=ax.transData, **kwds)\n",
    "    ax.add_patch(pp1)"
   ],
   "metadata": {
    "collapsed": false,
    "ExecuteTime": {
     "end_time": "2024-01-22T12:57:31.984033700Z",
     "start_time": "2024-01-22T12:57:31.806651400Z"
    }
   }
  },
  {
   "cell_type": "code",
   "execution_count": 24,
   "outputs": [],
   "source": [
    "ALPHA_MAP = [\n",
    "    [1000, 1.0],\n",
    "    [500, 0.5],\n",
    "    [200, 0.3],\n",
    "    [100, 0.2],\n",
    "    [50, 0.1],\n",
    "    [0, 0.01]\n",
    "]\n",
    "def calc_alpha(jnc):\n",
    "    for mincnt, alpha in ALPHA_MAP:\n",
    "        if jnc['count'] >= mincnt:\n",
    "            return alpha\n",
    "    return 0"
   ],
   "metadata": {
    "collapsed": false,
    "ExecuteTime": {
     "end_time": "2024-01-22T12:57:33.591050900Z",
     "start_time": "2024-01-22T12:57:33.455475400Z"
    }
   }
  },
  {
   "cell_type": "code",
   "execution_count": 26,
   "outputs": [
    {
     "data": {
      "text/plain": "<Figure size 540x200 with 1 Axes>",
      "image/png": "[encoded data removed]"
     },
     "metadata": {},
     "output_type": "display_data"
    }
   ],
   "source": [
    "fig, ax = plt.subplots(1, 1, figsize=(5.4, 2))\n",
    "\n",
    "draw_bar(ax)\n",
    "\n",
    "for _, jnc in can_prod.iloc[:100].iterrows():\n",
    "    alpha = calc_alpha(jnc)\n",
    "    draw_junction(ax, jnc.j5, jnc.j3, top=True,\n",
    "                  alpha=alpha, height_coef=1.2, lw=.6)\n",
    "\n",
    "common_tune(ax)\n",
    "plt.grid(False)\n",
    "# plt.savefig('result/plot-canonical.pdf',dpi=1200)\n",
    "# plt.savefig('result/plot-canonical.png',dpi=1200)"
   ],
   "metadata": {
    "collapsed": false,
    "ExecuteTime": {
     "end_time": "2024-01-22T12:57:41.509917200Z",
     "start_time": "2024-01-22T12:57:41.316218700Z"
    }
   }
  },
  {
   "cell_type": "code",
   "execution_count": 27,
   "outputs": [
    {
     "data": {
      "text/plain": "<Figure size 540x200 with 1 Axes>",
      "image/png": "[encoded data removed]"
     },
     "metadata": {},
     "output_type": "display_data"
    }
   ],
   "source": [
    "fig, ax = plt.subplots(1, 1, figsize=(5.4, 2))\n",
    "\n",
    "draw_bar(ax)\n",
    "\n",
    "for _, jnc in can_nonprod.iloc[:100].iterrows():\n",
    "    alpha = calc_alpha(jnc)\n",
    "    draw_junction(ax, jnc.j5, jnc.j3, top=True,\n",
    "                  alpha=alpha, height_coef=1.2, lw=.6)\n",
    "\n",
    "common_tune(ax)\n",
    "plt.grid(False)\n",
    "plt.savefig('result/plot-noncanonical.pdf',dpi=1200)\n",
    "plt.savefig('result/plot-noncanonical.png',dpi=1200)"
   ],
   "metadata": {
    "collapsed": false,
    "ExecuteTime": {
     "end_time": "2024-01-22T12:57:44.553198500Z",
     "start_time": "2024-01-22T12:57:43.320750300Z"
    }
   }
  },
  {
   "cell_type": "code",
   "execution_count": 28,
   "outputs": [
    {
     "data": {
      "text/plain": "<Figure size 540x200 with 1 Axes>",
      "image/png": "[encoded data removed]"
     },
     "metadata": {},
     "output_type": "display_data"
    }
   ],
   "source": [
    "fig, ax = plt.subplots(1, 1, figsize=(5.4, 2))\n",
    "\n",
    "draw_bar(ax)\n",
    "\n",
    "for _, jnc in ld_noncano.iloc[:100].iterrows():\n",
    "    alpha = calc_alpha(jnc)\n",
    "    draw_junction(ax, jnc.j5, jnc.j3, top=True,\n",
    "                  alpha=alpha, height_coef=1.2, lw=.6)\n",
    "\n",
    "common_tune(ax)\n",
    "plt.grid(False)\n",
    "plt.savefig('result/plot-nold-noncanonical.pdf',dpi=1200)\n",
    "plt.savefig('result/plot-nold-noncanonical.png',dpi=1200)"
   ],
   "metadata": {
    "collapsed": false,
    "ExecuteTime": {
     "end_time": "2024-01-22T12:57:47.705448500Z",
     "start_time": "2024-01-22T12:57:46.559214Z"
    }
   }
  },
  {
   "cell_type": "code",
   "execution_count": 30,
   "outputs": [
    {
     "data": {
      "text/plain": "<Figure size 540x200 with 1 Axes>",
      "image/png": "[encoded data removed]"
     },
     "metadata": {},
     "output_type": "display_data"
    }
   ],
   "source": [
    "fig, ax = plt.subplots(1, 1, figsize=(5.4, 2))\n",
    "\n",
    "draw_bar(ax)\n",
    "\n",
    "for _, jnc in newdata1.iloc[:100].iterrows():\n",
    "    alpha = calc_alpha(jnc)\n",
    "    draw_junction(ax, jnc.j5, jnc.j3, top=True,\n",
    "                  alpha=alpha, height_coef=1.2, lw=.6)\n",
    "\n",
    "common_tune(ax)\n",
    "plt.grid(False)\n",
    "# plt.savefig('result/plot-productsize9.pdf',dpi=1200)\n",
    "# plt.savefig('result/plot-productsize9.png',dpi=1200)"
   ],
   "metadata": {
    "collapsed": false,
    "ExecuteTime": {
     "end_time": "2024-01-22T12:57:54.379584600Z",
     "start_time": "2024-01-22T12:57:54.196543200Z"
    }
   }
  }
 ],
 "metadata": {
  "kernelspec": {
   "display_name": "Python 3",
   "language": "python",
   "name": "python3"
  },
  "language_info": {
   "codemirror_mode": {
    "name": "ipython",
    "version": 2
   },
   "file_extension": ".py",
   "mimetype": "text/x-python",
   "name": "python",
   "nbconvert_exporter": "python",
   "pygments_lexer": "ipython2",
   "version": "2.7.6"
  }
 },
 "nbformat": 4,
 "nbformat_minor": 0
}
