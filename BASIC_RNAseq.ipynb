{
 "cells": [
  {
   "cell_type": "markdown",
   "source": [
    "原始数据：\n",
    "https://osf.io/8f6n9 Vero_SCV2_1.fq0.zst\n",
    "https://osf.io/8f6n9 Vero_SCV2_2.fq0.zst"
   ],
   "metadata": {
    "collapsed": false
   }
  },
  {
   "cell_type": "markdown",
   "source": [
    "解压：\n",
    "zstd -d Vero_SCV2_1.fq0.zst && zstd -d Vero_SCV2_2.fq0.zst"
   ],
   "metadata": {
    "collapsed": false
   }
  },
  {
   "cell_type": "markdown",
   "source": [
    "去除低质量序列和接头：fastp v0.23.2\n",
    "fastp -i Vero_SCV2_1.fq0 -I Vero_SCV2_2.fq0 -o SARS2.read1.clean.fq -O SARS2.read2.clean.fq -q 20 -u 30 -f 10"
   ],
   "metadata": {
    "collapsed": false
   }
  },
  {
   "cell_type": "markdown",
   "source": [
    "fastx_toolkit v0.0.14\n",
    "下载绿猴全基因组序列：wget -O genome.fa.gz ftp://ftp.ensembl.org/pub/release-99/fasta/chlorocebus_sabaeus/dna/Chlorocebus_sabaeus.ChlSab1.1.dna_sm.toplevel.fa.gz\n",
    "下载绿猴全基因组序列注释：wget -O genome.gff3.gz ftp://ftp.ensembl.org/pub/release-99/gff3/chlorocebus_sabaeus/Chlorocebus_sabaeus.ChlSab1.1.99.gff3.gz\n",
    "合并基因组：(cat SARS-CoV-2.fa ont-refs.fa human-rDNA.fa; zcat genome.fa.gz) | fasta_formatter -w 72 | bgzip -@ 20 -c /dev/stdin > SARS2_link.genome.fa.gz\n",
    "合并注释：(cat SARS-CoV-2.gff3 ont-refs.gff3 human-rDNA.gff3 ;  zcat genome.gff3.gz) | bgzip -@ 20 -c /dev/stdin > SARS2_link.genome.gff3.gz"
   ],
   "metadata": {
    "collapsed": false
   }
  },
  {
   "cell_type": "markdown",
   "source": [
    "#建索引：samtools v1.19\n",
    "#samtools faidx SARS2_link.genome.fa.gz"
   ],
   "metadata": {
    "collapsed": false
   }
  },
  {
   "cell_type": "markdown",
   "source": [
    "解压基因组：\n",
    "zcat SARS2_link.genome.fa.gz > SARS2_link.genome.fa"
   ],
   "metadata": {
    "collapsed": false
   }
  },
  {
   "cell_type": "markdown",
   "source": [
    "生成star索引：STAR v2.7.1a\n",
    "mkdir -p SARS2_link.genome.star\n",
    "STAR --runThreadN 50 --runMode genomeGenerate --genomeDir SARS2_link.genome.star --genomeFastaFiles SARS2_link.genome.fa"
   ],
   "metadata": {
    "collapsed": false
   }
  },
  {
   "cell_type": "markdown",
   "source": [
    "star比对：\n",
    "STAR --runThreadN 50 --genomeDir reference/SARS2_link.genome.star --readFilesIn CRR197318_1.fq.gz CRR197318_2.fq.gz --readFilesCommand zcat --outFilterType BySJout --outFilterMultimapNmax 20 --alignSJoverhangMin 8 --alignSJDBoverhangMin 1 --outSJfilterOverhangMin 12 12 12 12 --outSJfilterCountUniqueMin 1 1 1 1 --outSJfilterCountTotalMin 1 1 1 1 --outSJfilterDistToOtherSJmin 0 0 0 0 --outFilterMismatchNmax 999 --outFilterMismatchNoverReadLmax 0.04 --scoreGapNoncan -4 --scoreGapATAC -4 --chimOutType Junctions WithinBAM HardClip --chimScoreJunctionNonGTAG 0 --alignSJstitchMismatchNmax -1 -1 -1 -1 --alignIntronMin 20 --alignIntronMax 1000000 --alignMatesGapMax 1000000 --chimSegmentMin 20 --outFileNamePrefix SARS2.genome.star --outSAMmultNmax 32 --outSAMtype BAM SortedByCoordinate  --outSAMunmapped Within KeepPairs --sjdbGTFfile references/SARS2_link.genome.gtf --quantMode GeneCounts"
   ],
   "metadata": {
    "collapsed": false
   }
  },
  {
   "cell_type": "markdown",
   "source": [
    "ln alignments/SARS2.genome.star/Aligned.sortedByCoord.out.bam alignments/SARS2.genome.bam"
   ],
   "metadata": {
    "collapsed": false
   }
  },
  {
   "cell_type": "markdown",
   "source": [
    "给bam文件建索引:\n",
    "samtools index SARS2.genome.bam"
   ],
   "metadata": {
    "collapsed": false
   }
  },
  {
   "cell_type": "markdown",
   "source": [
    "提取比对上病毒的reads:\n",
    "samtools view -@ 50 -b -o alignments/SARS2.virus.bam alignments/SARS2.genome.bam chrSCV\n",
    "samtools view -c -f 1 -F 12 test.bam"
   ],
   "metadata": {
    "collapsed": false
   }
  },
  {
   "cell_type": "markdown",
   "source": [
    "提取cigar值中存在jump的reads:\n",
    "samtools  view alignments/SARS2.virus.bam | awk 'BEGIN {{ OFS=\"\\t\"; }} {{ if ($6 ~ /N/) print $4, $6; }}' | bgzip -c -@ 4 /dev/stdin > jumpstats/SARS2.jump-cigars.txt.gz"
   ],
   "metadata": {
    "collapsed": false
   }
  },
  {
   "cell_type": "markdown",
   "source": [
    "统计jump的位置:\n",
    "zcat jumpstats/SARS2.jump-cigars.txt.gz | python convert-cigars.py | sort -k1,2n | uniq -c | awk '{{ OFS=\"\\t\"; }} {{ print $2, $3, $1; }}' | bgzip -c /dev/stdin > jumpstats/SARS2.jumps.txt.gz"
   ],
   "metadata": {
    "collapsed": false
   }
  },
  {
   "cell_type": "markdown",
   "source": [
    "统计覆盖度:bedtools v\n",
    "bedtools genomecov -ibam alignments/SARS2.virus.bam  -dz -split > tables/SARS2.virus.coverage.txt"
   ],
   "metadata": {
    "collapsed": false
   }
  }
 ],
 "metadata": {
  "kernelspec": {
   "display_name": "Python 3",
   "language": "python",
   "name": "python3"
  },
  "language_info": {
   "codemirror_mode": {
    "name": "ipython",
    "version": 2
   },
   "file_extension": ".py",
   "mimetype": "text/x-python",
   "name": "python",
   "nbconvert_exporter": "python",
   "pygments_lexer": "ipython2",
   "version": "2.7.6"
  }
 },
 "nbformat": 4,
 "nbformat_minor": 0
}
