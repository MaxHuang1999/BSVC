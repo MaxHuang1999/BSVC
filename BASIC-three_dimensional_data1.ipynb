{
 "cells": [
  {
   "cell_type": "markdown",
   "metadata": {},
   "source": [
    "D:/360MoveData/Users/dgwei/Desktop/文章/Scientific_data-Sunju/result/result第二版.pptx\n",
    "vRIC-seq数据上游分析结果可视化"
   ]
  },
  {
   "cell_type": "markdown",
   "metadata": {},
   "source": [
    "Figure 1a 原始数据清洗\n",
    "输入：D:/360MoveData/Users/dgwei/Desktop/文章/Scientific_data-Sunju/data/result.xlsx/sheet1\n",
    "输出：D:/360MoveData/Users/dgwei/Desktop/文章/Scientific_data-Sunju/图片/Figure1a.pdf\n",
    "代码：无"
   ]
  },
  {
   "cell_type": "markdown",
   "metadata": {},
   "source": [
    "Figure 1b 测序数据比对情况\n",
    "输入：D:/360MoveData/Users/dgwei/Desktop/文章/Scientific_data-Sunju/data/PDCoV-rep1.genome.starChimeric.out.junction\n",
    "\t D:/360MoveData/Users/dgwei/Desktop/文章/Scientific_data-Sunju/data/PDCoV-rep2.genome.starChimeric.out.junction\n",
    "\t D:/360MoveData/Users/dgwei/Desktop/文章/Scientific_data-Sunju/data/result.xlsx/sheet4,5,6,7\n",
    "输出：D:/360MoveData/Users/dgwei/Desktop/文章/Scientific_data-Sunju/图片/Figure1brep1.pdf\n",
    "\t D:/360MoveData/Users/dgwei/Desktop/文章/Scientific_data-Sunju/图片/Figure1brep2.pdf\n",
    "代码：python,BASIC-three_dimensional_data1,数据处理\n",
    "\t R,Distribution of reads in PDCoV vRIC-seq sequencing data,可视化"
   ]
  },
  {
   "cell_type": "code",
   "execution_count": 37,
   "metadata": {
    "ExecuteTime": {
     "end_time": "2024-02-28T13:58:06.872264100Z",
     "start_time": "2024-02-28T13:58:06.550209700Z"
    }
   },
   "outputs": [],
   "source": [
    "##处理PDCoV.genome.starChimeric.out.junction文件,找出交互reads\n",
    "import os\n",
    "os.chdir(\"D:/360MoveData/Users/dgwei/Desktop/BASIC/三维数据分析流程/原始数据处理/PEDV/virion/\")\n",
    "from plotly.offline import plot\n",
    "from IPython.display import IFrame\n",
    "import pandas as pd\n",
    "import numpy as np\n",
    "import shutil#os模块的补充，提供了复制、移动、删除、压缩、解压等操作\n",
    "from tabulate import tabulate#打印漂亮的表格数据\n",
    "import matplotlib.pyplot as plt"
   ]
  },
  {
   "cell_type": "code",
   "execution_count": 38,
   "metadata": {
    "ExecuteTime": {
     "end_time": "2024-02-28T13:58:07.089202800Z",
     "start_time": "2024-02-28T13:58:06.559256Z"
    }
   },
   "outputs": [],
   "source": [
    "junction=pd.read_csv('PEDV.genome.starChimeric.out.junction', sep='\\t',header=None)"
   ]
  },
  {
   "cell_type": "code",
   "execution_count": 43,
   "metadata": {
    "ExecuteTime": {
     "end_time": "2024-02-28T14:01:41.569865100Z",
     "start_time": "2024-02-28T14:01:41.300250500Z"
    }
   },
   "outputs": [
    {
     "data": {
      "text/plain": "223941"
     },
     "execution_count": 43,
     "metadata": {},
     "output_type": "execute_result"
    }
   ],
   "source": [
    "#统计 host to virus reads number\n",
    "# junction_v2h=junction[(junction[0]!=\"KT336560.1\") | (junction[3]!=\"KT336560.1\")]\n",
    "junction_h2v=junction[(junction[0]!=\"MK584552.1\") | (junction[3]!=\"MK584552.1\")]\n",
    "len(junction_h2v)"
   ]
  },
  {
   "cell_type": "code",
   "execution_count": 48,
   "metadata": {
    "ExecuteTime": {
     "end_time": "2024-02-28T14:10:11.685357900Z",
     "start_time": "2024-02-28T14:10:11.380802800Z"
    }
   },
   "outputs": [
    {
     "data": {
      "text/plain": "521"
     },
     "execution_count": 48,
     "metadata": {},
     "output_type": "execute_result"
    }
   ],
   "source": [
    "#统计 virus to virus reads number\n",
    "junction_v2v=junction[ (junction[0]==\"MK584552.1\") | (junction[3]==\"MK584552.1\")]\n",
    "len(junction_v2v)"
   ]
  },
  {
   "cell_type": "code",
   "execution_count": 44,
   "metadata": {
    "ExecuteTime": {
     "end_time": "2024-02-28T14:02:41.908114200Z",
     "start_time": "2024-02-28T14:02:41.630155600Z"
    }
   },
   "outputs": [
    {
     "data": {
      "text/plain": "223472"
     },
     "execution_count": 44,
     "metadata": {},
     "output_type": "execute_result"
    }
   ],
   "source": [
    "#统计 host to host reads number\n",
    "junction_h2h=junction[ (junction[0]!=\"MK584552.1\") & (junction[3]!=\"MK584552.1\")]\n",
    "len(junction_h2h)"
   ]
  },
  {
   "cell_type": "code",
   "execution_count": 47,
   "outputs": [
    {
     "data": {
      "text/plain": "0.07895665652961235"
     },
     "execution_count": 47,
     "metadata": {},
     "output_type": "execute_result"
    }
   ],
   "source": [
    "109616/1388306"
   ],
   "metadata": {
    "collapsed": false,
    "ExecuteTime": {
     "end_time": "2024-02-28T14:09:39.585909500Z",
     "start_time": "2024-02-28T14:09:39.271965500Z"
    }
   }
  },
  {
   "cell_type": "code",
   "execution_count": 49,
   "outputs": [
    {
     "data": {
      "text/plain": "0.0003752774964597142"
     },
     "execution_count": 49,
     "metadata": {},
     "output_type": "execute_result"
    }
   ],
   "source": [
    "521/1388306"
   ],
   "metadata": {
    "collapsed": false,
    "ExecuteTime": {
     "end_time": "2024-02-28T14:10:24.402114Z",
     "start_time": "2024-02-28T14:10:24.207507100Z"
    }
   }
  },
  {
   "cell_type": "code",
   "execution_count": 50,
   "outputs": [
    {
     "data": {
      "text/plain": "0.9206680659739279"
     },
     "execution_count": 50,
     "metadata": {},
     "output_type": "execute_result"
    }
   ],
   "source": [
    "(1388306-109616-521)/1388306"
   ],
   "metadata": {
    "collapsed": false,
    "ExecuteTime": {
     "end_time": "2024-02-28T14:11:13.737447200Z",
     "start_time": "2024-02-28T14:11:13.628166100Z"
    }
   }
  },
  {
   "cell_type": "markdown",
   "metadata": {},
   "source": [
    "Figure 2a 有效嵌合reads占比\n",
    "输入：D:/360MoveData/Users/dgwei/Desktop/文章/Scientific_data-Sunju/data/result.xlsx/sheet8\n",
    "输出：D:/360MoveData/Users/dgwei/Desktop/文章/Scientific_data-Sunju/图片/Figure 2a\n",
    "代码：无"
   ]
  },
  {
   "cell_type": "markdown",
   "metadata": {},
   "source": [
    "Figure 2b 统计有效Chimeric reads 远距离连接位点处胞嘧啶的占比\n",
    "输入：GenomeChimeric.out.processed.sam\n",
    "\t D:/360MoveData/Users/dgwei/Desktop/文章/Scientific_data-Sunju/reconstruct_reads.pl\n",
    "\t D:/360MoveData/Users/dgwei/Desktop/文章/Scientific_data-Sunju/find_fusion_point.pl\n",
    "输出：D:/360MoveData/Users/dgwei/Desktop/文章/Scientific_data-Sunju/图片/Figure 2b\n",
    "代码：linux,数据处理\n",
    "\t python,BASIC-three_dimensional_data1,数据处理+可视化"
   ]
  },
  {
   "cell_type": "markdown",
   "metadata": {},
   "source": [
    "perl ../../reconstruct_reads.pl 27_read1_toGenomeChimeric.out.processed.sam kt336560.1.fasta read2\n",
    "perl ../../reconstruct_reads.pl 30_read1_toGenomeChimeric.out.processed.sam kt336560.1.fasta read1\n",
    "perl ../../find_fusion_point.pl read1.read_RNA_RNA_MM.fq > 27_read1_fusion_MM.fq\n",
    "perl ../../find_fusion_point.pl read1.read_RNA_RNA_MP.fq > 27_read1_fusion_MP.fq\n",
    "perl ../../find_fusion_point.pl read1.read_RNA_RNA_PM.fq > 27_read1_fusion_PM.fq\n",
    "perl ../../find_fusion_point.pl read1.read_RNA_RNA_PP.fq > 27_read1_fusion_PP.fq\n",
    "cat 27_read1_fusion_MM.fq 27_read1_fusion_MP.fq 27_read1_fusion_PM.fq 27_read1_fusion_PP.fq > 27_merge.fq\n",
    "fastqc 27_merge.fq"
   ]
  },
  {
   "cell_type": "code",
   "execution_count": 76,
   "metadata": {
    "ExecuteTime": {
     "end_time": "2024-02-28T15:53:23.133863400Z",
     "start_time": "2024-02-28T15:53:22.993930400Z"
    }
   },
   "outputs": [],
   "source": [
    "content1=pd.read_csv('D:/360MoveData/Users/dgwei/Desktop/BASIC/三维数据分析流程/原始数据处理/PEDV/virion/rep1.txt', sep='\\t')\n",
    "content2=pd.read_csv('D:/360MoveData/Users/dgwei/Desktop/BASIC/三维数据分析流程/原始数据处理/PEDV/virion/rep2.txt', sep='\\t')"
   ]
  },
  {
   "cell_type": "code",
   "execution_count": 77,
   "metadata": {
    "ExecuteTime": {
     "end_time": "2024-02-28T15:53:24.002848900Z",
     "start_time": "2024-02-28T15:53:23.864178200Z"
    }
   },
   "outputs": [
    {
     "data": {
      "text/plain": "    Base          G\n0    -20  20.945047\n1    -19  22.381208\n2    -18  21.760928\n3    -17  22.448170\n4    -16  21.765333\n5    -15  21.582068\n6    -14  21.321268\n7    -13  21.577663\n8    -12  21.715111\n9    -11  22.959197\n10   -10  23.297532\n11    -9  22.648176\n12    -8  22.482533\n13    -7  21.587355\n14    -6  20.502745\n15    -5  20.823458\n16    -4  19.035745\n17    -3  18.287708\n18    -2  15.473537\n19    -1  10.572086\n20     0  47.533415\n21     1  11.958025\n22     2  19.787307\n23     3  20.884252\n24     4  20.849009\n25     5  21.581187\n26     6  22.214684\n27     7  21.886041\n28     8  21.826128\n29     9  22.041111\n30    10  22.964484\n31    11  20.740636\n32    12  21.849036\n33    13  22.074592\n34    14  22.224376\n35    15  22.045517\n36    16  20.258685\n37    17  19.735323\n38    18  20.989101\n39    19  21.343295\n40    20  21.401447",
      "text/html": "<div>\n<style scoped>\n    .dataframe tbody tr th:only-of-type {\n        vertical-align: middle;\n    }\n\n    .dataframe tbody tr th {\n        vertical-align: top;\n    }\n\n    .dataframe thead th {\n        text-align: right;\n    }\n</style>\n<table border=\"1\" class=\"dataframe\">\n  <thead>\n    <tr style=\"text-align: right;\">\n      <th></th>\n      <th>Base</th>\n      <th>G</th>\n    </tr>\n  </thead>\n  <tbody>\n    <tr>\n      <th>0</th>\n      <td>-20</td>\n      <td>20.945047</td>\n    </tr>\n    <tr>\n      <th>1</th>\n      <td>-19</td>\n      <td>22.381208</td>\n    </tr>\n    <tr>\n      <th>2</th>\n      <td>-18</td>\n      <td>21.760928</td>\n    </tr>\n    <tr>\n      <th>3</th>\n      <td>-17</td>\n      <td>22.448170</td>\n    </tr>\n    <tr>\n      <th>4</th>\n      <td>-16</td>\n      <td>21.765333</td>\n    </tr>\n    <tr>\n      <th>5</th>\n      <td>-15</td>\n      <td>21.582068</td>\n    </tr>\n    <tr>\n      <th>6</th>\n      <td>-14</td>\n      <td>21.321268</td>\n    </tr>\n    <tr>\n      <th>7</th>\n      <td>-13</td>\n      <td>21.577663</td>\n    </tr>\n    <tr>\n      <th>8</th>\n      <td>-12</td>\n      <td>21.715111</td>\n    </tr>\n    <tr>\n      <th>9</th>\n      <td>-11</td>\n      <td>22.959197</td>\n    </tr>\n    <tr>\n      <th>10</th>\n      <td>-10</td>\n      <td>23.297532</td>\n    </tr>\n    <tr>\n      <th>11</th>\n      <td>-9</td>\n      <td>22.648176</td>\n    </tr>\n    <tr>\n      <th>12</th>\n      <td>-8</td>\n      <td>22.482533</td>\n    </tr>\n    <tr>\n      <th>13</th>\n      <td>-7</td>\n      <td>21.587355</td>\n    </tr>\n    <tr>\n      <th>14</th>\n      <td>-6</td>\n      <td>20.502745</td>\n    </tr>\n    <tr>\n      <th>15</th>\n      <td>-5</td>\n      <td>20.823458</td>\n    </tr>\n    <tr>\n      <th>16</th>\n      <td>-4</td>\n      <td>19.035745</td>\n    </tr>\n    <tr>\n      <th>17</th>\n      <td>-3</td>\n      <td>18.287708</td>\n    </tr>\n    <tr>\n      <th>18</th>\n      <td>-2</td>\n      <td>15.473537</td>\n    </tr>\n    <tr>\n      <th>19</th>\n      <td>-1</td>\n      <td>10.572086</td>\n    </tr>\n    <tr>\n      <th>20</th>\n      <td>0</td>\n      <td>47.533415</td>\n    </tr>\n    <tr>\n      <th>21</th>\n      <td>1</td>\n      <td>11.958025</td>\n    </tr>\n    <tr>\n      <th>22</th>\n      <td>2</td>\n      <td>19.787307</td>\n    </tr>\n    <tr>\n      <th>23</th>\n      <td>3</td>\n      <td>20.884252</td>\n    </tr>\n    <tr>\n      <th>24</th>\n      <td>4</td>\n      <td>20.849009</td>\n    </tr>\n    <tr>\n      <th>25</th>\n      <td>5</td>\n      <td>21.581187</td>\n    </tr>\n    <tr>\n      <th>26</th>\n      <td>6</td>\n      <td>22.214684</td>\n    </tr>\n    <tr>\n      <th>27</th>\n      <td>7</td>\n      <td>21.886041</td>\n    </tr>\n    <tr>\n      <th>28</th>\n      <td>8</td>\n      <td>21.826128</td>\n    </tr>\n    <tr>\n      <th>29</th>\n      <td>9</td>\n      <td>22.041111</td>\n    </tr>\n    <tr>\n      <th>30</th>\n      <td>10</td>\n      <td>22.964484</td>\n    </tr>\n    <tr>\n      <th>31</th>\n      <td>11</td>\n      <td>20.740636</td>\n    </tr>\n    <tr>\n      <th>32</th>\n      <td>12</td>\n      <td>21.849036</td>\n    </tr>\n    <tr>\n      <th>33</th>\n      <td>13</td>\n      <td>22.074592</td>\n    </tr>\n    <tr>\n      <th>34</th>\n      <td>14</td>\n      <td>22.224376</td>\n    </tr>\n    <tr>\n      <th>35</th>\n      <td>15</td>\n      <td>22.045517</td>\n    </tr>\n    <tr>\n      <th>36</th>\n      <td>16</td>\n      <td>20.258685</td>\n    </tr>\n    <tr>\n      <th>37</th>\n      <td>17</td>\n      <td>19.735323</td>\n    </tr>\n    <tr>\n      <th>38</th>\n      <td>18</td>\n      <td>20.989101</td>\n    </tr>\n    <tr>\n      <th>39</th>\n      <td>19</td>\n      <td>21.343295</td>\n    </tr>\n    <tr>\n      <th>40</th>\n      <td>20</td>\n      <td>21.401447</td>\n    </tr>\n  </tbody>\n</table>\n</div>"
     },
     "execution_count": 77,
     "metadata": {},
     "output_type": "execute_result"
    }
   ],
   "source": [
    "column_names = ['Base', 'G']\n",
    "ccontent1=content1[column_names]\n",
    "ccontent2=content2[column_names]\n",
    "ccontent1"
   ]
  },
  {
   "cell_type": "code",
   "execution_count": 81,
   "metadata": {
    "ExecuteTime": {
     "end_time": "2024-02-28T15:54:40.827133400Z",
     "start_time": "2024-02-28T15:54:40.557266700Z"
    }
   },
   "outputs": [
    {
     "data": {
      "text/plain": "<Figure size 640x480 with 1 Axes>",
      "image/png": "[encoded data removed]"
     },
     "metadata": {},
     "output_type": "display_data"
    }
   ],
   "source": [
    "plt.plot(ccontent1['Base'],ccontent1['G'],marker='^',color='#C3D9AB',label='rep1')\n",
    "plt.plot(ccontent2['Base'],ccontent2['G'],marker='o',color='#FEBCAC',label='rep2')\n",
    "#FEBCAC\n",
    "#C3D9AB\n",
    "plt.xticks(range(-20, 21, 10))\n",
    "plt.yticks(range(0, 75, 20))\n",
    "plt.gca().set_yticklabels(['{:.0f}%'.format(val) for val in plt.gca().get_yticks()])\n",
    "plt.gca().spines['top'].set_visible(False)\n",
    "plt.gca().spines['right'].set_visible(False)\n",
    "plt.legend(loc='upper left',fontsize=\"xx-large\",frameon=False)#frameon去除边框\n",
    "\n",
    "plt.savefig('D:/360MoveData/Users/dgwei/Desktop/BASIC/三维数据分析流程/原始数据处理/PEDV/virion/base.pdf')\n",
    "plt.savefig('D:/360MoveData/Users/dgwei/Desktop/BASIC/三维数据分析流程/原始数据处理/PEDV/virion/base.png')\n"
   ]
  },
  {
   "cell_type": "markdown",
   "metadata": {},
   "source": [
    "Figure 2c 统计Chimeric reads覆盖度相关性\n",
    "输入：D:/360MoveData/Users/dgwei/Desktop/文章/Scientific_data-Sunju/result/chimeric_coverage.txt\n",
    "输出：D:/360MoveData/Users/dgwei/Desktop/文章/Scientific_data-Sunju/图片/Figure 2c\n",
    "代码：python,BASIC-three_dimensional_data1,数据处理+可视化"
   ]
  },
  {
   "cell_type": "code",
   "execution_count": 1,
   "metadata": {
    "ExecuteTime": {
     "end_time": "2024-04-17T06:43:59.673414200Z",
     "start_time": "2024-04-17T06:43:57.357114100Z"
    }
   },
   "outputs": [],
   "source": [
    "import numpy as np\n",
    "import xlrd\n",
    "from scipy import sparse\n",
    "import matplotlib.pyplot as plt\n",
    "import pandas as pd"
   ]
  },
  {
   "cell_type": "code",
   "execution_count": 2,
   "metadata": {
    "ExecuteTime": {
     "end_time": "2024-04-17T06:44:34.963016500Z",
     "start_time": "2024-04-17T06:44:34.844018800Z"
    }
   },
   "outputs": [],
   "source": [
    "file_dir=\"D:/360MoveData/Users/dgwei/Desktop/BASIC/三维数据分析流程/原始数据处理/PEDV/virion/\"\n",
    "# file_dir=\"D:/360MoveData/Users/dgwei/Desktop/\"\n",
    "def get_matrix_npz(M1,M2):\n",
    "    '''\n",
    "    transform a three tuple into a matrix\n",
    "    '''\n",
    "    S1 = sparse.coo_matrix((M1['value'],(np.asarray(M1['S'], dtype=int),np.asarray(M1['E'], dtype=int)))).toarray()\n",
    "    S2 = sparse.coo_matrix((M2['value'],(np.asarray(M2['E'], dtype=int),np.asarray(M2['S'], dtype=int)))).toarray()\n",
    "    matrix = np.zeros((max(S2.shape),max(S1.shape)))\n",
    "    matrix[np.nonzero(S1)] = S1[np.nonzero(S1)]\n",
    "    matrix[np.nonzero(S2)] = S2[np.nonzero(S2)]\n",
    "    return matrix"
   ]
  },
  {
   "cell_type": "code",
   "execution_count": 3,
   "metadata": {
    "ExecuteTime": {
     "end_time": "2024-04-17T06:45:27.625807900Z",
     "start_time": "2024-04-17T06:45:14.387029300Z"
    }
   },
   "outputs": [],
   "source": [
    "Sars1 = np.loadtxt(file_dir +'PEDV-1_in_Virion.5nt.raw.matrix', usecols=[0,1,2], dtype=[('S','<i4'),('E','<i4'),('value','<f8')])\n",
    "res = 5\n",
    "Sars1['S'] = Sars1['S'] / res\n",
    "Sars1['E'] = Sars1['E'] / res\n",
    "ma_Sars1 = get_matrix_npz(Sars1,Sars1)"
   ]
  },
  {
   "cell_type": "code",
   "execution_count": 4,
   "metadata": {
    "ExecuteTime": {
     "end_time": "2024-04-17T06:45:41.842923100Z",
     "start_time": "2024-04-17T06:45:27.626807Z"
    }
   },
   "outputs": [],
   "source": [
    "Sars2 = np.loadtxt(file_dir +'PEDV-2_in_Virion.5nt.raw.matrix', usecols=[0,1,2], dtype=[('S','<i4'),('E','<i4'),('value','<f8')])\n",
    "res = 5\n",
    "Sars2['S'] = Sars2['S'] / res\n",
    "Sars2['E'] = Sars2['E'] / res\n",
    "ma_Sars2 = get_matrix_npz(Sars2,Sars2)"
   ]
  },
  {
   "cell_type": "code",
   "execution_count": 5,
   "metadata": {
    "ExecuteTime": {
     "end_time": "2024-04-17T06:45:43.838895100Z",
     "start_time": "2024-04-17T06:45:41.832890600Z"
    }
   },
   "outputs": [],
   "source": [
    "cum_pdcov1 = ma_Sars1.sum(axis=1)\n",
    "cum_pdcov2 = ma_Sars2.sum(axis=1)"
   ]
  },
  {
   "cell_type": "code",
   "execution_count": 7,
   "metadata": {
    "ExecuteTime": {
     "end_time": "2024-04-17T06:46:09.080385400Z",
     "start_time": "2024-04-17T06:46:08.930394500Z"
    }
   },
   "outputs": [
    {
     "data": {
      "text/plain": "0.998725757791977"
     },
     "execution_count": 7,
     "metadata": {},
     "output_type": "execute_result"
    }
   ],
   "source": [
    "cor = np.corrcoef(np.log10(cum_pdcov1+1),np.log10(cum_pdcov2+1))[0,1]\n",
    "cor"
   ]
  },
  {
   "cell_type": "code",
   "execution_count": 23,
   "outputs": [
    {
     "data": {
      "text/plain": "17.064469118416675"
     },
     "execution_count": 23,
     "metadata": {},
     "output_type": "execute_result"
    }
   ],
   "source": [
    "max(np.log2(cum_pdcov1+1))"
   ],
   "metadata": {
    "collapsed": false,
    "ExecuteTime": {
     "end_time": "2024-02-28T13:26:33.121103200Z",
     "start_time": "2024-02-28T13:26:32.997576400Z"
    }
   }
  },
  {
   "cell_type": "code",
   "execution_count": 12,
   "metadata": {
    "ExecuteTime": {
     "end_time": "2024-04-17T06:50:43.656057Z",
     "start_time": "2024-04-17T06:50:42.544885600Z"
    }
   },
   "outputs": [
    {
     "data": {
      "text/plain": "<Figure size 640x480 with 1 Axes>",
      "image/png": "[encoded data removed]"
     },
     "metadata": {},
     "output_type": "display_data"
    }
   ],
   "source": [
    "plt.figure()\n",
    "# plt.scatter(df['coverage1'],df['coverage1'],color='#C3D9AB',alpha=0.5)\n",
    "plt.scatter(np.log10(cum_pdcov1+1),np.log10(cum_pdcov2+1),color='#C3D9AB',alpha=0.5)\n",
    "\n",
    "plt.xticks(range(0, 7, 1))\n",
    "plt.yticks(range(0, 7, 1))\n",
    "plt.xticks(fontsize=15)\n",
    "plt.yticks(fontsize=15)\n",
    "plt.text(1, 5, f'R= {cor:.4f}', ha='left', va='top',fontsize=15)\n",
    "\n",
    "plt.grid(False)\n",
    "plt.gca().spines['top'].set_visible(False)\n",
    "plt.gca().spines['right'].set_visible(False)\n",
    "# plt.rcParams['xtick.color']=\"b\"\n",
    "# plt.rcParams['ytick.color']=\"b\"\n",
    "# 设置 x 轴刻度线标记\n",
    "plt.tick_params(axis='x', which='both', bottom=True, top=False, labelbottom=True,colors='black')\n",
    "# 设置 y 轴刻度线标记\n",
    "plt.tick_params(axis='y', which='both', left=True, right=False, labelleft=True,colors='black')\n",
    "# plt.axvline(x=0, linestyle='dashed', color='#3888C1',alpha=0.5)\n",
    "# plt.legend(loc='upper right',fontsize=\"xx-large\",frameon=False)#frameon去除边框\n",
    "x_axis = plt.gca().spines['bottom']\n",
    "y_axis = plt.gca().spines['left']\n",
    "\n",
    "# 设置 x 轴和 y 轴的颜色为黑色\n",
    "x_axis.set_color('black')\n",
    "y_axis.set_color('black')\n",
    "# plt.savefig('D:/360MoveData/Users/dgwei/Desktop/BASIC/三维数据分析流程/原始数据处理/PEDV/virion/coverage.pdf')\n",
    "# plt.savefig('D:/360MoveData/Users/dgwei/Desktop/BASIC/三维数据分析流程/原始数据处理/PEDV/virion/coverage.png')\n",
    "plt.savefig('D:/360MoveData/Users/dgwei/Desktop/文章/Scientific_data-Sunju/文章/coverage.pdf')\n",
    "plt.savefig('D:/360MoveData/Users/dgwei/Desktop/文章/Scientific_data-Sunju/文章/coverage.png')"
   ]
  },
  {
   "cell_type": "markdown",
   "metadata": {},
   "source": [
    "Figure 2d 统计Chimeric reads覆盖度相关性\n",
    "输入：D:/360MoveData/Users/dgwei/Desktop/文章/Scientific_data-Sunju/result/30_in_Virion.1nt.none.matrix\n",
    "\t D:/360MoveData/Users/dgwei/Desktop/文章/Scientific_data-Sunju/result/chimeric_coverage1.txt\n",
    "\t D:/360MoveData/Users/dgwei/Desktop/文章/Scientific_data-Sunju/result/chimeric_coverage2.txt\n",
    "\t D:/360MoveData/Users/dgwei/Desktop/文章/Scientific_data-Sunju/result/chimeric_coverage1.roll100.txt\n",
    "\t D:/360MoveData/Users/dgwei/Desktop/文章/Scientific_data-Sunju/result/chimeric_coverage2.roll100.txt\n",
    "\t D:/360MoveData/Users/dgwei/Desktop/文章/Scientific_data-Sunju/au_content1.txt\n",
    "\t D:/360MoveData/Users/dgwei/Desktop/文章/Scientific_data-Sunju/au_content2.txt\n",
    "输出：D:/360MoveData/Users/dgwei/Desktop/文章/Scientific_data-Sunju/图片/Figure 2d rep1\n",
    "\t D:/360MoveData/Users/dgwei/Desktop/文章/Scientific_data-Sunju/图片/Figure 2d rep2\n",
    "代码：python,BASIC-two_dimensional_data1,统计嵌合reads覆盖度和100nt腺嘌呤和尿嘧啶含量,数据处理\n",
    "\t R,D:/360MoveData/Users/dgwei/Desktop/script/R/Interaction_strength.R,可视化"
   ]
  },
  {
   "cell_type": "markdown",
   "metadata": {},
   "source": [
    "Figure 2e 统计不同覆盖度对应的碱基数量\n",
    "输入：D:/360MoveData/Users/dgwei/Desktop/文章/Scientific_data-Sunju/result/chimeric_coverage.txt\n",
    "输出：D:/360MoveData/Users/dgwei/Desktop/文章/Scientific_data-Sunju/图片/Figure 2e\n",
    "代码：python,BASIC-three_dimensional_data1,数据处理+可视化"
   ]
  },
  {
   "cell_type": "code",
   "execution_count": 1,
   "metadata": {
    "ExecuteTime": {
     "end_time": "2024-05-28T08:10:19.418643500Z",
     "start_time": "2024-05-28T08:10:19.390641Z"
    }
   },
   "outputs": [],
   "source": [
    "import numpy as np\n",
    "import xlrd\n",
    "from scipy import sparse\n",
    "import matplotlib.pyplot as plt\n",
    "import pandas as pd"
   ]
  },
  {
   "cell_type": "code",
   "execution_count": 2,
   "metadata": {
    "ExecuteTime": {
     "end_time": "2024-05-28T08:10:19.433641700Z",
     "start_time": "2024-05-28T08:10:19.423685600Z"
    }
   },
   "outputs": [],
   "source": [
    "file_dir=\"D:/360MoveData/Users/dgwei/Desktop/文章/Scientific_data-Sunju/result/\"\n",
    "def get_matrix_npz(M1,M2):\n",
    "    '''\n",
    "    transform a three tuple into a matrix\n",
    "    '''\n",
    "    S1 = sparse.coo_matrix((M1['value'],(np.asarray(M1['S'], dtype=int),np.asarray(M1['E'], dtype=int)))).toarray()\n",
    "    S2 = sparse.coo_matrix((M2['value'],(np.asarray(M2['E'], dtype=int),np.asarray(M2['S'], dtype=int)))).toarray()\n",
    "    matrix = np.zeros((max(S2.shape),max(S1.shape)))\n",
    "    matrix[np.nonzero(S1)] = S1[np.nonzero(S1)]\n",
    "    matrix[np.nonzero(S2)] = S2[np.nonzero(S2)]\n",
    "    return matrix"
   ]
  },
  {
   "cell_type": "code",
   "execution_count": 3,
   "metadata": {
    "ExecuteTime": {
     "end_time": "2024-05-28T08:10:29.650397900Z",
     "start_time": "2024-05-28T08:10:24.785695800Z"
    }
   },
   "outputs": [],
   "source": [
    "Sars1 = np.loadtxt(file_dir +'pdcov_in_Virion.5nt.none.matrix', usecols=[0,1,2], dtype=[('S','<i4'),('E','<i4'),('value','<f8')])\n",
    "res = 5\n",
    "Sars1['S'] = Sars1['S'] / res\n",
    "Sars1['E'] = Sars1['E'] / res\n",
    "ma_Sars1 = get_matrix_npz(Sars1,Sars1)"
   ]
  },
  {
   "cell_type": "code",
   "execution_count": 4,
   "metadata": {
    "ExecuteTime": {
     "end_time": "2024-05-28T08:11:43.892276100Z",
     "start_time": "2024-05-28T08:11:43.802278800Z"
    }
   },
   "outputs": [],
   "source": [
    "cum_pdcov1 = ma_Sars1.sum(axis=1)"
   ]
  },
  {
   "cell_type": "code",
   "execution_count": 112,
   "metadata": {
    "ExecuteTime": {
     "end_time": "2024-01-16T13:59:38.656621300Z",
     "start_time": "2024-01-16T13:59:37.772095900Z"
    }
   },
   "outputs": [],
   "source": [
    "# sums1 = []\n",
    "# for column in ma_Sars1:\n",
    "#     column_sum = column.sum()\n",
    "#     sums1.append(column_sum)\n",
    "# sums2 = []\n",
    "# for column in ma_Sars2:\n",
    "#     column_sum = column.sum()\n",
    "#     sums2.append(column_sum)"
   ]
  },
  {
   "cell_type": "code",
   "execution_count": 166,
   "metadata": {
    "ExecuteTime": {
     "end_time": "2024-01-17T03:23:21.584896300Z",
     "start_time": "2024-01-17T03:23:21.334893400Z"
    }
   },
   "outputs": [],
   "source": [
    "# column_names1=['coverage1']\n",
    "# df1 = pd.DataFrame(sums1,columns=column_names1)\n",
    "# column_names2=['coverage2']\n",
    "# df2 = pd.DataFrame(sums2,columns=column_names2)\n",
    "# df=pd.concat([df1,df2],axis=1)\n",
    "# df"
   ]
  },
  {
   "cell_type": "code",
   "execution_count": 67,
   "metadata": {
    "ExecuteTime": {
     "end_time": "2024-01-13T01:34:48.854811400Z",
     "start_time": "2024-01-13T01:34:48.732150600Z"
    }
   },
   "outputs": [],
   "source": [
    "# df['coverage1']=(df['coverage1']/10000).round(1)\n",
    "# df['coverage2']=(df['coverage2']/10000).round(1)"
   ]
  },
  {
   "cell_type": "code",
   "execution_count": 68,
   "metadata": {
    "ExecuteTime": {
     "end_time": "2024-01-13T01:34:50.248813200Z",
     "start_time": "2024-01-13T01:34:50.117822Z"
    }
   },
   "outputs": [],
   "source": [
    "# df_count1=df['coverage1'].value_counts().sort_index().reset_index()\n",
    "# df_count2=df['coverage2'].value_counts().sort_index().reset_index()"
   ]
  },
  {
   "cell_type": "code",
   "execution_count": 69,
   "metadata": {
    "ExecuteTime": {
     "end_time": "2024-01-13T01:34:51.057900300Z",
     "start_time": "2024-01-13T01:34:50.938851100Z"
    }
   },
   "outputs": [],
   "source": [
    "# df_count1['coverage1']=(df_count1['coverage1']*5)/1000\n",
    "# df_count2['coverage2']=(df_count2['coverage2']*5)/1000"
   ]
  },
  {
   "cell_type": "code",
   "execution_count": 5,
   "metadata": {
    "ExecuteTime": {
     "end_time": "2024-05-28T08:11:57.661569700Z",
     "start_time": "2024-05-28T08:11:57.275688300Z"
    }
   },
   "outputs": [
    {
     "name": "stderr",
     "output_type": "stream",
     "text": [
      "No artists with labels found to put in legend.  Note that artists whose label start with an underscore are ignored when legend() is called with no argument.\n"
     ]
    },
    {
     "data": {
      "text/plain": "<Figure size 640x480 with 1 Axes>",
      "image/png": "[encoded data removed]"
     },
     "metadata": {},
     "output_type": "display_data"
    }
   ],
   "source": [
    "plt.figure()\n",
    "plt.hist(cum_pdcov1/1000,bins=30,color='#FEBCAC',range=(0,10))\n",
    "# plt.yticks(range(0, 1050, 200))\n",
    "# plt.axvline(x=0, linestyle='dashed', color='#3888C1',alpha=0.5)\n",
    "plt.legend(loc='upper right',fontsize=\"xx-large\",frameon=False)#frameon去除边框\n",
    "\n",
    "# plt.axhline(y=0, linestyle='dashed', color='#3888C1',alpha=0.5)\n",
    "\n",
    "plt.grid(False)\n",
    "plt.gca().spines['top'].set_visible(False)\n",
    "plt.gca().spines['right'].set_visible(False)\n",
    "# plt.rcParams['xtick.color']=\"b\"\n",
    "# plt.rcParams['ytick.color']=\"b\"\n",
    "# 设置 x 轴刻度线标记\n",
    "plt.tick_params(axis='x', which='both', bottom=True, top=False, labelbottom=True,colors='black')\n",
    "# 设置 y 轴刻度线标记\n",
    "plt.tick_params(axis='y', which='both', left=True, right=False, labelleft=True,colors='black')\n",
    "# plt.axvline(x=0, linestyle='dashed', color='#3888C1',alpha=0.5)\n",
    "# plt.legend(loc='upper right',fontsize=\"xx-large\",frameon=False)#frameon去除边框\n",
    "x_axis = plt.gca().spines['bottom']\n",
    "y_axis = plt.gca().spines['left']\n",
    "\n",
    "# 设置 x 轴和 y 轴的颜色为黑色\n",
    "x_axis.set_color('black')\n",
    "y_axis.set_color('black')\n",
    "# plt.savefig('D:/360MoveData/Users/dgwei/Desktop/文章/Scientific_data-Sunju/图片/Figure 2e.pdf')\n",
    "plt.show()"
   ]
  },
  {
   "cell_type": "markdown",
   "metadata": {},
   "source": [
    "Figure 3a 交互强度相关性\n",
    "输入：D:/360MoveData/Users/dgwei/Desktop/文章/Scientific_data-Sunju/result/27_in_Virion.1nt.none.matrix\n",
    "\t D:/360MoveData/Users/dgwei/Desktop/文章/Scientific_data-Sunju/result/30_in_Virion.1nt.none.matrix\n",
    "输出：D:/360MoveData/Users/dgwei/Desktop/文章/Scientific_data-Sunju/图片/Figure 3a\n",
    "代码：R,D:/360MoveData/Users/dgwei/Desktop/script/R/Interaction_strength.R,数据处理+可视化\n",
    "\t python,BASIC-three_dimensional_data1,数据处理+可视化"
   ]
  },
  {
   "cell_type": "code",
   "execution_count": 26,
   "metadata": {
    "ExecuteTime": {
     "end_time": "2024-02-28T13:32:19.982414700Z",
     "start_time": "2024-02-28T13:32:17.614058100Z"
    }
   },
   "outputs": [],
   "source": [
    "import pandas as pd\n",
    "import numpy as np\n",
    "import matplotlib.pyplot as plt\n",
    "# 设置工作目录\n",
    "import os\n",
    "os.chdir(\"D:/360MoveData/Users/dgwei/Desktop/BASIC/三维数据分析流程/原始数据处理/PEDV/virion/\")\n",
    "\n",
    "# 读取数据文件\n",
    "df1 = pd.read_table(\"PEDV-1_in_Virion.5nt.raw.matrix\", header=None, sep=\"\\t\", names=[\"start\", \"end\", \"count\"], dtype={\"start\": str, \"end\": str, \"count\": int})\n",
    "df2 = pd.read_table(\"PEDV-2_in_Virion.5nt.raw.matrix\", header=None, sep=\"\\t\", names=[\"start\", \"end\", \"count\"], dtype={\"start\": str, \"end\": str, \"count\": int})\n",
    "\n",
    "# 内连接两个DataFrame\n",
    "df3 = pd.merge(df1, df2, on=[\"start\", \"end\"])\n",
    "\n",
    "# 重命名列名\n",
    "df3.columns = [\"start\", \"end\", \"count1\", \"count2\"]\n",
    "\n",
    "# 对count1和count2取对数\n",
    "df3[\"count1\"] = np.log10(df3[\"count1\"])\n",
    "df3[\"count2\"] = np.log10(df3[\"count2\"])"
   ]
  },
  {
   "cell_type": "code",
   "execution_count": 27,
   "metadata": {
    "ExecuteTime": {
     "end_time": "2024-02-28T13:32:21.730288500Z",
     "start_time": "2024-02-28T13:32:21.539209800Z"
    }
   },
   "outputs": [
    {
     "data": {
      "text/plain": "0.8287256541825634"
     },
     "execution_count": 27,
     "metadata": {},
     "output_type": "execute_result"
    }
   ],
   "source": [
    "R = df3['count1'].corr(df3['count2'])\n",
    "R"
   ]
  },
  {
   "cell_type": "code",
   "execution_count": 29,
   "metadata": {
    "ExecuteTime": {
     "end_time": "2024-02-28T13:33:36.621243900Z",
     "start_time": "2024-02-28T13:33:17.969855100Z"
    }
   },
   "outputs": [
    {
     "data": {
      "text/plain": "<Figure size 640x480 with 1 Axes>",
      "image/png": "[encoded data removed]"
     },
     "metadata": {},
     "output_type": "display_data"
    }
   ],
   "source": [
    "plt.scatter(df3['count1'],df3['count2'],color='#3888C1',alpha=0.5)\n",
    "# plt.xticks(range(0, 12, 2))\n",
    "# plt.yticks(range(0, 12, 2))\n",
    "plt.xticks(fontsize=15)\n",
    "plt.yticks(fontsize=15)\n",
    "plt.text(1, 4, f'R= {R:.2f}', ha='left', va='top',fontsize=15)\n",
    "plt.gca().spines['top'].set_visible(False)\n",
    "plt.gca().spines['right'].set_visible(False)\n",
    "plt.savefig('D:/360MoveData/Users/dgwei/Desktop/BASIC/三维数据分析流程/原始数据处理/PEDV/virion/interaction.pdf')\n",
    "plt.savefig('D:/360MoveData/Users/dgwei/Desktop/BASIC/三维数据分析流程/原始数据处理/PEDV/virion/interaction.png')"
   ]
  },
  {
   "cell_type": "markdown",
   "metadata": {},
   "source": [
    "Figure 3b 距离衰减曲线\n",
    "输入：D:/ 360MoveData/Users/dgwei/Desktop/文章/Scientific_data-Sunju/result/ 27_in_Virion.1nt.none.matrix\n",
    "\t D:/ 360MoveData/Users/dgwei/Desktop/文章/Scientific_data-Sunju/result/ 30_in_Virion.1nt.none.matrix\n",
    "输出：D:/ 360MoveData/Users/dgwei/Desktop/文章/Scientific_data-Sunju/图片/Figure 3b rep1.pdf\n",
    "\t D:/ 360MoveData/Users/dgwei/Desktop/文章/Scientific_data-Sunju/图片/Figure 3b rep2.pdf\n",
    "代码：python, BASIC - two_dimensional_data1, 数据处理 + 可视化"
   ]
  },
  {
   "cell_type": "markdown",
   "metadata": {},
   "source": [
    "Figure 3c 交互矩阵\n",
    "输入：D:/ 360MoveData/Users/dgwei/Desktop/文章/Scientific_data-Sunju/result/ 27_in_Virion.hic\n",
    "\t D:/ 360MoveData/Users/dgwei/Desktop/文章/Scientific_data-Sunju/result/ 30_in_Virion.hic\n",
    "输出：D:/ 360MoveData/Users/dgwei/Desktop/文章/Scientific_data-Sunju/图片/Figure 3c rep1.pdf\n",
    "\t D:/ 360MoveData/Users/dgwei/Desktop/文章/Scientific_data-Sunju/图片/Figure 3c rep2.pdf\n",
    "代码：无\n",
    "交互矩阵图是用juicer_box直接可视化得到，互作弦图是IGV可视化PDCoV-rep1.igv.bed，保存后用AI提取得到"
   ]
  },
  {
   "cell_type": "markdown",
   "metadata": {},
   "source": [
    "Figure 4a\n",
    "输入：D:/ 360MoveData/Users/dgwei/Desktop/文章/Scientific_data-Sunju/result/out1.domains.600.bedpe\n",
    "输出：D:/ 360MoveData/Users/dgwei/Desktop/文章/Scientific_data-Sunju/图片/Figure 4a.pdf\n",
    "代码：python"
   ]
  },
  {
   "cell_type": "code",
   "execution_count": 51,
   "metadata": {
    "ExecuteTime": {
     "end_time": "2024-02-28T15:10:03.366826600Z",
     "start_time": "2024-02-28T15:10:03.145249600Z"
    }
   },
   "outputs": [],
   "source": [
    "#直方图展示不同domain的长度\n",
    "import matplotlib.pyplot as plt\n",
    "import matplotlib.ticker as ticker\n",
    "import pandas as pd\n",
    "import numpy as np\n",
    "import os\n",
    "os.chdir(\"D:/360MoveData/Users/dgwei/Desktop/BASIC/三维数据分析流程/原始数据处理/PEDV/virion/\")"
   ]
  },
  {
   "cell_type": "code",
   "execution_count": 52,
   "metadata": {
    "ExecuteTime": {
     "end_time": "2024-02-28T15:10:04.744068500Z",
     "start_time": "2024-02-28T15:10:04.604261400Z"
    }
   },
   "outputs": [],
   "source": [
    "df = pd.read_table(\"PEDV.domains-600.bedpe\", sep=\"\\t\",)\n",
    "df=df.iloc[:,[6,4,5]]"
   ]
  },
  {
   "cell_type": "code",
   "execution_count": 53,
   "metadata": {
    "ExecuteTime": {
     "end_time": "2024-02-28T15:10:06.014964300Z",
     "start_time": "2024-02-28T15:10:05.877554900Z"
    }
   },
   "outputs": [],
   "source": [
    "df['len']=df['y2']-df['y1']"
   ]
  },
  {
   "cell_type": "code",
   "execution_count": 57,
   "metadata": {
    "ExecuteTime": {
     "end_time": "2024-02-28T15:11:05.945364Z",
     "start_time": "2024-02-28T15:11:05.615821400Z"
    }
   },
   "outputs": [
    {
     "data": {
      "text/plain": "<Figure size 640x480 with 1 Axes>",
      "image/png": "[encoded data removed]"
     },
     "metadata": {},
     "output_type": "display_data"
    }
   ],
   "source": [
    "plt.figure()\n",
    "plt.hist([df['len']],bins=30,color=['#FEBCAC'])\n",
    "plt.grid(False)\n",
    "plt.xticks(range(600, 1210, 100))\n",
    "plt.yticks(range(0, 10, 2))\n",
    "plt.xticks(fontsize=15)\n",
    "plt.yticks(fontsize=15)\n",
    "# plt.yticks(range(0, 450, 100))\n",
    "plt.gca().spines['top'].set_visible(False)\n",
    "plt.gca().spines['right'].set_visible(False)\n",
    "# plt.rcParams['xtick.color']=\"b\"\n",
    "# plt.rcParams['ytick.color']=\"b\"\n",
    "# 设置 x 轴刻度线标记\n",
    "plt.tick_params(axis='x', which='both', bottom=True, top=False, labelbottom=True,colors='black')\n",
    "# 设置 y 轴刻度线标记\n",
    "plt.tick_params(axis='y', which='both', left=True, right=False, labelleft=True,colors='black')\n",
    "# plt.axvline(x=0, linestyle='dashed', color='#3888C1',alpha=0.5)\n",
    "# plt.legend(loc='upper right',fontsize=\"xx-large\",frameon=False)#frameon去除边框\n",
    "x_axis = plt.gca().spines['bottom']\n",
    "y_axis = plt.gca().spines['left']\n",
    "\n",
    "# 设置 x 轴和 y 轴的颜色为黑色\n",
    "x_axis.set_color('black')\n",
    "y_axis.set_color('black')\n",
    "plt.savefig('D:/360MoveData/Users/dgwei/Desktop/BASIC/三维数据分析流程/原始数据处理/PEDV/virion/domain.pdf')\n",
    "plt.savefig('D:/360MoveData/Users/dgwei/Desktop/BASIC/三维数据分析流程/原始数据处理/PEDV/virion/domain.png')\n",
    "# plt.axhline(y=0, linestyle='dashed', color='#3888C1',alpha=0.5)\n"
   ]
  },
  {
   "cell_type": "markdown",
   "metadata": {},
   "source": [
    "Figure 4b\n",
    "输入：virus.phase4_final.whole.ct\n",
    "输出：D:/ 360MoveData/Users/dgwei/Desktop/文章/Scientific_data-Sunju/图片/Figure 4b.pdf\n",
    "代码：python"
   ]
  },
  {
   "cell_type": "code",
   "execution_count": 58,
   "metadata": {
    "ExecuteTime": {
     "end_time": "2024-02-28T15:21:14.988731700Z",
     "start_time": "2024-02-28T15:21:14.836978600Z"
    }
   },
   "outputs": [],
   "source": [
    "#读入文件\n",
    "import os\n",
    "os.chdir(\"D:/360MoveData/Users/dgwei/Desktop/BASIC/三维数据分析流程/原始数据处理/PEDV/virion/\")\n",
    "dot_dict={}\n",
    "with open(\"SHAPE-MaP and vRIC-seq.dot\",\"r\") as F:\n",
    "    for line in F:\n",
    "        if line.startswith(\">\"):\n",
    "            key = line.rstrip(\"\\n\")\n",
    "            dot_dict[key] = \"\"\n",
    "        else:\n",
    "            dot_dict[key] += line.rstrip()\n",
    "dot1={};dot2={};dot3={}\n",
    "for key,value in dot_dict.items():\n",
    "    if key=='>MK584552.1_shapemap':\n",
    "        dot1[key]=value\n",
    "    elif key=='>MK584552.1_vRIcseq_600':\n",
    "        dot2[key]=value\n",
    "    else:\n",
    "        dot3[key]=value"
   ]
  },
  {
   "cell_type": "code",
   "execution_count": 64,
   "metadata": {
    "ExecuteTime": {
     "end_time": "2024-02-28T15:23:52.300809Z",
     "start_time": "2024-02-28T15:23:52.110813400Z"
    }
   },
   "outputs": [
    {
     "data": {
      "text/plain": "6896.0"
     },
     "execution_count": 64,
     "metadata": {},
     "output_type": "execute_result"
    }
   ],
   "source": [
    "count1=0;list1=[]\n",
    "for v1 in dot1.values():\n",
    "    for v in v1:\n",
    "        list1.append(v)\n",
    "        if v=='.':\n",
    "            count1+=1\n",
    "\n",
    "(len(v1)-count1)/2"
   ]
  },
  {
   "cell_type": "code",
   "execution_count": 60,
   "metadata": {
    "ExecuteTime": {
     "end_time": "2024-02-28T15:21:20.474094600Z",
     "start_time": "2024-02-28T15:21:20.259971900Z"
    }
   },
   "outputs": [
    {
     "data": {
      "text/plain": "9203.0"
     },
     "execution_count": 60,
     "metadata": {},
     "output_type": "execute_result"
    }
   ],
   "source": [
    "count2=0;list2=[]\n",
    "for v2 in dot2.values():\n",
    "    for v in v2:\n",
    "        list2.append(v)\n",
    "        if v=='.':\n",
    "            count2+=1\n",
    "\n",
    "(len(v2)-count2)/2"
   ]
  },
  {
   "cell_type": "code",
   "execution_count": 62,
   "metadata": {
    "ExecuteTime": {
     "end_time": "2024-02-28T15:21:58.683277700Z",
     "start_time": "2024-02-28T15:21:58.504668200Z"
    }
   },
   "outputs": [
    {
     "name": "stdout",
     "output_type": "stream",
     "text": [
      "2559.5\n"
     ]
    }
   ],
   "source": [
    "count=0\n",
    "for v1,v2 in zip(list1,list2):\n",
    "    if (v1=='(' and v2=='(') or (v1==')' and v2==')'):\n",
    "        count+=1\n",
    "print(count/2)"
   ]
  },
  {
   "cell_type": "code",
   "execution_count": 68,
   "outputs": [
    {
     "data": {
      "text/plain": "6643"
     },
     "execution_count": 68,
     "metadata": {},
     "output_type": "execute_result"
    }
   ],
   "source": [
    "9203-2560"
   ],
   "metadata": {
    "collapsed": false,
    "ExecuteTime": {
     "end_time": "2024-02-28T15:25:09.852696700Z",
     "start_time": "2024-02-28T15:25:09.740798800Z"
    }
   }
  },
  {
   "cell_type": "code",
   "execution_count": 70,
   "metadata": {
    "ExecuteTime": {
     "end_time": "2024-02-28T15:26:08.175977300Z",
     "start_time": "2024-02-28T15:26:08.020781300Z"
    }
   },
   "outputs": [
    {
     "data": {
      "text/plain": "<Figure size 640x480 with 1 Axes>",
      "image/png": "[encoded data removed]"
     },
     "metadata": {},
     "output_type": "display_data"
    }
   ],
   "source": [
    "from matplotlib import pyplot as plt\n",
    "from matplotlib_venn import venn2\n",
    "\n",
    "# 创建韦恩图的数据\n",
    "venn2(subsets=(4309,6643,2560),set_labels=('SHAPE-MaP','vRIC-seq'),set_colors=('#C3D9AB','#FEBCAC','#e1cbac'))\n",
    "plt.savefig('D:/360MoveData/Users/dgwei/Desktop/BASIC/三维数据分析流程/原始数据处理/PEDV/virion/duplexes.pdf')\n",
    "plt.savefig('D:/360MoveData/Users/dgwei/Desktop/BASIC/三维数据分析流程/原始数据处理/PEDV/virion/duplexes.png')\n",
    "plt.show()"
   ]
  },
  {
   "cell_type": "code",
   "execution_count": 56,
   "metadata": {
    "ExecuteTime": {
     "end_time": "2024-01-11T14:55:04.847710Z",
     "start_time": "2024-01-11T14:55:04.739932300Z"
    }
   },
   "outputs": [
    {
     "data": {
      "text/plain": [
       "2149"
      ]
     },
     "execution_count": 56,
     "metadata": {},
     "output_type": "execute_result"
    }
   ],
   "source": [
    "7893-5744"
   ]
  },
  {
   "cell_type": "markdown",
   "metadata": {},
   "source": [
    "Figure 4c\n",
    "输入：/storx/chenlei/lab-ricseq/PDCOV-089/RIC2Structure-main/6.fill_blanks_phase3_useb_600/output\n",
    "输出：D:/ 360MoveData/Users/dgwei/Desktop/文章/Scientific_data-Sunju/图片/Figure 4c.pdf\n",
    "代码：python"
   ]
  },
  {
   "cell_type": "code",
   "execution_count": 7,
   "metadata": {
    "ExecuteTime": {
     "end_time": "2024-01-15T09:31:16.631692Z",
     "start_time": "2024-01-15T09:31:16.486683700Z"
    }
   },
   "outputs": [],
   "source": [
    "import os\n",
    "os.chdir(\"D:/360MoveData/Users/dgwei/Desktop/文章/Scientific_data-Sunju/result/duplex energy/\")\n",
    "import matplotlib.pyplot as plt\n",
    "import pandas as pd\n",
    "import numpy as np\n",
    "import random"
   ]
  },
  {
   "cell_type": "code",
   "execution_count": 8,
   "metadata": {
    "ExecuteTime": {
     "end_time": "2024-01-15T09:31:17.890158900Z",
     "start_time": "2024-01-15T09:31:17.744163700Z"
    }
   },
   "outputs": [
    {
     "data": {
      "text/plain": [
       "[-12.2,\n",
       " -693.3,\n",
       " -187.5,\n",
       " -240.2,\n",
       " -78.7,\n",
       " -250.5,\n",
       " -223.5,\n",
       " -396.6,\n",
       " -269.5,\n",
       " -289.3,\n",
       " -280.5,\n",
       " -288.4,\n",
       " -401.7,\n",
       " -240.7,\n",
       " -426.5,\n",
       " -499.1,\n",
       " -300.7,\n",
       " -224.3,\n",
       " -298.2,\n",
       " -367.6,\n",
       " -272.1,\n",
       " -243.9,\n",
       " -465.5,\n",
       " -686.4,\n",
       " -330.1,\n",
       " -617.9,\n",
       " -244.0,\n",
       " -675.9,\n",
       " -425.9,\n",
       " -411.3]"
      ]
     },
     "execution_count": 8,
     "metadata": {},
     "output_type": "execute_result"
    }
   ],
   "source": [
    "##循环读入每个domain生成的ct文件，提取结构的最小自由能\n",
    "raw_energy=[]\n",
    "for i in range(1,31):\n",
    "    with open('tmp.cycle%s.ct'%(i), 'r') as file:\n",
    "        first_line = file.readline().strip()\n",
    "        value=first_line.split(' ')[4].strip()\n",
    "        raw_energy.append(float(value))\n",
    "raw_energy"
   ]
  },
  {
   "cell_type": "code",
   "execution_count": 98,
   "metadata": {
    "ExecuteTime": {
     "end_time": "2024-01-15T09:23:38.630086600Z",
     "start_time": "2024-01-15T09:23:38.481045600Z"
    }
   },
   "outputs": [
    {
     "data": {
      "text/plain": [
       "{'cycle1': 'ATTTGGACAAGTCAGCGGGCTACCCCTTTAACAAGCTAGGTAAGGCTCGTAACTATT',\n",
       " 'cycle2': 'ATTACGACATGACTCATGCCGAGCAAAATCAACTGTTTGAGTATACAAAACGCAATGTTTTGCCTACACTCACTCAGATGAACCTTAAGTATGCAATTTCAGCCAAGGATCGTGCTCGCACTGTGGCAGGAGTGTCTATAATTAGCACCATGACTAACAGGCAGTACCATCAAAAGATGCTGAAATCTATTTCACTTGCACGCAATCAGACCATCGTGATTGGAACAACCAAATTCTATGGTGGTTGGGACAACATGTTACGACGACTGATGTGTAATATCAACAATCCCATTTTAGTGGGTTGGGATTACCCTAAGTGTGATCGTTCTATGCCAAACATGCTGCGCATTGCCGCTTCGTGCTTGCTAGCACGAAAACACACTTGCTGTAACCAAAGCCAGCGATTCTACCGTTTGGCTAATGAATGTTGCCAAGTACTATCTGAAGTGGTAGTCTCTGGTAACAACCTCTATGTAAAACCAGGTGGCACTAGCAGTGGTGATGCAACCACAGCTTATGCCAACTCGGTATTTAACATCTTACAGGTGGTTTCTGCTAATGTAGCCACCTTCTTATCAACTTCCACCACGACACATCTTAATAAGGACATTGCGGAATTGCATCGTAGTCTTTATGAAGATATTTATCGTGGTGACTCTAATGATATCACCGTCATCAATAGATTCTACCAGCATCTCCAAAGTTACTTTGGACTTATGATATTGTCTGATGATGGTGTCGCATGCATAGACTCAGCCGTTGCAAAGGCTGGAGCTGTTGCTGATCTTGATGGTTTCCGAGACATTTTGTTTTACCAAAACAATGTTTACATGGCAGACTCAAAGTGTTGGACAGAAACTGACATGAATGTTGGCCCTCATGAATTTTGCTCACAGCATACTGTGTTAGCAGAGCATGATGGTAAACCTTACTACTTACCTTACCCAGATGTCTCTCGCATTCTGGGTGCATGCATCTTTGTGGATGACGTTAACAAGGCTGACCCCGTTCAGAACCTTGAACGTTACATCTCACTTGCAATTGATGCATATCCCCTCACCAAGGTTGACCCTATTAAGGGTAAAGTCTTTTATTTGTTACTAGACTACATACGTGTTCTTGCTCAGGAGTTACAGGACGGTATCCTTGATGCTTTCCAATCACTCACTGACATGTCGTATGTAAATAACTTTATGAATGAGGCCTTTTATGCTCAGATGTATGAGCAAAGTCCTACACTACAGGCCAGCGGTGTTTGTGTGGTGTGTAACTCACCCACTATACTGCGCTGTGGTGATTGCATTCGTCGACCACTACTTTGTTGCGTCTGTGCCTACCAGCATGTTACGCAGACTACACATAAACGTATCATTGCTATCAACAACTACATTTGTAGTGTTGAGAATTGCAATGAGGACAATGTTGAAAAACTTTTCATTTCTGGCACTGCGATTTATTGTGAGAATCACAAACCCACGCTGTGCATACCCATTGTAGCTAATGGTTCTGTTTTTGGTATCTATCGCCACACTGCCCGTGGTAGTGATGACATAGACCTCTTTAACGAGCTTGCTACATCTAACTATGACACTATTGAACCTTATCAGAAGGCCAATCGTGCACCTTTATCACTTATGCTCTTCGCTGCTGAAACCATTAAGGCACTCGAGGAGTCTATCAAGAAGTCATATGCTACCGCAACCGTCAAGGATGTGTATGACCAACGCTTCATTAAACTTCTATGGGAACAGGGTAAAAAGCCGCCACCCATAACGAAGAACCACATTTTCACTGGCTACCATTTTAACAAGAATGGAAAAACCCAAGTTGGTGATTACATTCTTGCTAAAACAGATGGCAGTGACACTTATACTTACAGAGGAACATCTACCTACAAACTCCAAACAGGTGATGTTCTAGTCTTAATGGCACATGTTGTTACACCGCTCTCAGCACCCCCTGTGCTAACGCAGACAACATATGTCAGAAAATCACTTTTACCCGACTCTGTTGGTGCGTCTTATTATGTGCAACATTTTAAGTCATATAATGAGATAGCTATGCAGAGGGTTACAACAGTATTAGGTCCGCCAGGCACAGGTAAGTCAACCTTTGCTATTGGTTTGGCTAAGTACTTTCCTAGTGCACGTATTTGCTACACTGCGTCTTCGCATGCAGCAATCGATGCACTCTGTGAAAAAGCTTTCAAGACAATACCTGTAGGCCAATGCAGTCGTATCGTACCCACACGTACAACTGTTGAGTGCTTTCAGGAGTTTGTCGTAAATAACACAAC',\n",
       " 'cycle3': 'ATCTTACCTGTAAATTTGTTAGAACGGTTCTCCCATCGTCTAACACTGTACACAAAACTTGTCTTGGTCTGTATTATTCAGCCCAGACACTTTTTGTTTCTTTAGCACCATTCCTTATGTTACCAGCTGTAGTTAGTCTGCTTAATTCAGGCTATACAATTGGCACATATTTGTATGCAAAAACTGGCTGGCCTTGTAATTACAATGCCACGCAACACTTTGATTATAATTCTTACTGTGCAGGTGACTTGGTTTGTCAAGCCTGTTTTGACGGTCAAGACTCCCTACATTTGTATCCGCATTTACGTGTTAATCAGCAGCCCCTTCAGACCACTGACTACACTGTTTATGCGCTTTCACTAATACTACTATTAGCTAACATGACTCTTGTCATGGGTACGCTAATAGTTACTTTCTTTGTGAACTTCTATGGTGTGCAAATACCATTTTATGGTACACTTCTGATAGATTATCAGTCCGCGCTGATGATGACTTTCTCAGTGTACTACTTTTATAAGGTAATGAAGTTTTTCCGCCATCTCACACATGGATGTAAAATTCCAACGTGTATGGTATGTGCTAAACTTCGTACCCCACCTACTATAACAGTTGAGACTGTCGTTCAAGGCAGGAAATACCCATCTGTTATTGAAACAAATGGCGGGTTTACAA',\n",
       " 'cycle4': 'TTGGTTTCAGGTGCTCAAAGCTCAAAACAAAAAGGCTACTCATCCTCAGTTTCGTGGCAATGGAGTTCCGCTTAACTCCGCCATCAAACCCGTTGAAAACCATGGCTACTGGCTGCGTTACACCAGACAAAAGCCAGGTGGTACTCCGATTCCTCCATCCTATGCCTTTTATTATACTGGCACAGGTCCCAGAGGAAATCTTAAGTATGGTGAACTCCCTCCTAATGATACCCCAGCAACCACTCGTGTTACTTGGGTTAAGGGTTCGGGAGCTGACACTTCTATTAAGCCTCATGTTGCCAAACGCAACCCCAACAATCCTAAACATCAGCTGCTACCTCTCCGATTCCCAACCGGAGATGGCCCAGCTCAAGGTTTCAGAGTTGACCCCTTCAACGCTAGAGGAAGACCTCAGGAGCGTGGAAGTGGCCCAAGATCTCAATCTGTTAACTCCAGAGGCACAGGCAATCAGCCCAGGAAACGCGACCAATCTGCACCCGCTGCGGTACGTCGTAAGACCCAACATCAAGCTCCCAAGCGGACTTTACCTAAGGGTAAAACCATTTCTCAGGTATTTGGCAACCGGTCTCGTACTGGTGCCAATGTCGGCTCTGCAGACACTGAGAAGACGGGTATGGCTGATCCTCGCATCATGGCTCTAGCCAGACATGTGCCTGGTGTTCAGGAAATGCTTTTCGCTGGCCACCTTGAGAGCAACTTTCAGGCGGGGGCAATTACCCTTACCTTCTCTTACTCAATCACAGTCAAGGAGGGTTCTCCTGACTATGAGAGACTTAAGGATGC',\n",
       " 'cycle5': 'ATAACACAACTGCACAGTATATCTTCTCGACTATCAATGCCTTACCTGACATTAAGTGTGACATTGTAGTTGTAGATGAGGTTTCTATGTTGACCAATTATGAGCTTTCCTCTGTGAATGCTCGTTTGGTTTACAATCACATTGTGTATGTTGGTGATCCTTATCAGTTACCTTCACCTAGAACTATGCTTACGTCTGGCCAGCTTTCGCCAGCTGACTATAACGTAGTTACTGATATAATGGTACATGCAGGAGCGGACGTTATGCTCGACATGTGCTACAGATGCCCACGTGAA',\n",
       " 'cycle6': 'GTTTGTAGTGAGCAGTTTAACTATACCACTGCATTACACAACTCTACCTTCTTCTCACTTAATTCTGAGCTTTATTGCTTTACTAATAACACCTACTTAGGTATTCTTCCACCTGATTTAACTGACTTTACGGTCTATCGTACTGGTCAGTTCTATGCTAATGGTTACCTTTTAGGTACTTTACCTATTACGGTTAACTATGTTAGGTTGTATCGGGGTCATTTGGCGGCCAATAGTGCCCACTTTGCCCTTGCAAACCTAACCGATACACTCATAACACTTACCAATACTACTATATCGCAAATCACTTATTGTGATAAGTCAGTAGTTGATTCAATAGCATGCCAGCGCTCTTCTCACGAAGTGGAGGATGGGTTTTACTCTGACCCTAAATCTGCCGTTAGAGCTAGGCAACGTACTATTGTTACACTACCTAAGCTCCCTGAGCTTGAAGTAGTGCAGTTAAATATTTCTGCACACATGGATTTTGGCGAAGCCAGACTTGACAGCGTTACCATTAACGGTAACACATCCTACTGTGTCACTAAGCCTTACTTCAGGCTTGAAACTAACTTTATGTGTACAGGTTGCACTATGAATCTGCGCACTGATACCTGTAGTTTTGACCTGTCAGCAGTAAACAATGGCATGTCATTCTCTCAATTCTGTCTAAGCACTGAATCTGGTGCTTGTGAGATGAAAATTATTGTTACCTACGTATGGAATTACTTGCTAAGGCAGCGTTTGTATGTTACAGCTGTAGAGGGTCAGACTCACACTGGAACCACTTCAGTACATGCAACAGACACTTCTAGTGTAATCACTGATGTCTGCACTGACTACACTATCTATGGAGTCTCTGGCACTGGCATTATTAAGCCATCAGATCTCTTATTGCACAATGGCATAGCATTCACCTCTCCAACAGGTGAGCTTTATGCATTTAAAAATATAACCACTGGCAAA',\n",
       " 'cycle7': 'CACCTCTGACACTCGATAATAACTTGCCACCTGAAGCCATTAAACAACCCAGCCCGACTAAGGTTGAGTTAGTTGTTGGCGAATTGGCAAGTATTAAATTTGACAATTCTGTCCTAGTCAACCCTGCTAATGCGCAATTAACAAATGGCGGTGGAGCTGCCCGTGCAATTGCAAAGTTAGCTGGTCCAAAATACCAAGAGTACTGTAATAGTGTGGCTCCTATCTCAGGACCGCTTACCACGGACTCTTTTGATGCCAAGAAACTTGGTGTAGCCTGCATCTTGCATGTAGTGCCACCCAAAGGTTCTGACCCTAATGTACAAGAACTCCTGTATCAAGCTTACAAGAGTATCCTTACTGAACCAGCACACTATGTTATACCTATACTAGGTGCTGGTATCTTTGGATGCAACCCAGTCCACTCTCTGGATGCGTTCAGGAAAGCATGTCCAAGTGACATAGGTCGTGTCACCCTTGTCACTATGAACAAAAACCATTTGCAGGTGTGGGATGCTCTCAATAGGACCATTGTACGCACCACTACTGACTATGATCAAGTTACCACCAAGGCCCTTACACCCCAGGGAGTGTTAGAAGCCAATCTCTTTGATGGTGAGGACTTTGTTCAAGAACCAAAACCCGGTCAAATTTACCTTGAGGTTACTGAAGAAGTTCAGAACCAAGCCAAGGAACTTGACCTTAACCTTCAGCAATACTGCGTCTACCTGAAGACTTGCCACCATAAATGGGTTGTGAGTCGTACGAACGGGTTGATGCA',\n",
       " 'cycle8': 'TCCCTACATTTGTATCCGCATTTACGTGTTAATCAGCAGCCCCTTCAGACCACTGACTACACTGTTTATGCGCTTTCACTAATACTACTATTAGCTAACATGACTCTTGTCATGGGTACGCTAATAGTTACTTTCTTTGTGAACTTCTATGGTGTGCAAATACCATTTTATGGTACACTTCTGATAGATTATCAGTCCGCGCTGATGATGACTTTCTCAGTGTACTACTTTTATAAGGTAATGAAGTTTTTCCGCCATCTCACACATGGATGTAAAATTCCAACGTGTATGGTATGTGCTAAACTTCGTACCCCACCTACTATAACAGTTGAGACTGTCGTTCAAGGCAGGAAATACCCATCTGTTATTGAAACAAATGGCGGGTTTACAATTTGTAAAGAACACAACTTCTATTGCAAAGACTGTTCTCTACAAACACCCGGCACTTTCATCCCGACAGAAGCTATTGAGTCGCTCTCACGAGCTACCAGGCTTAGTGTCAAACCAACAGCACCAGCATTCTTACTTGCTAGAGATGTTGAGTGCCAAACTGATGTTGTCGTTGCTCGCGCAATGCATAACCAAAATGCGCATGTGTGCATTTCAAAATACTCTGATATCCGTACCGTTGACCAACTACTTAAGCCTACTCCACTGTTTTCATACACTCCCGATGTTATCATCGCGGCAGACTTTGACAACAGAGGTAGTCTTAAGACAGCTAAAGAATTAGCTGTGGTTTTGTCAATGGACCTTAAACGTACTATAATTACCATTGATCAGGCTTATTCTAGACCCATTGATAATTATCAGGAAGTTGCTTCTCGTATTGAGAAGTATTACCCAGTTGCAAAGATTACACCCACAGGTGACATCTTTACAGACATTAAGCAAGCGACCAATGGCCAAGCTAGTGACTCTGCTATTAATGCAGCTGTTCTGGCTGTCCAGCGCGGTCTTGATTTTACAATCGACAACCCTAACAATATATTACCACATTACGCCTTTGACTTTTCAACCCTCAATGCAGAAGACCAGTCTACCATTTTGGAGAGTGGTTGTGCTAAAGGCAATCTCAAGGGCACTAATGTTGGTGTTGTTCTTTCAGCTAGCCTTGTTACACGTCTTAGTCAGCAGGCTATACGTGTGATTGCTAATGCTGCTTCACGTAATGGTGTAACATGCGCTGTTACTCCATCTACACTTGTTATGCGTGGGAATATTGCAACACAGCCCTTGACTCGCATCAAAGCTGGTGCACCTCCCATGCGTCAAAAAATTTTATGTGTTATCCTGGCACTTGCTATTGTGTACTTTGCTGCTATGGCTTTTGGCTTTTTGGCAAGTCAAATTACGCTTAATACAGTGCCTACGATTAAATC',\n",
       " 'cycle9': 'CTTTCCTTCGGAAAGTTGCTGGTTTTGCAATTTACACTGTTGGTAATCGCATGCTTATGTTTACCAGCACCGGCACCTTTCTTCTTACAAGGGCAACTACTAAGATACTCAATAAGGCAAAGTACATCTTTGATGTGGAGCCTGAGTACCCAGTAGATGTAACAACATCCAAAGTTGTAGTACATGAAGCACTCCAGCAAACCGACACTAAGCCTACTAGAGCTCTAGAGGCTGTTGATGTCGTTGTTGGTAATACTGTACTGCAAATGGCTACTGATGGCACTGCGTTCTACCCATCGGATGGTACGCACGCCTCTCTTCCAGGATTCAAAGCAGGCTCGGATGAGCTTTTTATAAGCTTCAACTGCGACCTCTTTGATGATGAGACTAATGCTCAAATCAACGAAACACTCGCTGCATATGAGCTTAACCAACTAGTGGCTCCAGGTGATTCTACACCGCGTCAAATTGCGACGTTGGTTGTCGATACACTTGTAGATGCTATAACAGACCACTTTCCGGAGAAAACCATTGATCTACCTGAAGACTATCAAGTCTTTTCTGACCATGATGATCTCCCACTCGCACAATACCACATCCCTGATCACCTGAGCCTGTATATTCAGGCTATGGAAGGTGAAGATGATAGTGGTGATGAAATATGTATTGAGGACGATGATTACGACTGTCCTCAAGCCGACGAAGACACAGAAGGAGTAATTCCCCAACAGTGGGAACTTCCTGATGTTGATAAATTTTTACTCAAGATCCAGGAACGGAAGACCAGCAGCGACGAAGTACTTAGCGTCGACGTCTATCCTAAACCAGAGCCAGTCGGCAATGTTGGGATTGACGACAGCGCGTCGGAAAAGAAGCCAAATGGGGACTCAGTACCGGATCCTGAGGTCCA',\n",
       " 'cycle10': 'ATTAACACCCGACAATCAAGACCTCCTGGGTCAGATCTATGACTTTGGAGATTTTATTATTACACAACCAGGTAATGGATGTGTGGACTTAGCATCCTATTATTCTTATTTAATGCCCATTATGTCCATGACTCACATGTTAAAGTGTGAGTGTATGGATAGTGATGGCAACCCACTTGAGTATGATGGATTTCAGTATGACTTCACGGACTTCAAGCTTGGCTTGTTCGAGAAGTATTTTAAGTACTGGGACCGTCCTTACCATCCTAACACTGTTGAATGTCCAGATGACCGTTGCGTATTGCACTGTGCGAACTTCAATGTGTTGTTTGCTATGTGTATACCTAATACGGCATTTGGCAATCTTTGTTCAAGAGCTACTGTTGATGGCCACCTTGTGGTCCAGACAGTGGGTGTACACTTGAAAGAACTTGGTATAGTCCTTAACGAGGACGTTACCACACACATGGCAAATATTAATCTAAACACTCTATTGCGATTGGTTGGTGATCCCACCACCATTGCAAGTGTCTCAGACAAGTGTGTAGATTTAAGAACTCCTTGTCAGACCTTGGCTACTATGTCTAGCGGAATTGCTAAACAGTCAGTCAAGCCCGGGCATTTTAATCAACACTTCTACAAGTATTTGCTTGATAGTAACCTATTAGACCAACTTGGAATAGACATTCGCCACTTCTACTATATGCAGGATGGTGAAGCGGCTATCACAGACTACAGCTACTACAGGTATAATACCCCCACGATGGTAGATATCAAGATGTTCTTATTTTGCCTTGAGGTGGCAGATAAGTATCTTGAGCCCTACGAAGGTGGATGTATTAATGCACAGTCAGTTGTGGTCTCTAATTTGGACAAGTCAGCGGGCTACCCCTTTAACAAGCTAGGTAAGGCTCGTAACTA',\n",
       " 'cycle11': 'CTAACACTTTTTGGATACCGAACACATTTCTGCGCACCTGCTACGAAACTATATTCGGTTCCCCAATTGCTCAGCGACTGTATGGTTACACTGTTGCTCTTTATATGCTGATCTATGCTGGACTTGCAATCAACTATACGTTGAAAACACTCCGGTATAGAGCAACTTCATTCTTATCTTTTTGCATGCAGTGGTTTCAATATGGTTATGTTGCACACATTGCGTACAAACTGCTTAATAAACCCTGGACAGAATCACTACTCTTCACAGCCTTCACAATGCTAACCAGTCATCCTTTGTTGGCTGCTCTTAGCTGGTGGCTAGCTGGTCGCGTAACTCTGCCCATTATCATGCCTGACTTAGCTATTCGTGTTTTGGCGTATAACGTCATTGGCTATGTCATATGTGTTCGATTTGGCCTTATGTGGCTTGCAAATCGGTTCACAACTGTACCTATGGGCACATACCAGTATATGGTGTCTGTAGAGCAACTTAAGTACATGATGGCAGTTAAGATGTCCCCACCGCGTAATGCGTTTGAGGTGCTTATAGCCAACATTAGACTTCTTGGTTTGGGTGGAAACCGTAACATTGCTGTTTCTACTGTCCAAAACAAAATTCTTGATGCAAAAGCTACTGCTGTTGTTGTTGCTAACCTTCTTGAAAAGGCTGGCGTCACAAACAAGCACGCTATTTGCAAAAAGATTGTGAAACTCCACAATGATACCCTTAAAGCCACCACTTATGAGGAGGTTGAGGTAGCACTTGTGAAACTTCTTTCTCACATAATTGAGTTCTTGCCAACTGATCAGGTAGATGCTTATCTAGCTGATGCGGCCAATGCTCAACATGTTAATACCTATTTTGACAACTTGCTTGAGAACAAAGCTGTTGTTCAGGCTGTTGCCGATATCAACATTAATCTGGATTCTTATAGAATTTATAAGGAGGCAGATGCTATTTACAAACGATCTGTTGAGATGAACGAATCTCCGCAGGAGCAAAAGAAAAAGCTTAAAGCTGTTAACATTGCAAA',\n",
       " 'cycle12': 'TGATTTTACAATCGACAACCCTAACAATATATTACCACATTACGCCTTTGACTTTTCAACCCTCAATGCAGAAGACCAGTCTACCATTTTGGAGAGTGGTTGTGCTAAAGGCAATCTCAAGGGCACTAATGTTGGTGTTGTTCTTTCAGCTAGCCTTGTTACACGTCTTAGTCAGCAGGCTATACGTGTGATTGCTAATGCTGCTTCACGTAATGGTGTAACATGCGCTGTTACTCCATCTACACTTGTTATGCGTGGGAATATTGCAACACAGCCCTTGACTCGCATCAAAGCTGGTGCACCTCCCATGCGTCAAAAAATTTTATGTGTTATCCTGGCACTTGCTATTGTGTACTTTGCTGCTATGGCTTTTGGCTTTTTGGCAAGTCAAATTACGCTTAATACAGTGCCTACGATTAAATCTGATATCCGCGCCTCTACCTTCTACGTTGTTAGAGATGGAGTCTTGGATACTGTTCGCTCAAATGACAAGTGCTTTGCAAATAAGTTTTTGGCATTTGATAGCTTCATTCAAGCACCTTACACTAATTCACCTGACTGTCCAGTCGTTGTGGGAGTTGTTGAAGTAACGACGCACTCTATTCCTGGAATTCCAGCAGGTGTCATTCATAGAGACGGTCTCATACTTAACATTTATGAACAGTCTCTTTATGAAATCCATCAGCGTCAGTCTATGGTTAGGGATGCGTTGTCACTCAAGACAGCAAATCTCTTTAACCTAGGCAAGCGTGTTGTAGTAGGATACACTCAACATGAAGTTGTTGTGGGTACCTCCTATTTTAATTCTCCTGCACTTTTTAACGCAAAGTGCACCTTCTTACAGTACCAGGACACTAGACAACTCTATTGCTATGATACTGTTCCTACTGAACATAAGCTTTACTCTGATGTGCTTCCGCACGTCGAGTATAAGGCTATTGACATTAATGGTGATCTTGTTCCTTTCAAGATACCGGAGCAGATAATGTTCTATCCACATATT',\n",
       " 'cycle13': 'ACTTATCTCACTAGTTAAAAACAAGTTTGAACATCAGCTTGTCAACCATGTTTACAACCCAGTCCAGAACTGTGTTGTTACCTCACCTAACGCAAGCTCCAAGAACGTTTGCACTGTTCTTGATGTTCTTCTTGATGACTACATTGACATCATAAGACAAGCACATGCCAGTTACACAAGTAAATCTAAAGTATTCACTGTGTCAATTGACAACCAACAAATTAGATTCATGCTCTGGCATGATGAGCAAGTCAAGACTTGCTACCCAATCTTACAGTCACTTACCAATGGTTACCAGATGCCATCTGTGTACAAAACATTGGTTACTGACTTACAACCAGCTGACATCCCTAATTATCATTCCTACACCCCCCGGGTGCCTGGAGTAGTTAAGAATGTTATCAAGTACCGCCAACTTTTCAACTACATAGTTAAAAAGGATAGGTTGGCAGTACCACACAATATGACTGTATTACACCTTGGAGCTGCATCTGCACTAGGTACAGCACCAGGTTCTTCAGTCATAAAACAAATGTTTCCTGAAGGAACTGTTCTTATTGACCTTGATATAAGAGAGTTCACTTCAGACGCTAACCAAATAATAGTTACAGACTACAGAACTTACATACCACCACACCACGTAGACGTCATATTTTCTGACCTCTACTGTTGTGATGACATACACTTCTTTGACAATCTAATAAGGATAGTTAAGGAGAGGCTCGCCCTCGGTGGTTCTATCTTTGTTAAGATAACTGAACATTCATTCTCACCCGAACTCTACTCACTTGCGGGGTGGTTCGATGATTATCAACTATTTTGCACAGCAGTCAATGCCTCGTCTTCAGAAGCATTTTTATGCTGTTTTAATTATTTGGGGCAAGCTAAGGAAAACATTAATGGTTTTAACTTACATGCTTCCTACATTCAATGGCGCAATGAAATAGCATTGACACCAACCTATTCTCCTTTAGCGGACAACCCGGCTACGGCCTGTAAGCTAAAAGCAACGCCTATTATCTCGGCTCGTGAGTTAGAGAAGAAGCCTATTCTTCGCTATCTCGTTGCATCAGGACGCCTTCTTGTGAGGCCACCAGAATGCAGAGAGCTCTATTGATTATGACCTTACTTTGTCTCGTTCGAGCAAAGTTTGCTGATGATCTACTCGATTTGCTCACCTTTCCGGGTGCACATCGCTTCTTACATAAACCCACGAGGAATTCCAGCAGTCTCTACTCGCGGGCTAATAATTTTGATGTTGGCGTTCTTCCTGGCTACCCCACTAAGAACGTTAACCTCTTCTCACCACTTACTAACTCCACTTTGCCCATTAATGGCCTTCATCGGAGTTATCAACCACTCATGCTGAATTGTCTTACTAAAATAACTAACCACACTCTCAGCATGTATCTCCAACCTAGTGATATACAAACCTATAGCTGCGGCGGTGCCATGGTTAAACACCAGACACATGATGCAGTTCGTATCATTTTAGACCTCACTGCCACTGACCACATCTCTGTTGAAGTCGTTGGCCAGCATGGTGAAAATTATGTGTTTGTTTGTAGTGAGCAGTTTAACTATACCACTGCATTACACAACT',\n",
       " 'cycle14': 'CGACTGTCCTCAAGCCGACGAAGACACAGAAGGAGTAATTCCCCAACAGTGGGAACTTCCTGATGTTGATAAATTTTTACTCAAGATCCAGGAACGGAAGACCAGCAGCGACGAAGTACTTAGCGTCGACGTCTATCCTAAACCAGAGCCAGTCGGCAATGTTGGGATTGACGACAGCGCGTCGGAAAAGAAGCCAAATGGGGACTCAGTACCGGATCCTGAGGTCCATCCAACACTAGAGAGTGTGGATGTTGAACGACCAACCGAAACAGCAAACCAGGCTGTTGAAGACAAACCTTCTGATACCACCTTTGTGGTTGATGAGGAACAATTACAAGAATCAACACCAGAACATGAACTCCGCTCCTATGAGGGGGAGTTTGATTCTGATGATGAAATTATTATTCCTATAGTACCAGTAACACCTGCGGATTTAAAACCACAGACTATTACTATAAAGGAGTACTTTAAGTCTGAAAAACTTGAGACTATTAACGAAGGATCCACAGAGTCAGTTACACAATCTGACGATTCGTTTGACGAGTCATTTGTTGATGCTGAGTCTGATGATCCACAAGATCCTGCTGTATATGATGATACAACAATTATAACGGACAGTACTGATGTAGGCGATGAGCCTGAGACAACTCTAGCTACCATCGTTAACACACCTCTGACACTCGATAATAACTTGCCACCTGAAGCCATTAAACAACCCAGCCCGACTAAGGTTGAGTTAGTTGTTGGCGAATTGGCAAGTATTAAATTTGACAATTCTGTCCTAGTCAACCCTGCTAATGCGCAATTAACAAATGGCGGTGGAGCTGCCCGTGCAATTGCAAAGTTAGCTGGTCCAAAATACCAAGAGTA',\n",
       " 'cycle15': 'AACACAACTGCACAGTATATCTTCTCGACTATCAATGCCTTACCTGACATTAAGTGTGACATTGTAGTTGTAGATGAGGTTTCTATGTTGACCAATTATGAGCTTTCCTCTGTGAATGCTCGTTTGGTTTACAATCACATTGTGTATGTTGGTGATCCTTATCAGTTACCTTCACCTAGAACTATGCTTACGTCTGGCCAGCTTTCGCCAGCTGACTATAACGTAGTTACTGATATAATGGTACATGCAGGAGCGGACGTTATGCTCGACATGTGCTACAGATGCCCACGTGAAATCGTTGAGACAGTGTCTAAACTTGTCTACGATAACAAACTAAAAGCGGCGAAACCGAACTCAAGACAGTGTTACAAGACCATTGTGAACTTTGGTCCTGGAGACGTTGCTCATGAGGGACAATCTGCCTACAACGAAGCACAGTTGCGTTTCGCACTCGCATTTAGACAACAAAAGCGGTGGGATAACGTGACTTTCATATCTCCATATAATGCTATGAATGTGAAAGCATCCTTAGCGGGTTTCTCTACTCAGACCGTTGACTCTTCTCAAGGTTCTGAGTATGATTATGTTATCTTTTGCGTGACCACTGACTCAGCACACGCACTTAACATGGCTCGTTTGAACGTTGCCCTTACACGCGCAAAGATAGGTATCCTTGTGGTGTTTAGGCAGGCAAACGAACTTTACAATAGTTTGCAGTTTGAATCTATTGATTCACAGCTTCAGTCGAGTGCTGAGAAAAACCTCACACCACTGTTTAAGCGCTGCGGCTATGAGTATAATGGCGTCCATCCAGCTCATGCTTTGACCTGGCATGATTGTGGTGCAGAGTACCGCTGTGAGGAGCCACTTGCTAAATTAGTAGGAGTTGCCGATGGCACTCTTATATCATACAAAACCCTAGTATCCACACTTGGGTTTCTTCCATCACTTAAAATTGATGCATATCATAATATGTTCCTAACACGTGACGCGTGTCGCACCTATGTTCAGAGTTGGATCGGCATAGACGTTGAAGCAGCACACGCCATAAAACCTAACACCGGGACTAACCTGCCATTGCAAATAGGTTTTAGTACCGGAAAGAATTTTTCAGTTACTCCAGAGGGAATTTGGGTAAACGAGCACGGATCTTGCACTGAGCCCGTCCCTGCCAAAATACCTCCTGGAGAACAATTTCGTCACCTTAAGAAGGACATGCGCCAGGCGCGTCCTTGGAAGGTTGTTCGACGTGAGATTGCTACTCACATTGCTGAGGTAGCTCCTCACACTGATTATATATGCTTTGTCACTTGGGCTCACCAGCTTGAGCTAGCGACAATGCGCTACTTTGTCAAACTAGGTATGGAAGAGAAATGCTTTTGTGGCAGGCGGGCTTGTTTCACTAATGGAACTGAGTTCGCTTGCAAAGCACACCATTCTCTCACCATTCCACAATG',\n",
       " 'cycle16': 'TTGCAGTTTGAATCTATTGATTCACAGCTTCAGTCGAGTGCTGAGAAAAACCTCACACCACTGTTTAAGCGCTGCGGCTATGAGTATAATGGCGTCCATCCAGCTCATGCTTTGACCTGGCATGATTGTGGTGCAGAGTACCGCTGTGAGGAGCCACTTGCTAAATTAGTAGGAGTTGCCGATGGCACTCTTATATCATACAAAACCCTAGTATCCACACTTGGGTTTCTTCCATCACTTAAAATTGATGCATATCATAATATGTTCCTAACACGTGACGCGTGTCGCACCTATGTTCAGAGTTGGATCGGCATAGACGTTGAAGCAGCACACGCCATAAAACCTAACACCGGGACTAACCTGCCATTGCAAATAGGTTTTAGTACCGGAAAGAATTTTTCAGTTACTCCAGAGGGAATTTGGGTAAACGAGCACGGATCTTGCACTGAGCCCGTCCCTGCCAAAATACCTCCTGGAGAACAATTTCGTCACCTTAAGAAGGACATGCGCCAGGCGCGTCCTTGGAAGGTTGTTCGACGTGAGATTGCTACTCACATTGCTGAGGTAGCTCCTCACACTGATTATATATGCTTTGTCACTTGGGCTCACCAGCTTGAGCTAGCGACAATGCGCTACTTTGTCAAACTAGGTATGGAAGAGAAATGCTTTTGTGGCAGGCGGGCTTGTTTCACTAATGGAACTGAGTTCGCTTGCAAAGCACACCATTCTCTCACCATTCCACAATGTGATTATGTGTACAATCCATTCCTCATCGACGTGGCTACGTGGGGGTTCTCGGGACGGCTTTCCACCAACCATGACGCGGTATGCACATATCATGCTAATGCCCATGTTGCATCAGCTGATGCAATCATGACGGTATGTTTAGCTATCCATGAACTGTTCAGTACTGTTGACTGGAACCTTGAATTTCCAGTAACTGCTGAGCAATCACAACTTAACAAGGCCTGTCGCTTAGTACAGGCAAATTATTTAAATATACTACTCACTACAACCAAAGCCACGGTGGTTCATGATATTGGTAACCCAAAAGGTATCCCTATCGTGCGCAAACCTGGTGTTAAATATCACTTCTATGATCAAGCACCCATTGTCAAACACGTTCAAAAACTAAAGTACAAGCCAGAGATGGAGGCCCGTTTCACCGATGGTTTGACTATGTTTTGGAATTGTAATGTTGACACATACCCTGCTAATGCCCTTGTGTGCCGCTACGATACTCATCGGCAGAAGCATTTAATTGGACCTAATGGTTCAGCATTATATGTTAATAAGCATGCTTTTCTCACCCCTGAGATGCATACTTATGCTACACATAAACTCAACTTGGCTCCACTCATCTACTACTCCACCACAGATTGTAGTAGTGAACAGCCTATTGTTGTTACCTACAGAGATTGTGTCGCCCGGTGCAATACTGGAAAAACTCTCTGTCCAAATCATGCTCTTGAATACCAAGAGTTTATCAATGCATACAATCTCATGGCTCGCCATGGATTTAATGTTTACATACCACGCAATGTCAACGTCTATAACTGTTGGCTTACTTTCACTAATCTCCAAAACCTTGAAAACTTAGCTTACAACTGTTATTATAAGAACTGCAATGCTCACGTTGATGGGCAGCTTGATGTAGTTATTAATAATAACGCTGTATATGCTAAGGTCGACAATAATCTTGTCAAACTTTTTGACAATCGCACTAACTTACCTGTCTCAGTGGCCTTTGAACATTACACTAACAGGCATACCCGTTCACTGCCA',\n",
       " 'cycle17': 'ATCTGTTGAGATGAACGAATCTCCGCAGGAGCAAAAGAAAAAGCTTAAAGCTGTTAACATTGCAAAGGCGGAATGGGAGCGTGAGGCTGCTTCTCAGCGTAAGCTTGAAAAGCTTGCTGATGCTGCTATGAAGTCTATGTATCTTGCAGAACGTGCTGAGGATCGTCGCATTAAGCTAACCTCTGGACTTACTGCAATGCTTTACCATATGCTTAGACGTCTTGACTCAGATAGGGTAAAAGCTCTGTTTGAGTGCGCTAAGGCACAAATCTTGCCAATACATGCTGTAGTTGGAATTTCTAATGACAACCTTAAAGTTATTTTTAACGATAAGGATAGCTACTCTCATTATGTAGAGGGCAACACACTTATACATAAGGGAGTTCGCTACACTATTGTGAAGAAACTCTCCTTAGATAATGCACCTATTGAAGGCGTACCAGAAGAATTCCCTGTGGTCGTTGAGACTGTTAGGGAAGGTGTGCCCCAGTTGCAAAACAATGAGCTATGTTTGCGCAATGTTTTCACTGCTCAGAACACAGCTCAGGACTTCAATGGCAATGAATCCACTGTAAAATCTTTTTATGTTACTAGAACCGGTAAGAAGATTTTGGTTGCCATTACATCAACTAAAGACAATCTTAAGACTGTGACCTGCCTTACTGAGACCGGTAAGACAGTCCTTAACTTGGACCCTCCTATGCGCTTCGCACATACCGTAGGTGGAAAACAGTCTGTTGTCTATCTCTATTTTATTCAGAATATTAGTTCACTCAACAGAGGTATGGTTATTGGCCACATCTCTGAAACTACTATCCTTCAGGCAAGTGGCACTCAAATTGAGTACCAGCAAAATGCCTCTCTTTTGACCTATTTGGCTTTCGCTGTAGACCCTAAGACAGCCTACCTTAAGCATCTTGCTGATGGTGGGTCTCCTATACAGGGTTGTATTCAGATGATTGCTACTATGGGTCCTGGATTTGCAGTTACTACTAAACCACAACCTAATGAGCATCAGTATTCTTATGGTGGTGCTTCAATTTGTCTTTATTGCCGTGC',\n",
       " 'cycle18': 'ACATGGGGACTAAAGATAAAAATTATAGCATTAGTCTATAATTTTATCTCCCTAGCTTCGCTAGTTCTCTACCGACACCAATCCAGGTGCGTCTGCCACCAAGTTGGCTACCCTTTCTAGGGGCGCTTTTGCGCTTGCTCACCATTAGATTACCTGGAAACCAGCCATTCAGGTTGGAGTTTCCCCAGGCACTTTTGCGTGGGCATTAGCGGCTTGTGGTTTTTGCACAAAATCTAAGCTACTTACCGTTCCTCTGACCATTCACCACTTCTATAGACAGCACTGACTACCGTAGGGTTCAAGTCACACCGGTCTGCACCGCCCGTCAGCGGACACATTACCCAGCATAGCACTCCTTGCACCGAGCCTAGGTAGGATAAAACCCCCTACCGGGTGACTCTTAAGGCCTTTCCTCCACGGGATAGCTACTAGTCACTAGGTGTAAGTGATCTGATCTGGGCGTATTGTGTTGCGCAAGTGTGATACCCATAGGAGCGTGGAATCCTATTCTGCGGCTCAGTGCCTGATATAGCTGTGAAATGGCCAAGAACAAGTCCAAGCGCGACGCTATCGCGTTGCCTGAAAATGTACCACCACCTCTGCAACTTTTCATTCACGTTGCAGCTGCTGAAGAGGGTCACCCTA',\n",
       " 'cycle19': 'CTGCGTCTACCTGAAGACTTGCCACCATAAATGGGTTGTGAGTCGTACGAACGGGTTGATGCATCTAAAACAAAAAGATAACAATTGTTTTGTTAGTGCAGGTGTAAACTTGTTTCAAAACACTGCTTATCAATTTAGACCTGCTATTGATGCTCTCTATAGGGAGTATCTCAATGGTAATCCAAACAGATTTGTTGCTTGGATCTACGCATCCACTAACCGTCGTGTTGGTGAGATGGGTTGTCCACAGCAAGTTATTTCTTTGCTCGTTAGTAACTCTGACGCAGCATTTTCAGCAACTACAGCCTGTTGTAACACCTACTTTAACCACACAGGTGTTATTTCAGTAGCTCGTGAATATGACCCAATACAACCAAAGGTCTACTGCATGAAGTGTGATGTGTGGACTCCCTTTACACCCCAGAGTGGAAAAGGTGCAGTTGCAATTGGTACTTCTGCAGATGAACCTACCGGTCCTGCCATTAAATTTGCCGCAGCTCACTGCTGGTACACTAATGGCAAGAAAACAGTTAATGGCTATGACACTAAAGCTAATGTTGTAGCTACTTATCATAGGTTTGACGTGCCTAAGCCTCAACTTGTCGAGGACGTGGTTGCGCTGCCTACTAAAAATGACTTTGAAGTTCTCAATGTTGAAGAACTGCCGCAGGATAGTGTGCTCCATTTGGACCCACCTCCTGTACAGGCCTTACAACCTAAGGCTAACCAACACATTGAGATTTTAGAAAACCCAGATTATCTGGACATTTTGGATCTTTGGATTCGTAAACCCAAATTCATCCTCGTAAAGTCGTGGAGTGTTTTGGGTAGAGCACTATGTAAGGCAGGTAAAGTTGTCTTTGTCAGTGCTTCGCTTTTGACCCGTTTCTACAATTACCTTGTAGAGATTGGTGCTCTTGACTCAACAATAAGGTTGTCAGTCGATCTTACCTGTAAATTTGTTAGAACGGTTCTCCCATCGTCTAACACTGTACA',\n",
       " 'cycle20': 'AAGGTTGGAGCTCTAACCTATGTTAAGACCACTGATTCACCACCCCTTTACTTTCCCAAAGTCAAGGGTGGTGTTATTGGTATTGCACTTAAGCAGCAGGGCACTGCGGCTAAGAAGCTCAATGTAGTCTTCCATGCTCAACCTGATGATGTTCTGCTAGCCTTCATACAACTTCAGCAATTCTTGAACCGTACTTCGGATTCAAGTGTTGAAATTACTGGTTGCCAGAGTTATGAAGTATCTCCAACTGTGACGGTCAAAATTGGCCCGTCTAAACCTGGGGATGTCATCGTGGCTACTGATGAGGAATACCTTAAATGCTTTGAAACCCCTGAGGTAGGTAGGCTCTATAAGGTTTTCCAAACTCAATCTTGGGCTATCATTGAGCGTTCCTTCTCCAGTTTGAAGATCCGCGTGTCCAAAGCTTTATCAGCATTTATAAGTTTTCTGCAAAACCTTGCAGATAACTTTACTGCAATAAGTGGTGTTGTCACTGCACTCATTCGTGAACTCCAGGATCTTACCCTGGATGTGGCGACACGTATCACTAACATACAATTTGTTTACCGTGCCGGTAAGCTTATTGTCGACACTACAAGTGTCATAGCTAAACTTTTCCAGCCATTCTGTGATTTTATATCACCTTTCCTTCGGAAAGTTGCTGGTTTTGCAATTTACACTGTTGGTAATCGCATGCTTATGTTTACCAGCACCGGCACCTTTCTTCTTACAAGGGCAACTACTAAGATACTCAATAAGGCAAAGTACATCTTTGATGTGGAGCCTGAGTACCCAGTAGATGTAACAACATCCAAAGTTGTAGTACATGAAGCACTCCAGCAAACCGACACTAAGCCTACTAGAGCTCTAGAGGCTGTTGATGTCGTTGTTGGTAATACTGTACTGCAAATGGCTACTGATGGCACTGCGTTCTACCCATCGGATGGTACGCACGCCTCTCTTCCAGGATTCAAAGCAGGCTCGGATGAGCTTTTTATAAGCTTCAACTGCGACCTCTTTGATGATGAGACTAATGCTCAAATCAACGAAACACTCGCTGCATATGAGCTTAACCAACTAGTGGCTCCAGGTGATTCTACACCGCGTCAAATTGCGACGTTGGTTGTCGATACACTTGTAGATGCTATAACAGACCACTTTCCGGAGAAAA',\n",
       " 'cycle21': 'TTGCCGTGCTCATATACCACATCCTGGTGTTGATGGACGGTGCCCCTACAAAGGCCGCTTTGTTCACATCGACAAAGATAAGGAACCTGTTTCCTTCGCCTTGACTCATGAGCCATGCAGTTCTTGTCAACGGTGGGTCAATTATGACTGCACCTGTGGATCTAGTCTGCAGAATTCGGCTTATTTAAACGAGTAACGGGTTCTAGTGACGCCCGGCTAGAACCCCTGCAGCCTGGAACTCAACCAGATGCTGTAAAAAGGGCCTTCCATGTGCATAATGATACCACCTCTGGTATATTCTTAAGCACAAAATCTAACTGCGCTCGGTTTAAAACCACACGCAGTGCCCTGCCTTTACCTAACAAGGGAGAGGTTGAATTGTACTTTGTTACTAAGCAGTGTGCAGCTAAAGTCTTCGAAATCGAGGAGGAATGCTACAACGCTCTTAGTACAGAGCTTTATACTACTGATGATACATTTGGTGTCCTTGCCAAAACTGAGTTCTTCAAGTTTGACAAGATACCTAATGTCAATCGCCAGTATCTGACTAAATATACACTCCTGGACTTGGCTTATGCTCTACGCCATTTGTCAACATCTAAGGATGTTATTCAAGAAATTTTGATCACCATGTGCGGAACCCCTGAAGATTGGTTTGGAGAAAATTGGTTTGATCCAATTGAGAATCCATCCTTTTACAAGGAGTTCCATAAACTTGGAGATATTCTTAACCGTTGTGTTCTTAATGCCAATAAGTTTGCTAGTGCCTGTATAGACGCTGGTCTTGTTGGCATATTAACACCCGACAATCAAGACCTCCTGGGTCAGATCTATGACTTTGGAGATTTTATTA',\n",
       " 'cycle22': 'TGATATTATTGACAATCTACCTACAGCAACACCTCCTCAGTGGGATGTTGGTATCTATAATAATACTATTCTCAACCTTACCGTTGAGATTAATGATCTACAAGAGCGGTCTAAAAACCTCTCTCAGATTGCAGATCGTTTACAAAATTATATTGATAATCTTAATAATACTCTAGTTGACCTTGATTGGCTCAACAGAGTGGAAACTTACCTTAAATGGCCGTGGTATATATGGCTTGCCATTGCCCTGGCTCTTATTGCATTTGTGACAATCCTCATAACAATCTTTCTTTGTACTGGTTGTTGTGGTGGTTGCTTTGGTTGTTGTGGCGGTTGTTTTGGCCTTTTCTCTAAGAAGAAAAGGTATACCGACGACCAACCAACACCGTCCTTTAAGTTTAAGGAATGGTAGTCGATGACTGGGCCGTTACCATCCCTGGACAATATATTATTGCTATACTAGTTGTCACCTGCATTGGTGTGGCACTACTTTTTATTAACACTTGCTTAGCTTGTGTTAAATTATTTTACAAGTGCTACCTAGGGGCAGCATATCTTGTTAGGCCTATTATAGTGTACTACTCCAAGCCGAACCCCGTACCTGAGGATGAGTTTGTAAAAGTACACCAATTTCCTAGAAACACTCACTATGTCTGACGCAGAAGAGTGGCAAATTATTGTTTTCATTGCGATCATATGGGCACTTGGCGTCATCCTCCAAGGAGGCTATGCCACGCGTAATCGTGTGATCTATGTTATTAAACTTATTCTGCTTTGGCTGCTCCAACCCTTCACCCTAGTGGTGACCATTTGGACCGCAGTTGACAGATCATCTAAGAAGGACGCAGTTTTCATTGTGTCCATAATTTT',\n",
       " 'cycle23': 'CAGCTAAATGTCCAATCAGTTAAGATGGTAGGAGCTCTCCTCCAGTTAACTGTTCATACCAACAACACAGCCACTCCAGACTATAAGTTTGAAAGGCTCCAACCAGGATCATCGATGACAATTGCTTGTGCTTATGATGGCATTGTACGGCATGTCTATCACGTGGTCCTCCAACTTAATAATCTTATTTATGCAAGCTTCCTTAACGGAGCTTGTGGTAGTGTGGGTTACACTCTTAAGGGTAAAACACTCTACTTACATTACATGCACCACATTGAGTTTAACAACAAAACTCATAGTGGTACAGATCTTGAAGGTAACTTCTATGGCCCCTATGTGGATGAGGAAGTTATTCAGCAACAAACAGCATTCCAGTATTACACTGATAATGTTGTTGCTCAATTATATGCACACTTACTGACTGTTGATGCTAGACCAAAATGGCTGGCACAATCTCAGATAAGTATCGAGGATTTTAACTCATGGGCTGCTAACAATTCCTTTGCTAACTTCCCATGTGAACAAACTAATATGTCCTACATTATGGGACTCTCGCAAACTGCTCGAGTCCCTGTAGAACGTATCCTCAATACCATTATACAGCTAACCACCAATAGAGATGGTGCTTGTATTATGGGATCTTATGATTTCGAGTGTGATTGGACGCCAGAGATGGTATACAATCAGGCTCCAATTTCATTGCAGTCAGGAGTAGTTAAGAAAACTTGTACGTGGTTCTTCCACTTCTTGTTTATGGCTATTACCATGCTACTCGCTGCCATGCATGTTTTCCCTGTACACTTGTACCCAATAGTACTGCCATGCTTTACTGTCGTGGCATTCCTGTTGACTTTAACCATTAAACACACTGTTGTGTTTACCACTACATATTTGCTTCCGTCACTTTTGATGATGGTTGTAAATGCTAACACTTTTTGGATACCGAACACATTTCTGCGCACCTGCTACGAAACTATATTCGGTTCCCCAATTGCTCAGCGACTGTATGGTTACACTGTTGCTCTTTATATGCTGATCTATGCTGGACTTGCAATCAACTATACGTTGAAAACACTCCGGTATAGAGCAACTTCATTCTTATCTTTTTGCATGCAGTGGTTTCAATATGGTTATGTTGCACACATTGCGTACAAACTGCTTAATAAACCCTGGACAGAATCACTACTCTTCACAGCCTTCACAATGCTAACCAGTCATCCTTTGTTGGCTGCTCTTAGCTGGTGGCTAGCTGGTCGCGTAACTCTGCCCATTATCATGCCTGACTTAGCTATTCGTGTTTTGGCGTATAACGTCATTGGCTATGTCATATGTGTTCGATTTGGCCTTATGTGGCTTGCAAATCGGTTCACAACTGTACCTATGGGCACATACCAGTATATGGTGTCTGTAGAGCAACTTAAGTACATGATGGCAGTTAAGATGTCCCCACCGCGTAATGCGTTTGAGGTGCTTATAGCCAACATTAGACTTCTTGGTTTGGGTGGAAACCGTAACATTGCTGTTTCTACTGTCCAAAACAAAATTCTTGATGCAAAAGCTACTGCTGTTGTTGTTGCTAACCTTCTTGAAAAGGCTGGCGTCACAAACAAGCACGCTATTTGCAAAAAGATTGTGAAAC',\n",
       " 'cycle24': 'CCAAAGCCACGGTGGTTCATGATATTGGTAACCCAAAAGGTATCCCTATCGTGCGCAAACCTGGTGTTAAATATCACTTCTATGATCAAGCACCCATTGTCAAACACGTTCAAAAACTAAAGTACAAGCCAGAGATGGAGGCCCGTTTCACCGATGGTTTGACTATGTTTTGGAATTGTAATGTTGACACATACCCTGCTAATGCCCTTGTGTGCCGCTACGATACTCATCGGCAGAAGCATTTAATTGGACCTAATGGTTCAGCATTATATGTTAATAAGCATGCTTTTCTCACCCCTGAGATGCATACTTATGCTACACATAAACTCAACTTGGCTCCACTCATCTACTACTCCACCACAGATTGTAGTAGTGAACAGCCTATTGTTGTTACCTACAGAGATTGTGTCGCCCGGTGCAATACTGGAAAAACTCTCTGTCCAAATCATGCTCTTGAATACCAAGAGTTTATCAATGCATACAATCTCATGGCTCGCCATGGATTTAATGTTTACATACCACGCAATGTCAACGTCTATAACTGTTGGCTTACTTTCACTAATCTCCAAAACCTTGAAAACTTAGCTTACAACTGTTATTATAAGAACTGCAATGCTCACGTTGATGGGCAGCTTGATGTAGTTATTAATAATAACGCTGTATATGCTAAGGTCGACAATAATCTTGTCAAACTTTTTGACAATCGCACTAACTTACCTGTCTCAGTGGCCTTTGAACATTACACTAACAGGCATACCCGTTCACTGCCAACTACACAGCTGTTATCTGGTTTAGGCGTAACCGCCACCAGAAATTTCACTGTGTGGTTCGACAATGATACAATTTTCCAATACACTATTAATGTATCTACGTATACTGACATCGACCCTAGTACCCATGTTGTCCTCTGTGATGATAGGTACGGAACAGATTGGAGTCAGTTTAACCAACTTCCTAATGCAGTATTCCTCACCAAAACTAAGGTGAAGAAAACAGAACCGTTTGTTTGTACAGCACTGACCCTAAATGGCCTCGCCATTGACGGTGAAGAGCTATACATCTATGTACGCTATAACAATCAACTGACCACATTTGCTACTACTTGTACACAGGGTAGAAATGTTGAGCAGTTTATACCTAAAACACCTATGGAAAGAGACTTCCTTGAGATGTCTCAACAGTCCTTCATTCAACAATATCAATTGCAGGAACTGGGTGTTGAACACATTATCTATGGTGATGATTCCAGTCCAGTCATTGGCGGAACTCACACACTTATCTCACTAGTTAAAAACAAGTTTGAACATCAGCTTGTCAACCATGTTTACAACCCAGTCCAGAACTGTGTTGTTACCTCACCTAACGCAAGCTCCAAGAACGTTTGCACTGTTCTTGATGTTCTTCTTGATGACTACATTGACATCATAAGACAAGCACATGCCAGTTACACAAGTAAATCTAAAGTATTCACTGTGTCAATTGACAACCAACAAATTAGATTCATGCTCTGGCATGATGAGCAAGTCAAGACTTGCTACCCAATCTTACAGTCACTTACCAATGGTTACCAGATGCCATCTGTGTACAAAACATTGGTTACTGACTTACAACCAGCTGACATCCCTAATTATCATTCCTACACCCCCCGGGTGCCTGGAGTAGTTAAGAATGTTATCAAGTACCGCCAACTTTTCAACTACATAGTTAAAAAGGATAGGTTGGCAGTACCACACAATATGACTGTATTACACCTTGGAGCTGCATCTGCACTAGGTACAGCACCAGGTTCTTCAGTCATAAAACAAATGTTTCCTGAAGGAACTGTTCTTATTGACCTTGATATAAGAGAGTTCACTTCAGACGCTAACCAAATAATAGTTACAGACTACAGAACTTACATACCACCACACCACGTAGACGTCATATTTTCTGACCTCTACTGTTGTGATGACATACACTTCTTTGACAATCTAATAAGGATAGTTAAGGAGAGGCTCGCCCTCGGTGGTTCTATCTTTGTTAAGATAACTGAACATTCATTCTCACCCGAACTCTACTCACTTGCGGGGTGGTTCGATGATTATCAACTATTTTGCACAGCAGTCAATGCCTCGTCTTCAGAAGCATTTTTATGCTGTTTTAATTATTTGGGGCAAGCTAAGGAAAACATTAATGGTTTTAACTTACATGCTTCCTACATTCAATGGCGCAATGAAATAGCATTGACACCAACCTATTCTCCTTTAGCGGACAACCCGGCTACGGCCTGTAAGCTAAAAGCAACGCCTATTATCTCGGCTCGTGAGTTAGAGAAGAAGCCTATTCTTCGCTATCTCGTTGCATCAGGACGCCTTCTTGTGAGGCCACCAGAATGCAGAGAGCTCTATTGATTATGACCTTACTTTGTCTCGTTCGAGCAAAGTTTGCTGATGATCTACTCGATTTGCTCACCTTTCCGGGTGCACATCGCTTCTTACATAAACCCACGAGGAATTCCAGCAGTCTCTACTCGCGGGCTAATAATTTTGATGTTGGCGTTCTTCCTGGCTACCCCACTAAGAACGTTAACCTCTTCTCACCACTTACTAACTCCACTTTGCCCATTAATGGCCTTCATCGGAGTTATCAACCACTCATGCTGAATTGTCTTACTAAAATAACTAACCACACTCTCAGCATGTATCTCCAACCTAGTGATATAC',\n",
       " 'cycle25': 'TGGTGATCTTGTTCCTTTCAAGATACCGGAGCAGATAATGTTCTATCCACATATTGTGCGCTATACTAGCAATTCCTATTGCCGTATGGGGCATTGTTTTAATACTAACCCTGGTATTTGCATTTCATTTACGGACGAATTTCCGTATAGTGAAAATGTTAAACCCGGTGTATACTGTGCTGATACCTCTTTGCAGTTGTTTTCAAACCTCGTTTTGGGCACTGTATCTGGTATTCACATCTTTACATCAACAGCTGCATTGCTTGGATCTACTATTGTGATCATACTATGCGTTGTTGCTGTTCTTGCAGTTCAGCGATTCTTCAAGGAGTACACAACTTTTGTTATGTACACTTGTGGTCTTGCTCTTGTCAACATTGTGGGCATTGCACTTATGTACAAGTGCCTTGTCTTCGCGATTTTCTATTATGCAATCTACCTTTACTTTGTCCTTACTTTCCCCTCCTTTAAGAGGAATGTGGCATTGTTTTACTTCGCTGTAGTGATCGTGCCGCACGTGAGTAACATGCAATTGCTTGCGCTCATTGTGTGTAGCATTATCTACTTTCTCTACACCTATGTTCATACTGTAGCTAAGACAGCTGGGAAATTTTCTTCCTTCTTAGACGCAGCTAAAGCTACTTTTGTCATTGACAATGAAAAGTACGTGTTGCTTAAAGACCTCGCTGTTGCTGAATTTGACCAGTATCTGGCCTCTTACAACAAGTACAAATATTTTTCTGGTACTGCTTCTGATAAGGATTATGATAAGGTCTGTATGGCATTTCTTGCCAAGGCTTTGTCATCTTTTCGTGAAGGAGGCGGTTCACAGTTGTACACACCACCTAAATTTGCAGTTGTTCAGAGTCTTAAGACCAAGCTGCAAGCAGGTATCAAAATCCTCCTGCACCCTTCAGGTGTAGTTGAGCGATGTATGGTCTCAGTTGTCTACAATGGATCTGCATTGAATGGCATCTGGCTTAAGAATGTTGTCTACTGCCCACGCCATGTAATTGGAAAATTCCGTGGTGACCAGTGGACTCACATGGTCTCAATTGCTGATTGCCGCGACTTTATAGTCAAGTGTCCAATACAGGGTATTCAGCTAAATGTCCAATCAGTTAAGATGGTAGGAGCTCTCCTCCAGTTAACTGT',\n",
       " 'cycle26': 'ACATGGGGACTAAAGATAAAAATTATAGCATTAGTCTATAATTTTATCTCCCTAGCTTCGCTAGTTCTCTACCGACACCAATCCAGGTGCGTCTGCCACCAAGTTGGCTACCCTTTCTAGGGGCGCTTTTGCGCTTGCTCACCATTAGATTACCTGGAAACCAGCCATTCAGGTTGGAGTTTCCCCAGGCACTTTTGCGTGGGCATTAGCGGCTTGTGGTTTTTGCACAAAATCTAAGCTACTTACCGTTCCTCTGACCATTCACCACTTCTATAGACAGCACTGACTACCGTAGGGTTCAAGTCACACCGGTCTGCACCGCCCGTCAGCGGACACATTACCCAGCATAGCACTCCTTGCACCGAGCCTAGGTAGGATAAAACCCCCTACCGGGTGACTCTTAAGGCCTTTCCTCCACGGGATAGCTACTAGTCACTAGGTGTAAGTGATCTGATCTGGGCGTATTGTGTTGCGCAAGTGTGATACCCATAGGAGCGTGGAATCCTATTCTGCGGCTCAGTGCCTGATATAGCTGTGAAATGGCCAAGAACAAGTCCAAGCGCGACGCTATCGCGTTGCCTGAAAATGTACCACCACCTCTGCAACTTTTCATTCACGTTGCAGCTGCTGAAGAGGGTCACCCTAAGGTTACTACTTACCTTGGCAACTATAACCTCTATGCCACCAAGGCTCCGCCTGGCGTGCAGGTTCTTAGTGCTAAAACCTCTCTTACTGACTTTGAGAATGTCTTTGGAGCCCAACCCACCTTGCGATCAATTCGTAATCTGGTTTGTGAGGCTCGCTCGGCTGAATGGACAACTTCCAAGAATGCTTTTGCACTCAAAGCCACTCAACTTGACTACTCTGATGCCGTTTTGAGGGCAATGATTCGTTTCTGCCCTCCAAAGGTGTCCACACTCGCTGCCTTTGCTCTTTTTGGCAGATTGGTTAAAATTGAGGACAAGGAACTTGCTGAGTTAGCTCGTGATACTGCCCTTGAGTTGGCGTACACGGCTAAAATTGGTACATCTCTTGCTGACACGAGATCTGTCTCACTTATTCATAAGGACGCTTATCTAACTCTCAGTAATGAGGTTGTTGGCGTAACTTTTACTGCCGCACTTATGGCAAAGGCTACCACTGTTAATGGAGCAATGCAATACTCAAACTTTTACCTCTACCCTCGTGCCACTATTAAGGTGACCGATGGTAAGGCTGAAGCAATTGCAACCAAGCCTCTGTCTGCTGCCACTAAAGGCAAGCAAATCACAGAGGATGTCAACCTTCTCCCTGACTATCAGCAGCTGCTTGTTGATCAAGTGACTGGCACTGAGGTTAAGGTTGGAGCTCTAACCTATGTTAAGACCACTGATTCACCACCCCTTTACTTTCCCAAAGTCAAGGGTGGTGTTATTGGTATTGCACTTAAGCAGCAGGGCACTGCGGCTAAGAAGCTCAATGTAGTCTTCCATGCTCAACCTGATGATGTTCTGCTAGCCTTCATACAACTTCAGCAATTCTTGAACCGTACTTCGGATTCAAGTGTTGAAATTACTGGTTGCCAGAGTTATGAAGTATCTCCAACTGTGACGGTCAAAATTGGCCCGTCTAAACCTGGGGATGTCATCGTGGCTACTGATGAGGAATACCTTAAATGCTTTGAAACCCCTGAGGTAGGTAGGCTCTATAAGGTTTTCCAAACTCAATCTTGGGCTATCATTGAGCGTTCCTTCTCCAGTTTGAAGATCCGCGTGTCCAAAGCTTTATCAGCATTTATAAGTTTTCTGCAAAACCTTGCAGATAACTTTACTGCAATAAGTGGTGTTGTCACTGCACTCATTCGTGAACTCCAGGATCTTACCCTGGATGTGGCGACACGTATCACTAACATACAATTTGTTTACCGTGCCGGTAAGCTTATTGTCGACACTACAAGTGTCATAGCTAAACTTTTCCAGCCA',\n",
       " 'cycle27': 'TATACTGGCTCTCTTACTGGAGCTATGGTATTTGGGGGACTGACTGCTGCAGCGGCAATACCATTCGCCACGGCAGTACAAGCCCGCCTTAATTATGTCGCACTGCAAACAAATGTACTACAAGAAAACCAGAAAATTCTTGCAGAATCATTTAACCAAGCAGTTGGCAATATATCACTTGCACTATCCTCTGTTAATGATGCCATCAAGCAAACTTCTGAGGCTCTTAACACCGTAGCTATTGCTATTAAAAAGATTCAAACAGTTGTTAACCAGCAGGGTGAGGCATTATCACACCTGACTGCACAGCTGTCAAACAATTTTCAGGCAATTTCGACTTCTATTCAAGACATTTACAACCGTCTTGAGGAAGTAGAGGCTAACCAGCAAGTTGACCGTCTCATCACAGGACGGTTGGCTGCACTTAATGCATATGTTACTCAGTTACTCAATCAGATGTCTCAGATTAGACAATCTCGATTGTTAGCTCAGCAAAAGATTAATGAGTGTGTCAAATCTCAGTCGTCCAGATACGGTTTCTGTGGAAATGGCACACACATCTTCTCACTTACACAGACTGCACCAAATGGCATATTTTTCATGCATGCAGTGCTTGTACCCAACAAATTCACACGTGTCAACGCTTCTGCCGGCATTTGTGTGGATAATACCAGAGGCTACTCATTGCAGCCTCAACTTATACTCTACCAGTTTAATAACTCCTGGAGAGTTACACCTAGAAATATGTATGAACCCAGACTGCCCCGGCAAGCTGATTTTATACAATTAACTGATTGCAGCGTTACTTTTTACAACACCACAGCTGCTAATCTTCCCAATATTATTCCTGACGTTATAGATGTTAATCAAACAGTCAGTGATATTATTGACAATCTACCTACAGCAACACCTCCTCAGTGGGATGTTGGTATCTATAATAATACTAT',\n",
       " 'cycle28': 'CAAAATTATATTGATAATCTTAATAATACTCTAGTTGACCTTGATTGGCTCAACAGAGTGGAAACTTACCTTAAATGGCCGTGGTATATATGGCTTGCCATTGCCCTGGCTCTTATTGCATTTGTGACAATCCTCATAACAATCTTTCTTTGTACTGGTTGTTGTGGTGGTTGCTTTGGTTGTTGTGGCGGTTGTTTTGGCCTTTTCTCTAAGAAGAAAAGGTATACCGACGACCAACCAACACCGTCCTTTAAGTTTAAGGAATGGTAGTCGATGACTGGGCCGTTACCATCCCTGGACAATATATTATTGCTATACTAGTTGTCACCTGCATTGGTGTGGCACTACTTTTTATTAACACTTGCTTAGCTTGTGTTAAATTATTTTACAAGTGCTACCTAGGGGCAGCATATCTTGTTAGGCCTATTATAGTGTACTACTCCAAGCCGAACCCCGTACCTGAGGATGAGTTTGTAAAAGTACACCAATTTCCTAGAAACACTCACTATGTCTGACGCAGAAGAGTGGCAAATTATTGTTTTCATTGCGATCATATGGGCACTTGGCGTCATCCTCCAAGGAGGCTATGCCACGCGTAATCGTGTGATCTATGTTATTAAACTTATTCTGCTTTGGCTGCTCCAACCCTTCACCCTAGTGGTGACCATTTGGACCGCAGTTGACAGATCATCTAAGAAGGACGCAGTTTTCATTGTGTCCATAATTTTTGCCGTACTGACCTTCATATCCTGGGCCAAGTACTGGTATGACTCAATTCGTTTATTAATGAAAACCAGATCTGCATGGGCACTCTCACCTGAGAGTAGACTCCTTGCAGGGATTATGGATCCAATGGGTACATGGAGGTGCATTCCCATCGACCACATGGCTCCAATTCTCACACCAGTCGTTAAGCATGGCAAGCTCAAGCTACATGGGCAAGAGCTGGCCAATGGCATATCAGTCAGAAATCCGCCACAGGATATGGTGATAGTGTCACCAAGTGACACCTTTCACTACACTTTTAAGAAACCTGTGGAATCAAACAACGATCCAGAATTCGCTGTTCTGATATACCAGGGTGACCGCGCTTCAAACGCTGGACTTCACACCATAACCACTTCAAAGGCCGGTGACGCTCGCCTGTATAAGTATATGTAATGTGCAACTGCCATCTGCAGCTGCGAGATTTATATAGATTGTGCAATAAGCGGCACATCAGAAGAGAGGATGTTCCTGAGCTTATTGACCCTCTCGTTAAAACTCGCTGTTTTGCTTACAGTCTCGTGGTTCTTGCTAATGCTAATCCAATTGCATTTAGCATACTACCTCGGAAAATTCTTATCAATGGTGAGCCTTTACTGCTTGAATATGGTAGCATATATGGTAAAGACTTTATCATTCGACCATCGCTCCAAGTCATTCTTGAAGATGAATTAAATTAAAGTTTTGACACCAATCTATCATGGCTGCACCAGTAGTCCCTACTACTGACGCGTCTTGGTTTCAGGTGCTCAAAGCTCAAAACAAAAAGGCTACTCATCCTCAGTTTCGTGGCAATGGAGTTCCGCTTAACTCCGCCATCAAACCCGTTGAAAACCATGGCTACTGGCTGCGTTACACCAGACAAAAGCCAGGTGGTACTCCGATTCCTCCATCCTATGCCTTTTATTATACTGGCACAGGTCCCAGAGGAAATCTTAAGTATGGTGAACTCCCTCCTAATGATACCCCAGCAACCACTCGTGTTACTTGGGTTAAGGGTTCGGGAGCTGACACTTCTATTAAGCCTCATGTTGCCAAACGCAACCCCAACAATCCTAAACATCAGCTGCTACCTCTCCGATTCCCAACCGGAGATGGCCCAGCTCAAGGTTTCAGAGTTGACCCCTTCAACGCTAGAGGAAGACCTCAGGAGCGTGGAAGTGGCCCAAGATCTCAATCTGTTAACTCCAGAGGCACAGGCAATCAGCCCAGGAAACGCGACCAATCTGCACCCGCTGCGGTACGTCGTAAGACCCAACATCAAGCTCCCAAGCGGACTTTACCTAAGGGTAAAACCATTTCTCAGGTATTTGGCAACCGGTCTCGTACTGGTGCCAATGTCGGCTCTGCAGACACTGAGAAGACGGGTATGGCTGATCCTCGCATCATGGCTCTAGCCAGACATGTGCCTGGTGTTCAGGAAATGCTTTTCGCTGGCCACCTTGAGAGCAACTTTCAGGCGGGGGCAATTACCCTTACCTTCTCTTACTCAATCACAGTCAAGGAGGGTTCTCCTGACTATGAGAGACTTAAGGATGC',\n",
       " 'cycle29': 'TATTGCACAATGGCATAGCATTCACCTCTCCAACAGGTGAGCTTTATGCATTTAAAAATATAACCACTGGCAAAACCCTTCAGGTCTTACCGTGTGAAACCCCTTCTCAACTGATTGTGATAAACAACACCGTTGTCGGTGCTATCACATCCAGTAATTCAACTGAAAATAATAGGTTTACTACTACTATTGTCACACCTACTTTCTTTTATTCCACAAATGCCACCACCTTCAACTGCACCAAGCCTGTTTTGTCCTATGGACCCATCAGCGTGTGTAGTGATGGTGCAATTGCGGGAACATCCACATTACAGAATACTCGACCATCCATAGTTTCACTATACGATGGCGAAGTTGAAATACCATCTGCATTTTCTCTTTCTGTTCAGACGGAGTATTTGCAAGTTCAAGCAGAGCAAGTTATAGTTGATTGTCCTCAGTATGTATGCAATGGCAACAGCCGTTGTCTACAATTACTGGCACAATACACCTCAGCTTGCTCTAACATTGAAGCAGCTCTGCATTCCTCTGCACAGTTGGATAGCAGAGAGATTATAAATATGTTTCAAACATCAACACAGTCCTTGCAGTTGGCTAATATTACCAACTTCAAGGGTGACTACAATTTTAGCAGCATACTAACCACCAGACTTGGTGGCAGATCTGCTATTGAAGACCTTCTTTTTAATAAAGTTGTTACTAGTGGCCTTGGCACTGTTGATCAGGACTACAAAGCCTGCTCTAGAGACATGGCCATCGCTGACTTAGTTTGTTCCCAGTATTACAATGGCATCATGGTTCTACCTGGTGTTGTTGATGCTGAGAAAATGGCAATGTATACTGGCTCTCTTACTGGAGCTATGGTATTTGGGGGACTGACTGCTGCAGCGGCAATACCATTCGCCACGGCAGTACAAGCCCGCCTTAATTATGTCGCACTGCAAACAAATGTACTACAAGAAAACCAGAAAATTCTTGCAGAATCATTTAACCAAGCAGTTGGCAATATATCACTTGCACTATCCTCTGTTAATGATGCCATCAAGCAAACTTCTGAGGCTCTTAACACCGTAGCTATTGCTATTAAAAAGATTCAAACAGTTGTTAACCAGCAGGGTGAGGCATTATCACACCTGACTGCACAGCTGTCAAACAATTTTCAGGCAATTTCGACTTCTATTCAAGACATTTACAACCGTCTTGAGGAAGTAGAGGCTAACCAGCAAGTTGACCGTCTCATCACAGGACGGTTGGCTGCACTTAATGCATATGTTACTCAGTTACTCAATCAGATGTCTCAGATTAGACAATCTCGATTGTTAGCTCAGCAAAAGATTAATGAGTGTGTCAAATCTCAGTCGTCCAGATACGGTTTCTGTGGAAATGGCACACACATCTTCTCACTTACACAGACTGCACCAAATGGCATATTTTTCATGCATGCAGTGCTTGTACCCAACAAATTCACACGTGTCAACGCTTCTGCCGGCATTTGTGTGGATAATACCA',\n",
       " 'cycle30': 'TCATCCTCAGTTTCGTGGCAATGGAGTTCCGCTTAACTCCGCCATCAAACCCGTTGAAAACCATGGCTACTGGCTGCGTTACACCAGACAAAAGCCAGGTGGTACTCCGATTCCTCCATCCTATGCCTTTTATTATACTGGCACAGGTCCCAGAGGAAATCTTAAGTATGGTGAACTCCCTCCTAATGATACCCCAGCAACCACTCGTGTTACTTGGGTTAAGGGTTCGGGAGCTGACACTTCTATTAAGCCTCATGTTGCCAAACGCAACCCCAACAATCCTAAACATCAGCTGCTACCTCTCCGATTCCCAACCGGAGATGGCCCAGCTCAAGGTTTCAGAGTTGACCCCTTCAACGCTAGAGGAAGACCTCAGGAGCGTGGAAGTGGCCCAAGATCTCAATCTGTTAACTCCAGAGGCACAGGCAATCAGCCCAGGAAACGCGACCAATCTGCACCCGCTGCGGTACGTCGTAAGACCCAACATCAAGCTCCCAAGCGGACTTTACCTAAGGGTAAAACCATTTCTCAGGTATTTGGCAACCGGTCTCGTACTGGTGCCAATGTCGGCTCTGCAGACACTGAGAAGACGGGTATGGCTGATCCTCGCATCATGGCTCTAGCCAGACATGTGCCTGGTGTTCAGGAAATGCTTTTCGCTGGCCACCTTGAGAGCAACTTTCAGGCGGGGGCAATTACCCTTACCTTCTCTTACTCAATCACAGTCAAGGAGGGTTCTCCTGACTATGAGAGACTTAAGGATGCGCTCAACACGGTCGTTAACCAGACCTATGAGCCACCCACCAAACCAACTAAGGACAAGAAGCCTGACAAACAAGACCAGTCTGCTAAACCCAAACAGCAGAAGAAACCTAAAAAGGTAACTCTGCCAGCAGACAAACAGGATTGGGAGTGGGATGATGCTTTTGAGATAAAGCAGGAATCAGCAGCGTAGACATCAATCTATGTCTGTTAAACCCACCCAACTCCACTCAAATATCTCTTTGGTTCCAGAGAGTCGTAGTGTATAGCCAGAGAGCCAGTCAGAGGGCGCTATCATGCAAACTAGGGCTGGCTACTCTAGCACAGAATCACATCCCGATAATCAACAGTGCTAGAAGGTTGATTATACCATTTAATATGCCGAGGCCACGCGGAGTACGATCGAGGGTACAGCATAATCTCAACTTTTGTTGAGCCACAATTTTAATCCTAATTGGAGAAGGCCAAAGGACTGTACTACTTTTGTAGGTGTAGCAGTCGCCCAGTGGGAAAGCGCCAACTAGGTTACAATTGTGGTGGGGACAAATTAGGGGAAATTAAATTGGCTTATAGGGGGGATGGAGCA'}"
      ]
     },
     "execution_count": 98,
     "metadata": {},
     "output_type": "execute_result"
    }
   ],
   "source": [
    "#循环读入fasta文件，保存进字典\n",
    "seqdict={}\n",
    "for i in range(1,31):\n",
    "    with open('tmp.cycle%s.fa'%(i), 'r') as file:\n",
    "        for line in file:\n",
    "            if line.startswith('>'):\n",
    "                key=line[1:].rstrip()\n",
    "                seqdict[key] = \"\"\n",
    "            else:\n",
    "                seqdict[key]+=line.rstrip()\n",
    "seqdict"
   ]
  },
  {
   "cell_type": "code",
   "execution_count": 79,
   "metadata": {
    "ExecuteTime": {
     "end_time": "2024-01-15T02:50:02.923622200Z",
     "start_time": "2024-01-15T02:50:02.645235500Z"
    }
   },
   "outputs": [],
   "source": [
    "#打乱并保存文件\n",
    "os.makedirs('output', exist_ok=True)\n",
    "shuffled_energy=[]\n",
    "for key,value in seqdict.items():\n",
    "    sequence=value\n",
    "    for i in range(1,11):\n",
    "        sequence_list = list(sequence)\n",
    "        random.shuffle(sequence_list)\n",
    "        shuffled_sequence = ''.join(sequence_list)\n",
    "        with open(os.path.join('output', '%s_shuffled_sequence%s.fa' % (key, i)), 'w') as f:\n",
    "            f.write('>'+'%s'%(i)+'\\n')\n",
    "            f.write(shuffled_sequence+'\\n')"
   ]
  },
  {
   "cell_type": "code",
   "execution_count": null,
   "metadata": {},
   "outputs": [],
   "source": [
    "for key,value in seqdict.items():\n",
    "    for i in range(1,11):\n",
    "        os.system('Fold %s_shuffled_sequence%s.fa  %s_shuffled_sequence%s.ct -mfe'%(key,i,key,i))\n",
    "        with open('%s_shuffled_sequence%s.ct'%(key,i), 'r') as file:\n",
    "            first_line = file.readline().strip()\n",
    "            value=first_line.split(' ')[4].strip()\n",
    "            shuffled_energy.append(float(value))"
   ]
  },
  {
   "cell_type": "code",
   "execution_count": 3,
   "metadata": {
    "ExecuteTime": {
     "end_time": "2024-01-15T09:29:05.635276500Z",
     "start_time": "2024-01-15T09:29:05.350275800Z"
    }
   },
   "outputs": [
    {
     "data": {
      "text/plain": [
       "300"
      ]
     },
     "execution_count": 3,
     "metadata": {},
     "output_type": "execute_result"
    }
   ],
   "source": [
    "import os\n",
    "os.chdir(\"D:/360MoveData/Users/dgwei/Desktop/文章/Scientific_data-Sunju/result/duplex energy/output\")\n",
    "shuffled_energy=[]\n",
    "for ii in range(1,31):\n",
    "    for i in range(1,11):\n",
    "        with open('cycle%s_shuffled_sequence%s.ct'%(ii,i), 'r') as file:\n",
    "            first_line = file.readline().strip()\n",
    "            value=first_line.split(' ')[4].strip()\n",
    "            shuffled_energy.append(float(value))\n",
    "len(shuffled_energy)"
   ]
  },
  {
   "cell_type": "code",
   "execution_count": 4,
   "metadata": {
    "ExecuteTime": {
     "end_time": "2024-01-15T09:29:09.193683800Z",
     "start_time": "2024-01-15T09:29:09.043676800Z"
    }
   },
   "outputs": [],
   "source": [
    "def split_list_into_groups(lst, group_size):\n",
    "    groups = []\n",
    "    for i in range(0, len(lst), group_size):\n",
    "        group = lst[i:i+group_size]\n",
    "        groups.append(group)\n",
    "    return groups"
   ]
  },
  {
   "cell_type": "code",
   "execution_count": 1,
   "metadata": {
    "ExecuteTime": {
     "end_time": "2024-01-20T05:49:16.669189600Z",
     "start_time": "2024-01-20T05:49:15.280190800Z"
    }
   },
   "outputs": [
    {
     "ename": "NameError",
     "evalue": "name 'split_list_into_groups' is not defined",
     "output_type": "error",
     "traceback": [
      "\u001B[1;31m---------------------------------------------------------------------------\u001B[0m",
      "\u001B[1;31mNameError\u001B[0m                                 Traceback (most recent call last)",
      "\u001B[1;32m~\\AppData\\Local\\Temp\\ipykernel_20700\\2821057284.py\u001B[0m in \u001B[0;36m<module>\u001B[1;34m\u001B[0m\n\u001B[0;32m      1\u001B[0m \u001B[0mgroup_size\u001B[0m \u001B[1;33m=\u001B[0m \u001B[1;36m10\u001B[0m\u001B[1;33m\u001B[0m\u001B[1;33m\u001B[0m\u001B[0m\n\u001B[1;32m----> 2\u001B[1;33m \u001B[0mresult\u001B[0m \u001B[1;33m=\u001B[0m \u001B[0msplit_list_into_groups\u001B[0m\u001B[1;33m(\u001B[0m\u001B[0mshuffled_energy\u001B[0m\u001B[1;33m,\u001B[0m \u001B[0mgroup_size\u001B[0m\u001B[1;33m)\u001B[0m\u001B[1;33m\u001B[0m\u001B[1;33m\u001B[0m\u001B[0m\n\u001B[0m",
      "\u001B[1;31mNameError\u001B[0m: name 'split_list_into_groups' is not defined"
     ]
    }
   ],
   "source": [
    "group_size = 10\n",
    "result = split_list_into_groups(shuffled_energy, group_size)"
   ]
  },
  {
   "cell_type": "code",
   "execution_count": 13,
   "metadata": {
    "ExecuteTime": {
     "end_time": "2024-01-15T09:35:53.963586400Z",
     "start_time": "2024-01-15T09:35:53.833201600Z"
    }
   },
   "outputs": [],
   "source": [
    "with open('mfe.txt','w')as f:\n",
    "    for group,line in zip(result,raw_energy):\n",
    "        f.write(str(min(group))+\"\\t\"+str(line)+\"\\n\")"
   ]
  },
  {
   "cell_type": "code",
   "execution_count": 17,
   "metadata": {
    "ExecuteTime": {
     "end_time": "2024-01-15T09:39:53.039841100Z",
     "start_time": "2024-01-15T09:39:52.887841500Z"
    }
   },
   "outputs": [
    {
     "data": {
      "text/html": [
       "<div>\n",
       "<style scoped>\n",
       "    .dataframe tbody tr th:only-of-type {\n",
       "        vertical-align: middle;\n",
       "    }\n",
       "\n",
       "    .dataframe tbody tr th {\n",
       "        vertical-align: top;\n",
       "    }\n",
       "\n",
       "    .dataframe thead th {\n",
       "        text-align: right;\n",
       "    }\n",
       "</style>\n",
       "<table border=\"1\" class=\"dataframe\">\n",
       "  <thead>\n",
       "    <tr style=\"text-align: right;\">\n",
       "      <th></th>\n",
       "      <th>shuffled</th>\n",
       "      <th>raw</th>\n",
       "    </tr>\n",
       "  </thead>\n",
       "  <tbody>\n",
       "    <tr>\n",
       "      <th>0</th>\n",
       "      <td>-14.7</td>\n",
       "      <td>-12.2</td>\n",
       "    </tr>\n",
       "    <tr>\n",
       "      <th>1</th>\n",
       "      <td>-609.3</td>\n",
       "      <td>-693.3</td>\n",
       "    </tr>\n",
       "    <tr>\n",
       "      <th>2</th>\n",
       "      <td>-158.6</td>\n",
       "      <td>-187.5</td>\n",
       "    </tr>\n",
       "    <tr>\n",
       "      <th>3</th>\n",
       "      <td>-240.0</td>\n",
       "      <td>-240.2</td>\n",
       "    </tr>\n",
       "    <tr>\n",
       "      <th>4</th>\n",
       "      <td>-76.9</td>\n",
       "      <td>-78.7</td>\n",
       "    </tr>\n",
       "    <tr>\n",
       "      <th>5</th>\n",
       "      <td>-242.2</td>\n",
       "      <td>-250.5</td>\n",
       "    </tr>\n",
       "    <tr>\n",
       "      <th>6</th>\n",
       "      <td>-219.7</td>\n",
       "      <td>-223.5</td>\n",
       "    </tr>\n",
       "    <tr>\n",
       "      <th>7</th>\n",
       "      <td>-344.7</td>\n",
       "      <td>-396.6</td>\n",
       "    </tr>\n",
       "    <tr>\n",
       "      <th>8</th>\n",
       "      <td>-258.8</td>\n",
       "      <td>-269.5</td>\n",
       "    </tr>\n",
       "    <tr>\n",
       "      <th>9</th>\n",
       "      <td>-255.5</td>\n",
       "      <td>-289.3</td>\n",
       "    </tr>\n",
       "    <tr>\n",
       "      <th>10</th>\n",
       "      <td>-269.0</td>\n",
       "      <td>-280.5</td>\n",
       "    </tr>\n",
       "    <tr>\n",
       "      <th>11</th>\n",
       "      <td>-262.6</td>\n",
       "      <td>-288.4</td>\n",
       "    </tr>\n",
       "    <tr>\n",
       "      <th>12</th>\n",
       "      <td>-384.5</td>\n",
       "      <td>-401.7</td>\n",
       "    </tr>\n",
       "    <tr>\n",
       "      <th>13</th>\n",
       "      <td>-235.9</td>\n",
       "      <td>-240.7</td>\n",
       "    </tr>\n",
       "    <tr>\n",
       "      <th>14</th>\n",
       "      <td>-414.8</td>\n",
       "      <td>-426.5</td>\n",
       "    </tr>\n",
       "    <tr>\n",
       "      <th>15</th>\n",
       "      <td>-458.9</td>\n",
       "      <td>-499.1</td>\n",
       "    </tr>\n",
       "    <tr>\n",
       "      <th>16</th>\n",
       "      <td>-294.6</td>\n",
       "      <td>-300.7</td>\n",
       "    </tr>\n",
       "    <tr>\n",
       "      <th>17</th>\n",
       "      <td>-201.3</td>\n",
       "      <td>-224.3</td>\n",
       "    </tr>\n",
       "    <tr>\n",
       "      <th>18</th>\n",
       "      <td>-282.6</td>\n",
       "      <td>-298.2</td>\n",
       "    </tr>\n",
       "    <tr>\n",
       "      <th>19</th>\n",
       "      <td>-330.4</td>\n",
       "      <td>-367.6</td>\n",
       "    </tr>\n",
       "    <tr>\n",
       "      <th>20</th>\n",
       "      <td>-233.4</td>\n",
       "      <td>-272.1</td>\n",
       "    </tr>\n",
       "    <tr>\n",
       "      <th>21</th>\n",
       "      <td>-221.1</td>\n",
       "      <td>-243.9</td>\n",
       "    </tr>\n",
       "    <tr>\n",
       "      <th>22</th>\n",
       "      <td>-425.8</td>\n",
       "      <td>-465.5</td>\n",
       "    </tr>\n",
       "    <tr>\n",
       "      <th>23</th>\n",
       "      <td>-635.4</td>\n",
       "      <td>-686.4</td>\n",
       "    </tr>\n",
       "    <tr>\n",
       "      <th>24</th>\n",
       "      <td>-309.4</td>\n",
       "      <td>-330.1</td>\n",
       "    </tr>\n",
       "    <tr>\n",
       "      <th>25</th>\n",
       "      <td>-571.4</td>\n",
       "      <td>-617.9</td>\n",
       "    </tr>\n",
       "    <tr>\n",
       "      <th>26</th>\n",
       "      <td>-217.4</td>\n",
       "      <td>-244.0</td>\n",
       "    </tr>\n",
       "    <tr>\n",
       "      <th>27</th>\n",
       "      <td>-658.9</td>\n",
       "      <td>-675.9</td>\n",
       "    </tr>\n",
       "    <tr>\n",
       "      <th>28</th>\n",
       "      <td>-374.8</td>\n",
       "      <td>-425.9</td>\n",
       "    </tr>\n",
       "    <tr>\n",
       "      <th>29</th>\n",
       "      <td>-412.4</td>\n",
       "      <td>-411.3</td>\n",
       "    </tr>\n",
       "  </tbody>\n",
       "</table>\n",
       "</div>"
      ],
      "text/plain": [
       "    shuffled    raw\n",
       "0      -14.7  -12.2\n",
       "1     -609.3 -693.3\n",
       "2     -158.6 -187.5\n",
       "3     -240.0 -240.2\n",
       "4      -76.9  -78.7\n",
       "5     -242.2 -250.5\n",
       "6     -219.7 -223.5\n",
       "7     -344.7 -396.6\n",
       "8     -258.8 -269.5\n",
       "9     -255.5 -289.3\n",
       "10    -269.0 -280.5\n",
       "11    -262.6 -288.4\n",
       "12    -384.5 -401.7\n",
       "13    -235.9 -240.7\n",
       "14    -414.8 -426.5\n",
       "15    -458.9 -499.1\n",
       "16    -294.6 -300.7\n",
       "17    -201.3 -224.3\n",
       "18    -282.6 -298.2\n",
       "19    -330.4 -367.6\n",
       "20    -233.4 -272.1\n",
       "21    -221.1 -243.9\n",
       "22    -425.8 -465.5\n",
       "23    -635.4 -686.4\n",
       "24    -309.4 -330.1\n",
       "25    -571.4 -617.9\n",
       "26    -217.4 -244.0\n",
       "27    -658.9 -675.9\n",
       "28    -374.8 -425.9\n",
       "29    -412.4 -411.3"
      ]
     },
     "execution_count": 17,
     "metadata": {},
     "output_type": "execute_result"
    }
   ],
   "source": [
    "df = pd.read_table(\"mfe.txt\", sep=\"\\t\",header=None,names=[\"shuffled\", \"raw\"], dtype={\"shuffled\": float, \"raw\": float})\n",
    "df"
   ]
  },
  {
   "cell_type": "code",
   "execution_count": 25,
   "metadata": {
    "ExecuteTime": {
     "end_time": "2024-01-15T09:45:56.205486500Z",
     "start_time": "2024-01-15T09:45:56.065443200Z"
    }
   },
   "outputs": [
    {
     "data": {
      "text/plain": [
       "'3.22e-07'"
      ]
     },
     "execution_count": 25,
     "metadata": {},
     "output_type": "execute_result"
    }
   ],
   "source": [
    "from scipy import stats\n",
    "mean1 = np.mean(df['shuffled'])\n",
    "mean2 = np.mean(df['raw'])\n",
    "sem1 = stats.sem(df['shuffled'])\n",
    "sem2 = stats.sem(df['raw'])\n",
    "t_statistic, p_value = stats.ttest_rel(df['shuffled'],df['raw'])\n",
    "p_value_scientific = \"{:.2e}\".format(p_value)\n",
    "p_value_scientific"
   ]
  },
  {
   "cell_type": "code",
   "execution_count": 62,
   "metadata": {
    "ExecuteTime": {
     "end_time": "2024-01-16T06:42:55.506160900Z",
     "start_time": "2024-01-16T06:42:55.316077Z"
    }
   },
   "outputs": [
    {
     "data": {
      "image/png": "[encoded data removed]",
      "text/plain": [
       "<Figure size 640x480 with 1 Axes>"
      ]
     },
     "metadata": {},
     "output_type": "display_data"
    }
   ],
   "source": [
    "fig, ax = plt.subplots()\n",
    "ax.scatter(df['shuffled'],df['raw'],color='#C3D9AB',marker='D')\n",
    "\n",
    "# ax.xticks(fontsize=15)\n",
    "# ax.yticks(fontsize=15)\n",
    "ax.grid(False)\n",
    "# ax.xticks(range(0, -700, 200))\n",
    "# plt.yticks(range(0, 7, 2))\n",
    "# plt.text(1, 10, f'R: {R:.2f}', ha='left', va='top',fontsize=15)\n",
    "plt.gca().spines['top'].set_visible(False)\n",
    "plt.gca().spines['right'].set_visible(False)\n",
    "ax.invert_xaxis()\n",
    "ax.invert_yaxis()\n",
    "ax.tick_params(axis='x', which='both', bottom=True, top=False, labelbottom=True,colors='black')\n",
    "ax.tick_params(axis='y', which='both', left=True, right=False, labelleft=True,colors='black')\n",
    "x_axis = plt.gca().spines['bottom']\n",
    "y_axis = plt.gca().spines['left']\n",
    "x_axis.set_color('black')\n",
    "y_axis.set_color('black')\n",
    "\n",
    "plt.text(-100,-600, 'p=3.22e-07', ha='left', va='center', fontsize=15)\n",
    "\n",
    "ax.plot([-700, 0], [-700, 0], linestyle='dashed', color='gray')\n",
    "plt.savefig('D:/360MoveData/Users/dgwei/Desktop/文章/Scientific_data-Sunju/图片/Figure 4c.pdf')\n",
    "\n",
    "plt.show()"
   ]
  }
 ],
 "metadata": {
  "kernelspec": {
   "display_name": "Python 3 (ipykernel)",
   "language": "python",
   "name": "python3"
  },
  "language_info": {
   "codemirror_mode": {
    "name": "ipython",
    "version": 3
   },
   "file_extension": ".py",
   "mimetype": "text/x-python",
   "name": "python",
   "nbconvert_exporter": "python",
   "pygments_lexer": "ipython3",
   "version": "3.9.13"
  }
 },
 "nbformat": 4,
 "nbformat_minor": 1
}
