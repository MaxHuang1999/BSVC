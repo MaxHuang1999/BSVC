{
 "cells": [
  {
   "cell_type": "markdown",
   "source": [
    "CRSSNT 结果分析"
   ],
   "metadata": {
    "collapsed": false
   }
  },
  {
   "cell_type": "markdown",
   "source": [
    "修改bedpe文件内容"
   ],
   "metadata": {
    "collapsed": false
   }
  },
  {
   "cell_type": "code",
   "execution_count": 18,
   "outputs": [],
   "source": [
    "import os\n",
    "os.chdir(\"D:/360MoveData/Users/dgwei/Desktop/\")\n",
    "import numpy as np\n",
    "import pandas as pd\n",
    "import matplotlib.pyplot as plt"
   ],
   "metadata": {
    "collapsed": false,
    "ExecuteTime": {
     "end_time": "2024-03-29T00:25:11.674585400Z",
     "start_time": "2024-03-29T00:25:11.534537200Z"
    }
   }
  },
  {
   "cell_type": "code",
   "execution_count": 19,
   "outputs": [],
   "source": [
    "matrix1 = pd.read_csv('PEDV.mergedgap1.cliques.t_o0.1_dg.bedpe', names=['chr1', 's1', 'e1','chr2','s2','e2','info','count','strand1','strand2'], sep='\\t')"
   ],
   "metadata": {
    "collapsed": false,
    "ExecuteTime": {
     "end_time": "2024-03-29T00:25:13.434498400Z",
     "start_time": "2024-03-29T00:25:13.294704200Z"
    }
   }
  },
  {
   "cell_type": "code",
   "execution_count": 1,
   "outputs": [
    {
     "ename": "NameError",
     "evalue": "name 'matrix1' is not defined",
     "output_type": "error",
     "traceback": [
      "\u001B[1;31m---------------------------------------------------------------------------\u001B[0m",
      "\u001B[1;31mNameError\u001B[0m                                 Traceback (most recent call last)",
      "\u001B[1;32m~\\AppData\\Local\\Temp\\ipykernel_7960\\2228624707.py\u001B[0m in \u001B[0;36m<module>\u001B[1;34m\u001B[0m\n\u001B[1;32m----> 1\u001B[1;33m \u001B[0mmatrix2\u001B[0m \u001B[1;33m=\u001B[0m \u001B[0mmatrix1\u001B[0m\u001B[1;33m[\u001B[0m\u001B[0mmatrix1\u001B[0m\u001B[1;33m[\u001B[0m\u001B[1;34m's2'\u001B[0m\u001B[1;33m]\u001B[0m \u001B[1;33m!=\u001B[0m \u001B[0mmatrix1\u001B[0m\u001B[1;33m[\u001B[0m\u001B[1;34m'e2'\u001B[0m\u001B[1;33m]\u001B[0m\u001B[1;33m]\u001B[0m\u001B[1;33m\u001B[0m\u001B[1;33m\u001B[0m\u001B[0m\n\u001B[0m\u001B[0;32m      2\u001B[0m \u001B[0mmatrix3\u001B[0m \u001B[1;33m=\u001B[0m \u001B[0mmatrix2\u001B[0m\u001B[1;33m[\u001B[0m\u001B[0mmatrix2\u001B[0m\u001B[1;33m[\u001B[0m\u001B[1;34m'info'\u001B[0m\u001B[1;33m]\u001B[0m\u001B[1;33m.\u001B[0m\u001B[0mstr\u001B[0m\u001B[1;33m.\u001B[0m\u001B[0msplit\u001B[0m\u001B[1;33m(\u001B[0m\u001B[1;34m','\u001B[0m\u001B[1;33m)\u001B[0m\u001B[1;33m.\u001B[0m\u001B[0mstr\u001B[0m\u001B[1;33m[\u001B[0m\u001B[1;33m-\u001B[0m\u001B[1;36m1\u001B[0m\u001B[1;33m]\u001B[0m\u001B[1;33m.\u001B[0m\u001B[0mastype\u001B[0m\u001B[1;33m(\u001B[0m\u001B[0mfloat\u001B[0m\u001B[1;33m)\u001B[0m \u001B[1;33m>=\u001B[0m \u001B[1;36m0.001\u001B[0m\u001B[1;33m]\u001B[0m\u001B[1;33m\u001B[0m\u001B[1;33m\u001B[0m\u001B[0m\n\u001B[0;32m      3\u001B[0m \u001B[0mmatrix3\u001B[0m\u001B[1;33m[\u001B[0m\u001B[1;34m'info'\u001B[0m\u001B[1;33m]\u001B[0m \u001B[1;33m=\u001B[0m \u001B[0mmatrix3\u001B[0m\u001B[1;33m[\u001B[0m\u001B[1;34m'info'\u001B[0m\u001B[1;33m]\u001B[0m\u001B[1;33m.\u001B[0m\u001B[0mstr\u001B[0m\u001B[1;33m.\u001B[0m\u001B[0msplit\u001B[0m\u001B[1;33m(\u001B[0m\u001B[1;34m','\u001B[0m\u001B[1;33m)\u001B[0m\u001B[1;33m.\u001B[0m\u001B[0mstr\u001B[0m\u001B[1;33m[\u001B[0m\u001B[1;36m0\u001B[0m\u001B[1;33m]\u001B[0m\u001B[1;33m+\u001B[0m\u001B[1;34m'-'\u001B[0m\u001B[1;33m+\u001B[0m\u001B[0mmatrix3\u001B[0m\u001B[1;33m[\u001B[0m\u001B[1;34m'info'\u001B[0m\u001B[1;33m]\u001B[0m\u001B[1;33m.\u001B[0m\u001B[0mstr\u001B[0m\u001B[1;33m.\u001B[0m\u001B[0msplit\u001B[0m\u001B[1;33m(\u001B[0m\u001B[1;34m','\u001B[0m\u001B[1;33m)\u001B[0m\u001B[1;33m.\u001B[0m\u001B[0mstr\u001B[0m\u001B[1;33m[\u001B[0m\u001B[1;36m1\u001B[0m\u001B[1;33m]\u001B[0m\u001B[1;33m\u001B[0m\u001B[1;33m\u001B[0m\u001B[0m\n\u001B[0;32m      4\u001B[0m \u001B[1;31m# matrix3\u001B[0m\u001B[1;33m\u001B[0m\u001B[1;33m\u001B[0m\u001B[0m\n",
      "\u001B[1;31mNameError\u001B[0m: name 'matrix1' is not defined"
     ]
    }
   ],
   "source": [
    "matrix2 = matrix1[matrix1['s2'] != matrix1['e2']]\n",
    "matrix3 = matrix2[matrix2['info'].str.split(',').str[-1].astype(float) >= 0.001]\n",
    "matrix3['info'] = matrix3['info'].str.split(',').str[0]+'-'+matrix3['info'].str.split(',').str[1]\n",
    "# matrix3"
   ],
   "metadata": {
    "collapsed": false,
    "ExecuteTime": {
     "end_time": "2024-04-09T12:20:36.498545Z",
     "start_time": "2024-04-09T12:20:35.697545100Z"
    }
   }
  },
  {
   "cell_type": "code",
   "execution_count": 21,
   "outputs": [],
   "source": [
    "matrix3.to_csv(\"PEDV.mergedgap1.cliques.t_o0.1_dg.0.01.bedpe\",sep='\\t',index=False,header=False)"
   ],
   "metadata": {
    "collapsed": false,
    "ExecuteTime": {
     "end_time": "2024-03-29T00:25:18.114556400Z",
     "start_time": "2024-03-29T00:25:17.964719900Z"
    }
   }
  },
  {
   "cell_type": "markdown",
   "source": [
    "CRSSANT 使用笔记，以 PEDV vRIC-seq 数据为例 —— 2024.3.24"
   ],
   "metadata": {
    "collapsed": false
   }
  },
  {
   "cell_type": "markdown",
   "source": [
    "1.数据清洗\n",
    "fastp -i E100035064_L01_116_1.fq -I E100035064_L01_116_2.fq -o PEDV.read1.clean.fq -O PEDV.read2.clean.fq -z 4 -q 20 -u 30 -f 10\n",
    "perl /storx/max/workspace/vRICseq/RICpipe-master/step0.remove_PCR_duplicates/scripts/remove_duplicated_reads_PE.pl PEDV.read1.clean.fq PEDV.read2.clean.fq PEDV.read1.clean.rm.fq PEDV.read2.clean.rm.fq"
   ],
   "metadata": {
    "collapsed": false
   }
  },
  {
   "cell_type": "markdown",
   "source": [
    "2.数据比对\n",
    "mkdir align_to_reference_genome  #建索引 STAR 2.7.1a\n",
    "STAR --runMode genomeGenerate --runThreadN 16 --genomeSAindexNbases 6 --genomeDir align_to_reference_genome --genomeFastaFiles MK584552.1.fasta\n",
    "STAR --runMode alignReads --genomeDir align_to_reference_genome/ --readFilesIn PEDV.read1.clean.rm.fq PEDV.read2.clean.rm.fq --outFileNamePrefix PEDV --runThreadN 50 --genomeLoad NoSharedMemory --outReadsUnmapped Fastx --outFilterMultimapNmax 10 --outFilterScoreMinOverLread 0 --outFilterMatchNminOverLread 0 --outSAMattributes All --outSAMtype BAM Unsorted SortedByCoordinate --alignIntronMin 1 --scoreGap 0 --scoreGapNoncan 0 --scoreGapGCAG 0 --scoreGapATAC 0 --scoreGenomicLengthLog2scale -1 --chimFilter None --chimOutType WithinBAM HardClip --chimSegmentMin 5 --chimJunctionOverhangMin 5 --chimScoreJunctionNonGTAG 0 -- chimScoreDropMax 80 --chimNonchimScoreDropMin 20 --limitOutSJcollapsed 10000000 --limitIObufferSize 1500000000 --limitBAMsortRAM 1154911447\n",
    "\n",
    "STAR --runMode alignReads --genomeDir align_to_reference_genome/ --readFilesIn PEDV.read1.clean.rm.fq PEDV.read2.clean.rm.fq --outFileNamePrefix PEDV --runThreadN 100 --genomeLoad NoSharedMemory --outReadsUnmapped Fastx --outFilterMultimapNmax 10 --outFilterScoreMinOverLread 0 --outFilterMatchNminOverLread 0 --outSAMattributes All  --alignIntronMin 1 --scoreGap 0 --scoreGapNoncan 0 --scoreGapGCAG 0 --scoreGapATAC 0 --scoreGenomicLengthLog2scale -1 --chimFilter None --chimSegmentMin 5 --chimJunctionOverhangMin 5 --chimScoreJunctionNonGTAG 0 -- chimScoreDropMax 80 --chimNonchimScoreDropMin 20 --limitOutSJcollapsed 10000000 --limitIObufferSize 1500000000"
   ],
   "metadata": {
    "collapsed": false
   }
  },
  {
   "cell_type": "markdown",
   "source": [
    "3.Rearrange softclipped alignments and remap\n",
    "\n",
    "samtools view -h PEDVAligned.out.bam > PEDVAligned.out.sam\n",
    "报错：[E::sam_format1] Corrupted aux data for read E100035064L1C042R01202759559\n",
    "samtools view: writing to standard output failed: Invalid argument\n",
    "解决方法：\n",
    "https://github.com/LuyiTian/scPipe/issues/129\n",
    "samtools view PEDVAligned.out.bam | grep -G 'E100035064L1C042R01202759559'  #查看问题行\n",
    "① STAR 比对直接生成 sam 文件\n",
    "STAR --runMode alignReads --genomeDir align_to_reference_genome/ --readFilesIn PEDV.read1.clean.rm.fq PEDV.read2.clean.rm.fq --outFileNamePrefix PEDV --runThreadN 100 --genomeLoad NoSharedMemory --outReadsUnmapped Fastx --outFilterMultimapNmax 10 --outFilterScoreMinOverLread 0 --outFilterMatchNminOverLread 0 --outSAMattributes All  --alignIntronMin 1 --scoreGap 0 --scoreGapNoncan 0 --scoreGapGCAG 0 --scoreGapATAC 0 --scoreGenomicLengthLog2scale -1 --chimFilter None --chimSegmentMin 5 --chimJunctionOverhangMin 5 --chimScoreJunctionNonGTAG 0 -- chimScoreDropMax 80 --chimNonchimScoreDropMin 20 --limitOutSJcollapsed 10000000 --limitIObufferSize 1500000000\n",
    "\n",
    "②可能是 fastp 的问题，考虑重新使用之前数据清洗方法\n",
    "trimmomatic PE -phred33 -threads 100 E100035064_L01_116_1.fq E100035064_L01_116_2.fq read1.clean.pair.fq read1.clean.unpair.fq read2.clean.pair.fq read2.clean.unpair.fq ILLUMINACLIP:TruSeq3-PE-2.fa:2:30:7:8:true LEADING:25 TRAILING:20 SLIDINGWINDOW:4:15 MINLEN:30\n",
    "****************************************************\n",
    "TrimmomaticPE: Started with arguments:\n",
    " -phred33 -threads 100 E100035064_L01_116_1.fq E100035064_L01_116_2.fq read1.clean.pair.fq read1.clean.unpair.fq read2.clean.pair.fq read2.clean.unpair.fq ILLUMINACLIP:TruSeq3-PE-2.fa:2:30:7:8:true LEADING:25 TRAILING:20 SLIDINGWINDOW:4:15 MINLEN:30\n",
    "Using PrefixPair: 'TACACTCTTTCCCTACACGACGCTCTTCCGATCT' and 'GTGACTGGAGTTCAGACGTGTGCTCTTCCGATCT'\n",
    "Using Long Clipping Sequence: 'AGATCGGAAGAGCGTCGTGTAGGGAAAGAGTGTA'\n",
    "Using Long Clipping Sequence: 'AGATCGGAAGAGCACACGTCTGAACTCCAGTCAC'\n",
    "Using Long Clipping Sequence: 'GTGACTGGAGTTCAGACGTGTGCTCTTCCGATCT'\n",
    "Using Long Clipping Sequence: 'TACACTCTTTCCCTACACGACGCTCTTCCGATCT'\n",
    "ILLUMINACLIP: Using 1 prefix pairs, 4 forward/reverse sequences, 0 forward only sequences, 0 reverse only sequences\n",
    "Input Read Pairs: 58059581 Both Surviving: 57963711 (99.83%) Forward Only Surviving: 64607 (0.11%) Reverse Only Surviving: 31025 (0.05%) Dropped: 238 (0.00%)\n",
    "TrimmomaticPE: Completed successfully\n",
    "*****************************************************\n",
    "perl /storx/max/workspace/vRICseq/RICpipe-master/step0.remove_PCR_duplicates/scripts/remove_duplicated_reads_PE.pl read1.clean.pair.fq read2.clean.pair.fq read1.clean.pair.rmDup.fq read2.clean.pair.rmDup.fq\n",
    "****************************************************\n",
    "cutadapt -j 10 -b A{100} -b C{100} -b G{100} -b T{100} -n 3 -m 30 -e 0.1 -o read1.clean.rmDup.rmPoly.fq read1.clean.pair.rmDup.fq\n",
    "cutadapt -j 10 -b A{100} -b C{100} -b G{100} -b T{100} -n 3 -m 30 -e 0.1 -o read2.clean.rmDup.rmPoly.fq read2.clean.pair.rmDup.fq\n",
    "****************************************************\n",
    "EXITING because of FATAL ERROR in reads input: quality string length is not equal to sequence length\n",
    "@E100035064L1C042R04004009235/1\n",
    "+\n",
    "\n",
    "SOLUTION: fix your fastq file\n",
    "这种方法难以解决问题，似乎是因为 trimmomatic 会修改 fastq 文件\n",
    "\n",
    "python ../scripts/softreverse.py PEDVAligned.out.sam PEDV.softrev.fastq"
   ],
   "metadata": {
    "collapsed": false
   }
  },
  {
   "cell_type": "markdown",
   "source": [
    "比对反向 fastq 文件\n",
    "STAR --runMode alignReads --genomeDir align_to_reference_genome/ --readFilesIn PEDV.softrev.fastq --outFileNamePrefix PEDV.softrev --runThreadN 100 --genomeLoad NoSharedMemory --outReadsUnmapped Fastx --outFilterMultimapNmax 10 --outFilterScoreMinOverLread 0 --outFilterMatchNminOverLread 0 --outSAMattributes All  --alignIntronMin 1 --scoreGap 0 --scoreGapNoncan 0 --scoreGapGCAG 0 --scoreGapATAC 0 --scoreGenomicLengthLog2scale -1 --chimFilter None  --chimSegmentMin 5 --chimJunctionOverhangMin 5 --chimScoreJunctionNonGTAG 0 -- chimScoreDropMax 80 --chimNonchimScoreDropMin 20 --limitOutSJcollapsed 10000000 --limitIObufferSize 1500000000"
   ],
   "metadata": {
    "collapsed": false
   }
  },
  {
   "cell_type": "markdown",
   "source": [
    "合并两个 sam 文件\n",
    "samtools merge PEDV.merged.sam PEDVAligned.out.sam PEDV.softrev.Aligned.out.sam"
   ],
   "metadata": {
    "collapsed": false
   }
  },
  {
   "cell_type": "markdown",
   "source": [
    "Classify alignments #对合并得到的 sam 文件进行分类\n",
    "python ../scripts/gaptypes.py PEDV.merged.sam PEDV.merge -1 15 100\n",
    "******************************************************\n",
    "Total input alignment number: 71615090\n",
    "           Continuous alignments (no gaps): 61450222\n",
    "             Two-segment gapped alignments: 9755973\n",
    "           Multi-segment gapped alignments: 353145\n",
    "        Other chimeric (different str/chr): 0\n",
    "          Overlapping chimeric (homotypic): 0\n",
    "                            Bad alignments: 33088\n",
    "******************************************************"
   ],
   "metadata": {
    "collapsed": false
   }
  },
  {
   "cell_type": "markdown",
   "source": [
    "Segment and gap statistics\n",
    "filetype: 'sam' file or text file containing 'list' of lengths\n",
    "gaptype: 'min', only the shortest gap in the alignment, or 'all' for all gaps\n",
    "******************************************************\n",
    "python ../../scripts/gaplendist.py PEDV.mergedgap1.sam sam PEDV.mergedgap1.min.list min\n",
    "python ../../scripts/gaplendist.py PEDV.mergedgap1.min.list list PEDV.mergedgap1.min.list.pdf min\n",
    "python ../../scripts/gaplendist.py PEDV.mergedgapm.sam sam PEDV.mergedgapm.min.list min\n",
    "python ../../scripts/gaplendist.py PEDV.mergedgapm.min.list list PEDV.mergedgapm.min.list.pdf min\n",
    "\n",
    "python ../../scripts/seglendist.py PEDV.mergedgap1.sam sam PEDV.mergedgap1.seglendist.list\n",
    "python ../../scripts/seglendist.py PEDV.mergedgap1.seglendist.list list PEDV.mergedgap1.seglendist.pdf\n"
   ],
   "metadata": {
    "collapsed": false
   }
  },
  {
   "cell_type": "markdown",
   "source": [
    "Filter spliced and short gaps\n",
    "Output files gap1.sam and gapm.sam may contain alignments that have only splicing junctions and short 1-2 nt gaps due to artifacts. These are filtered out using gapfilter.py before further processing Splicing junctions and short gaps in other output files can be safely ignored. The annotation file containing the splicing junctions should be in GTF format. idloc, location of the transcript_ID field, is usually field 11. short is set to either yes which means 'remove short 1-2nt gaps', or no, which means 'ignore short 1-2nt gaps\n",
    "******************************************************\n",
    "python ../../scripts/gapfilter.py AJ1102-MK584552.1.gtf PEDV.mergedgap1.sam PEDV.mergedgap1.filter.sam 15 yes\n",
    "('2024-03-25 08:41:31', 'Starting the gapfilter analysis ...')\n",
    "('2024-03-25 08:41:31', 'Reading the annotation GTF file ...')\n",
    "('2024-03-25 08:41:31', 'Building the splicing junction database ...')\n",
    "('2024-03-25 08:41:31', 'Started filtering splice junctions ...')\n",
    "('2024-03-25 08:41:51', 'Processed', 1000000, 'reads ...')\n",
    "('2024-03-25 08:42:11', 'Processed', 2000000, 'reads ...')\n",
    "('2024-03-25 08:42:29', 'Processed', 3000000, 'reads ...')\n",
    "('2024-03-25 08:42:48', 'Processed', 4000000, 'reads ...')\n",
    "('2024-03-25 08:43:05', 'Processed', 5000000, 'reads ...')\n",
    "('2024-03-25 08:43:24', 'Processed', 6000000, 'reads ...')\n",
    "('2024-03-25 08:43:42', 'Processed', 7000000, 'reads ...')\n",
    "('2024-03-25 08:44:01', 'Processed', 8000000, 'reads ...')\n",
    "('2024-03-25 08:44:27', 'Processed', 9000000, 'reads ...')\n",
    "('\\n                        Total alignments:', 9755973)\n",
    "('                   All gapped alignments:', 9755973)\n",
    "('    Alignments with at least 1 good gaps:', 7925579)\n",
    "('    Alignments with at least 2 good gaps:', 83249)\n",
    "('  Number of annotated splicing junctions:', 1, '\\n')\n",
    "('2024-03-25 08:44:46', 'Finished gapfilter.py successfully\\n')\n",
    "python ../../scripts/gapfilter.py AJ1102-MK584552.1.gtf PEDV.mergedgapm.sam PEDV.mergedgapm.filter.sam 15 yes\n",
    "('2024-03-25 08:47:46', 'Starting the gapfilter analysis ...')\n",
    "('2024-03-25 08:47:46', 'Reading the annotation GTF file ...')\n",
    "('2024-03-25 08:47:46', 'Building the splicing junction database ...')\n",
    "('2024-03-25 08:47:46', 'Started filtering splice junctions ...')\n",
    "('\\n                        Total alignments:', 353145)\n",
    "('                   All gapped alignments:', 353145)\n",
    "('    Alignments with at least 1 good gaps:', 338644)\n",
    "('    Alignments with at least 2 good gaps:', 244064)\n",
    "('  Number of annotated splicing junctions:', 1, '\\n')\n",
    "('2024-03-25 08:47:57', 'Finished gapfilter.py successfully\\n')"
   ],
   "metadata": {
    "collapsed": false
   }
  },
  {
   "cell_type": "markdown",
   "source": [
    "Cluster gap1 and trans alignments to DGs\n",
    "samtools view -b -S PEDV.mergedgap1.sam  | samtools sort -o PEDV.mergedgap1.sorted.bam\n",
    "bedtools genomecov -bg -split -strand + -ibam PEDV.mergedgap1.sorted.bam -g PEDV.chrom.sizes > PEDV.mergedgap1_plus.bedgraph\n",
    "bedtools genomecov -bg -split -strand - -ibam PEDV.mergedgap1.sorted.bam -g PEDV.chrom.sizes > PEDV.mergedgap1_minus.bedgraph\n",
    "# gtf 格式转 bed 格式\n",
    "convert2bed -i gtf -o bed <AJ1102-MK584552.1.gtf > AJ1102-MK584552.1.bed\n",
    "\n",
    "python ../../scripts/crssant.py -out DGs/ -cluster cliques PEDV.mergedgap1.sam AJ1102-MK584552.1.bed PEDV.mergedgap1_plus.bedgraph,PEDV.mergedgap1_minus.bedgraph -n 100\n",
    "**************************************************************************\n",
    "Traceback (most recent call last):\n",
    "  File \"/store/max/anaconda3/envs/CRSSANT/lib/python3.6/multiprocessing/pool.py\", line 119, in worker\n",
    "    result = (True, func(*args, **kwds))\n",
    "  File \"../../scripts/crssant.py\", line 701, in run_analysis\n",
    "    dg_stats_dict = create_stats(dg_filtered_dict,genealign,covdict) #not yet\n",
    "  File \"../../scripts/crssant.py\", line 550, in create_stats\n",
    "    overlap2=max([covdict[(chrom2,strand2,i)] for i in range2 if\n",
    "ValueError: max() arg is an empty sequence\n",
    "\"\"\"\n",
    "\n",
    "The above exception was the direct cause of the following exception:\n",
    "\n",
    "Traceback (most recent call last):\n",
    "  File \"../../scripts/crssant.py\", line 752, in <module>\n",
    "    main()\n",
    "  File \"../../scripts/crssant.py\", line 745, in main\n",
    "    for (genepair,dg_filtered_dict,dg_stats_dict) in results:\n",
    "  File \"/store/max/anaconda3/envs/CRSSANT/lib/python3.6/multiprocessing/pool.py\", line 735, in next\n",
    "    raise value\n",
    "ValueError: max() arg is an empty sequence\n",
    "**************************************************************************\n",
    "python ../../../scripts/gapmcluster.py PEDV.mergedgap1.cliques.t_o0.1_dg.bedpe ../PEDV.mergedgapm.filter.sam #得到动态结构"
   ],
   "metadata": {
    "collapsed": false
   }
  },
  {
   "cell_type": "markdown",
   "source": [
    "python ../../../scripts/bedpetobed12.py PEDV.mergedgap1.cliques.t_o0.1_dg.bedpe PEDV.mergedgap1.cliques.t_o0.1_dg.bed\n",
    "sortBed -i ACTB.cliques.t_o0.1_dg.bed > ACTB.cliques.t_o0.1_dg_sorted.bed\n",
    "输出文件的首行添加 track graphType=arc"
   ],
   "metadata": {
    "collapsed": false
   }
  },
  {
   "cell_type": "markdown",
   "source": [
    "# sam to sorted bam\n",
    "samtools view -b -S PEDV.mergedgapm.filter_tg.sam | samtools sort -o PEDV.mergedgapm.filter_tg.sorted.bam\n",
    "samtools index PEDV.mergedgapm.filter_tg.sorted.bam"
   ],
   "metadata": {
    "collapsed": false
   }
  },
  {
   "cell_type": "code",
   "execution_count": 15,
   "outputs": [],
   "source": [
    "#从 PEDV.mergedgapm.filter_tg.sam 文件中提取出信息\n",
    "import os\n",
    "os.chdir(\"D:/360MoveData/Users/dgwei/Desktop/\")\n",
    "import math"
   ],
   "metadata": {
    "collapsed": false,
    "ExecuteTime": {
     "end_time": "2024-03-28T02:44:36.636594600Z",
     "start_time": "2024-03-28T02:44:36.527913200Z"
    }
   }
  },
  {
   "cell_type": "code",
   "execution_count": 17,
   "outputs": [],
   "source": [
    "with open ('PEDV.mergedgapm.filter_tg.txt','w') as f :\n",
    "    with open ('PEDV.mergedgapm.filter_tg.sam','r') as F :\n",
    "        for line in F:\n",
    "            if line.startswith(\"@\"):\n",
    "                pass\n",
    "            else :\n",
    "                aimline = line.split('\\t')[-1].rstrip()\n",
    "                DGcov1 = aimline.split('_')[1]\n",
    "                DGcov2 = aimline.split('_')[3]\n",
    "                TGcov = int(math.sqrt(int(DGcov1)*int(DGcov2)))\n",
    "                f.write(aimline+'\\t'+str(TGcov)+'\\n')\n",
    "\n"
   ],
   "metadata": {
    "collapsed": false,
    "ExecuteTime": {
     "end_time": "2024-03-28T02:45:11.019923800Z",
     "start_time": "2024-03-28T02:45:10.916592500Z"
    }
   }
  },
  {
   "cell_type": "code",
   "execution_count": 74,
   "outputs": [],
   "source": [
    "#处理 PEDV.mergedgapm.filter_tg.txt 文件\n",
    "import pandas as pd\n",
    "import os\n",
    "os.chdir(\"D:/360MoveData/Users/dgwei/Desktop/\")"
   ],
   "metadata": {
    "collapsed": false,
    "ExecuteTime": {
     "end_time": "2024-03-25T09:54:44.302569200Z",
     "start_time": "2024-03-25T09:54:44.193196Z"
    }
   }
  },
  {
   "cell_type": "code",
   "execution_count": 77,
   "outputs": [],
   "source": [
    "genome_dict={}\n",
    "with open('MK584552.1.fasta', 'r') as F:\n",
    "    for line in F:\n",
    "        if line.startswith(\">\"):\n",
    "            key = line.split(\" \")[0].strip(\">\\n\")\n",
    "            genome_dict[key] = \"\"\n",
    "        else:\n",
    "            genome_dict[key] += line.rstrip().upper()"
   ],
   "metadata": {
    "collapsed": false,
    "ExecuteTime": {
     "end_time": "2024-03-25T09:57:29.161720700Z",
     "start_time": "2024-03-25T09:57:29.036719600Z"
    }
   }
  },
  {
   "cell_type": "code",
   "execution_count": 88,
   "outputs": [
    {
     "data": {
      "text/plain": "'GACGAGTATGCTACAATTAGTGAATGCTTTCTATGTCCGGTCAAAACACGGCGACTACTCAGCTGTGAGTAATCCGAGTGCGGTTCTCACAGATAGTGAGAAAGTGCTTCAC'"
     },
     "execution_count": 88,
     "metadata": {},
     "output_type": "execute_result"
    }
   ],
   "source": [
    "for key,value in genome_dict.items():\n",
    "    line1 = value[25438:25463]\n",
    "    line2 = value[26268:26355]\n",
    "    line3 = line1 + line2\n",
    "line3\n"
   ],
   "metadata": {
    "collapsed": false,
    "ExecuteTime": {
     "end_time": "2024-03-25T10:08:05.231891400Z",
     "start_time": "2024-03-25T10:08:05.117782900Z"
    }
   }
  },
  {
   "cell_type": "code",
   "execution_count": 89,
   "outputs": [
    {
     "data": {
      "text/plain": "'GACGAGTATGCTACAATTAGTGAATGCTTTCTATGTCCGGTCAAAACACGGCGACTACTCAGCTGTGAGTAATCCGAGTGCGGTTCTCACAGATAGTGAGAAAGTGCTTCAC'"
     },
     "execution_count": 89,
     "metadata": {},
     "output_type": "execute_result"
    }
   ],
   "source": [
    "for key,value in genome_dict.items():\n",
    "    line4 = value[25275:25297]\n",
    "    line5 = value[26297:26407]\n",
    "    line6 = line1 + line2\n",
    "line6"
   ],
   "metadata": {
    "collapsed": false,
    "ExecuteTime": {
     "end_time": "2024-03-25T10:08:06.149605100Z",
     "start_time": "2024-03-25T10:08:06.055856500Z"
    }
   }
  },
  {
   "cell_type": "code",
   "execution_count": 91,
   "outputs": [
    {
     "data": {
      "text/plain": "'GACGAGTATGCTACAATTAGTGAATGCTTTCTATGTCCGGTCAAAACACGGCGACTACTCAGCTGTGAGTAATCCGAGTGCGGTTCTCACAGATAGTGAGAAAGTGCTTCACGACGAGTATGCTACAATTAGTGAATGCTTTCTATGTCCGGTCAAAACACGGCGACTACTCAGCTGTGAGTAATCCGAGTGCGGTTCTCACAGATAGTGAGAAAGTGCTTCAC'"
     },
     "execution_count": 91,
     "metadata": {},
     "output_type": "execute_result"
    }
   ],
   "source": [
    "line7 = line3 + line6\n",
    "line7"
   ],
   "metadata": {
    "collapsed": false,
    "ExecuteTime": {
     "end_time": "2024-03-25T10:08:10.685793400Z",
     "start_time": "2024-03-25T10:08:10.578793900Z"
    }
   }
  }
 ],
 "metadata": {
  "kernelspec": {
   "display_name": "Python 3",
   "language": "python",
   "name": "python3"
  },
  "language_info": {
   "codemirror_mode": {
    "name": "ipython",
    "version": 2
   },
   "file_extension": ".py",
   "mimetype": "text/x-python",
   "name": "python",
   "nbconvert_exporter": "python",
   "pygments_lexer": "ipython2",
   "version": "2.7.6"
  }
 },
 "nbformat": 4,
 "nbformat_minor": 0
}
