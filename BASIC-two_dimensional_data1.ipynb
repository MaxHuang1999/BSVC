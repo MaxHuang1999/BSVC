{
 "cells": [
  {
   "cell_type": "markdown",
   "source": [
    "whole-ct2part-ct,从全基因组中提取部分结构。\n",
    "输入输出都是ct文件。"
   ],
   "metadata": {
    "collapsed": false
   }
  },
  {
   "cell_type": "code",
   "execution_count": 14,
   "outputs": [],
   "source": [
    "import numpy as np\n",
    "import os\n",
    "os.chdir(\"D:/360MoveData/Users/dgwei/Desktop/BASIC/四维数据分析流程/基于SHAPE-MaP数据预测动态结构/PDCOV-sun/\")\n",
    "# strc_ric = np.loadtxt('SARS2-invivo-shape-danny.ct', dtype=[('1','<i4'),('2','<S2'),('3','<i4'),('4','<i4'),('5','<i4'), ('6','<i4')], skiprows=1,delimiter=' ')\n",
    "strc_ric = np.loadtxt('PDCoV.ct', dtype=[('1','<i4'),('2','<S2'),('3','<i4'),('4','<i4'),('5','<i4'), ('6','<i4')], skiprows=1)\n",
    "# strc_ric = np.loadtxt('SARS2-invivo-vric-caocc.ct', dtype=[('1','<i4'),('2','<S2'),('3','<i4'),('4','<i4'),('5','<i4'), ('6','<i4')], skiprows=1)"
   ],
   "metadata": {
    "collapsed": false,
    "ExecuteTime": {
     "end_time": "2024-03-05T09:52:49.147427900Z",
     "start_time": "2024-03-05T09:52:49.053174800Z"
    }
   }
  },
  {
   "cell_type": "code",
   "execution_count": 15,
   "outputs": [],
   "source": [
    "def select_strc(ct_f, s, e, types = 'varna'):\n",
    "    strc_selet = ct_f[s-1:e].copy()\n",
    "    mask = (strc_selet['5'] < s) | (strc_selet['5'] >= e)\n",
    "    strc_selet['5'][mask] = 0\n",
    "    if types == 'rna_strc':\n",
    "        strc_selet['1'] = strc_selet['1'] - s\n",
    "        strc_selet['3'] = strc_selet['3'] - s\n",
    "        strc_selet['4'] = strc_selet['4'] - s\n",
    "        strc_selet['5'][strc_selet['5']>0] = strc_selet['5'][strc_selet['5']>0] - s\n",
    "        strc_selet['6'] = strc_selet['6'] - s\n",
    "    return strc_selet"
   ],
   "metadata": {
    "collapsed": false,
    "ExecuteTime": {
     "end_time": "2024-03-05T09:52:50.359015100Z",
     "start_time": "2024-03-05T09:52:50.280455200Z"
    }
   }
  },
  {
   "cell_type": "code",
   "execution_count": 18,
   "outputs": [],
   "source": [
    "s = 11394\n",
    "e = 11510\n",
    "ric_1 = select_strc(strc_ric, s, e)\n",
    "np.savetxt('4.'+str(s)+'-'+str(e)+'.ct', ric_1, fmt = '%s')"
   ],
   "metadata": {
    "collapsed": false,
    "ExecuteTime": {
     "end_time": "2024-03-05T09:53:20.205610100Z",
     "start_time": "2024-03-05T09:53:20.142685400Z"
    }
   }
  },
  {
   "cell_type": "code",
   "execution_count": 17,
   "outputs": [],
   "source": [
    "with open('5.'+str(s)+'-'+str(e)+'.ct', 'w') as f:\n",
    "    with open('4.'+str(s)+'-'+str(e)+'.ct','r')as F:\n",
    "        for l in F:\n",
    "            a=l.split('\\t')[1];b=list(a);c=b[2]\n",
    "            if a.startswith('b'):\n",
    "                d=l.replace(a,c)\n",
    "                f.write(d)"
   ],
   "metadata": {
    "collapsed": false,
    "ExecuteTime": {
     "end_time": "2024-03-05T09:52:52.903063400Z",
     "start_time": "2024-03-05T09:52:52.802898200Z"
    }
   }
  },
  {
   "cell_type": "markdown",
   "source": [
    "全基因组覆盖度可视化/测序深度可视化"
   ],
   "metadata": {
    "collapsed": false
   }
  },
  {
   "cell_type": "code",
   "execution_count": 1,
   "outputs": [],
   "source": [
    "%matplotlib inline\n",
    "%load_ext autoreload\n",
    "%autoreload 2\n",
    "#%matplotlib inline可以在Notebook中直接显示图形输出，%load_ext autoreload和%autoreload 2用于自动重新加载模块"
   ],
   "metadata": {
    "collapsed": false,
    "ExecuteTime": {
     "end_time": "2024-02-27T02:10:52.421474600Z",
     "start_time": "2024-02-27T02:10:51.186409200Z"
    }
   }
  },
  {
   "cell_type": "code",
   "execution_count": 2,
   "outputs": [],
   "source": [
    "import os\n",
    "os.chdir(\"D:/360MoveData/Users/dgwei/Desktop/BASIC/bulk_RNAseq/\")\n",
    "from plotly.offline import plot\n",
    "from IPython.display import IFrame\n",
    "import pandas as pd\n",
    "import numpy as np\n",
    "import shutil#os模块的补充，提供了复制、移动、删除、压缩、解压等操作\n",
    "from tabulate import tabulate#打印漂亮的表格数据\n",
    "import matplotlib.pyplot as plt\n",
    "# 设置全局字体为 \"Times New Romance\"\n",
    "plt.rc('font',family='Times New Roman')"
   ],
   "metadata": {
    "collapsed": false,
    "ExecuteTime": {
     "end_time": "2024-02-27T02:10:53.436264Z",
     "start_time": "2024-02-27T02:10:52.422475400Z"
    }
   }
  },
  {
   "cell_type": "code",
   "execution_count": 3,
   "outputs": [
    {
     "data": {
      "text/plain": "{'ORF1a': '#c5d9ea',\n 'ORF1b': '#e8d2c4',\n 'S': '#82c91e',\n 'ORF3a': '#3bc9db',\n 'E': '#228be6',\n 'M': '#9fb1fc',\n 'N': '#ffd43b'}"
     },
     "execution_count": 3,
     "metadata": {},
     "output_type": "execute_result"
    }
   ],
   "source": [
    "#输入基因组颜色文件\n",
    "orfcolors = pd.read_csv('PEDV-colorcode-rainbow.txt', sep=' ', names=['orf', 'color'], index_col=0)['color'].to_dict()\n",
    "orfcolors"
   ],
   "metadata": {
    "collapsed": false,
    "ExecuteTime": {
     "end_time": "2024-02-27T02:10:53.722735100Z",
     "start_time": "2024-02-27T02:10:53.439269400Z"
    }
   }
  },
  {
   "cell_type": "code",
   "execution_count": 5,
   "outputs": [
    {
     "data": {
      "text/plain": "        chrom type   name  start    end    x  y  z\n0  MK584552.1  CDS      E  25446  25676  0.0  .  .\n1  MK584552.1  CDS      M  25684  26364  0.0  .  .\n2  MK584552.1  CDS      N  26376  27701  0.0  .  .\n3  MK584552.1  CDS  ORF3a  24791  25465  0.0  .  .\n4  MK584552.1  CDS      S  20634  24791  0.0  .  .",
      "text/html": "<div>\n<style scoped>\n    .dataframe tbody tr th:only-of-type {\n        vertical-align: middle;\n    }\n\n    .dataframe tbody tr th {\n        vertical-align: top;\n    }\n\n    .dataframe thead th {\n        text-align: right;\n    }\n</style>\n<table border=\"1\" class=\"dataframe\">\n  <thead>\n    <tr style=\"text-align: right;\">\n      <th></th>\n      <th>chrom</th>\n      <th>type</th>\n      <th>name</th>\n      <th>start</th>\n      <th>end</th>\n      <th>x</th>\n      <th>y</th>\n      <th>z</th>\n    </tr>\n  </thead>\n  <tbody>\n    <tr>\n      <th>0</th>\n      <td>MK584552.1</td>\n      <td>CDS</td>\n      <td>E</td>\n      <td>25446</td>\n      <td>25676</td>\n      <td>0.0</td>\n      <td>.</td>\n      <td>.</td>\n    </tr>\n    <tr>\n      <th>1</th>\n      <td>MK584552.1</td>\n      <td>CDS</td>\n      <td>M</td>\n      <td>25684</td>\n      <td>26364</td>\n      <td>0.0</td>\n      <td>.</td>\n      <td>.</td>\n    </tr>\n    <tr>\n      <th>2</th>\n      <td>MK584552.1</td>\n      <td>CDS</td>\n      <td>N</td>\n      <td>26376</td>\n      <td>27701</td>\n      <td>0.0</td>\n      <td>.</td>\n      <td>.</td>\n    </tr>\n    <tr>\n      <th>3</th>\n      <td>MK584552.1</td>\n      <td>CDS</td>\n      <td>ORF3a</td>\n      <td>24791</td>\n      <td>25465</td>\n      <td>0.0</td>\n      <td>.</td>\n      <td>.</td>\n    </tr>\n    <tr>\n      <th>4</th>\n      <td>MK584552.1</td>\n      <td>CDS</td>\n      <td>S</td>\n      <td>20634</td>\n      <td>24791</td>\n      <td>0.0</td>\n      <td>.</td>\n      <td>.</td>\n    </tr>\n  </tbody>\n</table>\n</div>"
     },
     "execution_count": 5,
     "metadata": {},
     "output_type": "execute_result"
    }
   ],
   "source": [
    "#输入基因组注释\n",
    "anno = pd.read_csv('reference/PEDV-annotations.gff', sep='\\t', names=['chrom', 'type', 'name', 'start', 'end', 'x', 'y', 'z'])\n",
    "anno"
   ],
   "metadata": {
    "collapsed": false,
    "ExecuteTime": {
     "end_time": "2024-02-27T02:11:07.214287100Z",
     "start_time": "2024-02-27T02:11:06.488569100Z"
    }
   }
  },
  {
   "cell_type": "code",
   "execution_count": 6,
   "outputs": [],
   "source": [
    "cdsanno = anno[anno['type'] == 'CDS']\n",
    "#cdsanno = cdsanno.iloc[:10].sort_values(by='start').iloc[:9]\n",
    "cdsanno = cdsanno.iloc[:10].sort_values(by='start')\n",
    "#loc：通过行、列的名称或标签来索引\n",
    "#iloc：通过行、列的索引位置来寻找数据\n",
    "cdsanno = pd.concat([\n",
    "    cdsanno,\n",
    "    pd.DataFrame([\n",
    "        pd.Series(['MK584552.1', 'CDS', 'ORF1a', 293, 12601, '.', '.', '.'], index=cdsanno.columns),\n",
    "        pd.Series(['MK584552.1', 'CDS', 'ORF1b', 12601, 20637, '.', '.', '.'], index=cdsanno.columns),\n",
    "    ])])\n",
    "cdsanno = cdsanno.sort_values(by='start').iloc[:, 2:5].reset_index(drop=True)\n",
    "cdsanno['color'] = cdsanno['name'].apply(orfcolors.__getitem__)\n",
    "cdsanno.to_pickle('./tmp/cdsannotation.pickle')\n",
    "#cdsanno"
   ],
   "metadata": {
    "collapsed": false,
    "ExecuteTime": {
     "end_time": "2024-02-27T02:11:11.666840Z",
     "start_time": "2024-02-27T02:11:11.345489700Z"
    }
   }
  },
  {
   "cell_type": "code",
   "execution_count": 12,
   "outputs": [],
   "source": [
    "viralcoverage1 = pd.read_csv('D:/360MoveData/Users/dgwei/Desktop/BASIC/two-dimensional data analysis/PEDV/incell/coverage-1/PEDV-incell-mod1-1.coverage.txt', sep='\\t', names=['chrom', 'pos', 'count'])\n",
    "viralcoverage2 = pd.read_csv('D:/360MoveData/Users/dgwei/Desktop/BASIC/two-dimensional data analysis/PEDV/incell/coverage-1/PEDV-incell-unmod-1.coverage.txt', sep='\\t', names=['chrom', 'pos', 'count'])\n",
    "viralcoverage3 = pd.read_csv('D:/360MoveData/Users/dgwei/Desktop/BASIC/two-dimensional data analysis/PEDV/incell/coverage-1/PEDV-incell-mod1-2.coverage.txt', sep='\\t', names=['chrom', 'pos', 'count'])\n",
    "viralcoverage4 = pd.read_csv('D:/360MoveData/Users/dgwei/Desktop/BASIC/two-dimensional data analysis/PEDV/incell/coverage-1/PEDV-incell-unmod-2.coverage.txt', sep='\\t', names=['chrom', 'pos', 'count'])"
   ],
   "metadata": {
    "collapsed": false,
    "ExecuteTime": {
     "end_time": "2024-02-27T02:16:02.407618Z",
     "start_time": "2024-02-27T02:16:02.026617900Z"
    }
   }
  },
  {
   "cell_type": "code",
   "execution_count": 13,
   "outputs": [],
   "source": [
    "merged_mod = pd.concat([viralcoverage1, viralcoverage3]).groupby(['chrom', 'pos']).mean().reset_index()#reset_index() 函数重置索引\n",
    "merged_unmod = pd.concat([viralcoverage2, viralcoverage4]).groupby(['chrom', 'pos']).mean().reset_index()"
   ],
   "metadata": {
    "collapsed": false,
    "ExecuteTime": {
     "end_time": "2024-02-27T02:16:04.621618700Z",
     "start_time": "2024-02-27T02:16:04.298618700Z"
    }
   }
  },
  {
   "cell_type": "code",
   "execution_count": 14,
   "outputs": [],
   "source": [
    "STRIDESIZE = 30\n",
    "plt.rcParams['ytick.labelright'] = True\n",
    "plt.rcParams['ytick.labelleft'] = False\n",
    "plt.rcParams['ytick.right'] = True\n",
    "plt.rcParams['ytick.left'] = False"
   ],
   "metadata": {
    "collapsed": false,
    "ExecuteTime": {
     "end_time": "2024-02-27T02:16:06.399683Z",
     "start_time": "2024-02-27T02:16:06.123646400Z"
    }
   }
  },
  {
   "cell_type": "code",
   "execution_count": 15,
   "outputs": [
    {
     "data": {
      "text/plain": "<Figure size 2000x600 with 1 Axes>",
      "image/png": "[encoded data removed]"
     },
     "metadata": {},
     "output_type": "display_data"
    }
   ],
   "source": [
    "def plot_hist(ax, data1,data2, title):\n",
    "    data1 = data1.copy()\n",
    "    data2 = data2.copy()\n",
    "    data1['binpos'] = np.floor(data1['pos'] / STRIDESIZE).astype(int) * STRIDESIZE\n",
    "    data2['binpos'] = np.floor(data2['pos'] / STRIDESIZE).astype(int) * STRIDESIZE\n",
    "    medcov1 = data1.groupby('binpos').agg({'count': 'median'})\n",
    "    medcov2 = data2.groupby('binpos').agg({'count': 'median'})\n",
    "\n",
    "    ax.plot(medcov1.index, medcov1['count'].tolist(), c='black', lw=1, label='mod')\n",
    "    ax.plot(medcov2.index, medcov2['count'].tolist(), c='red', lw=1, label='unmod')\n",
    "    ax.set_xlim(-100, 30000)\n",
    "    ax.set_ylabel(title,fontsize=20)\n",
    "    ax.legend(fontsize=15)\n",
    "\n",
    "    for _, row in cdsanno.iterrows():\n",
    "        ax.axvspan(row['start'], row['end'], fc=row['color'], alpha=.6, zorder=1)\n",
    "    for spside in 'top left right'.split():#图的上、左、右边框设置为不可见\n",
    "        plt.setp(ax.spines[spside], visible=False)\n",
    "\n",
    "    ax.grid(False)#行网格线\n",
    "    # plt.setp(ax.get_xgridlines(), visible=True)#列网格线\n",
    "    ax.tick_params(axis='x', labelsize=20)\n",
    "    ax.tick_params(axis='y', labelsize=20)\n",
    "    ax.axhline(y=5000, color='gray', linestyle='--', linewidth=2)#添加参考线\n",
    "\n",
    "\n",
    "fig, axes = plt.subplots(1, 1, figsize=(20, 6))\n",
    "plot_hist(axes, merged_mod,merged_unmod, 'Coverage')\n",
    "\n",
    "plt.savefig('D:/360MoveData/Users/dgwei/Desktop/BASIC/two-dimensional data analysis/PEDV/incell/PEDV-incell-coverage.png')"
   ],
   "metadata": {
    "collapsed": false,
    "ExecuteTime": {
     "end_time": "2024-02-27T02:16:26.434682300Z",
     "start_time": "2024-02-27T02:16:25.791609700Z"
    }
   }
  },
  {
   "cell_type": "markdown",
   "source": [
    "xml2ct修改版(二列数据转为四列)，处理分析shapemap数据。"
   ],
   "metadata": {
    "collapsed": false
   }
  },
  {
   "cell_type": "code",
   "execution_count": null,
   "outputs": [],
   "source": [
    "#第一步输入参考基因组序列\n",
    "genome_dict={}\n",
    "index=0\n",
    "with open(\"reference/MK584552.1.fasta\", 'r') as F:\n",
    "    for line in F:\n",
    "        if line.startswith(\">\"):\n",
    "            pass\n",
    "        else:\n",
    "            for ll in line.rstrip():\n",
    "                key=index\n",
    "                index+=1\n",
    "                genome_dict[index]=ll.rstrip()"
   ],
   "metadata": {
    "collapsed": false,
    "ExecuteTime": {
     "start_time": "2023-12-28T13:08:12.187557600Z"
    }
   }
  },
  {
   "cell_type": "code",
   "execution_count": null,
   "outputs": [],
   "source": [
    "#第二步输入突变率,计算标准差\n",
    "mutrate1=pd.read_csv('D:/360MoveData/Users/dgwei/Desktop/BASIC/two-dimensional data analysis/PEDV/refold/rf_rctools/PEDV-refold-mod-1.txt', sep='\\t', names=['chrom', 'mutcount', 'coverage'],skiprows=1)\n",
    "mutrate2=pd.read_csv('D:/360MoveData/Users/dgwei/Desktop/BASIC/two-dimensional data analysis/PEDV/refold/rf_rctools/PEDV-refold-mod-2.txt', sep='\\t', names=['chrom', 'mutcount', 'coverage'],skiprows=1)\n",
    "mutrate3=pd.read_csv('D:/360MoveData/Users/dgwei/Desktop/BASIC/two-dimensional data analysis/PEDV/refold/rf_rctools/PEDV-refold-unmod-1.txt', sep='\\t', names=['chrom', 'mutcount', 'coverage'],skiprows=1)\n",
    "mutrate4=pd.read_csv('D:/360MoveData/Users/dgwei/Desktop/BASIC/two-dimensional data analysis/PEDV/refold/rf_rctools/PEDV-refold-unmod-2.txt', sep='\\t', names=['chrom', 'mutcount', 'coverage'],skiprows=1)"
   ],
   "metadata": {
    "collapsed": false,
    "ExecuteTime": {
     "start_time": "2023-12-28T13:08:12.189556300Z"
    }
   }
  },
  {
   "cell_type": "code",
   "execution_count": null,
   "outputs": [],
   "source": [
    "def calculate_std_error(mod,unmod):\n",
    "    modstderr = np.sqrt(mod['mutcount']/mod['coverage']) / np.sqrt(mod['coverage'])\n",
    "    unmodstderr = np.sqrt(unmod['mutcount']/unmod['coverage']) / np.sqrt(unmod['coverage'])\n",
    "    stderr=np.sqrt(modstderr**2+unmodstderr**2)\n",
    "    return stderr"
   ],
   "metadata": {
    "collapsed": false,
    "ExecuteTime": {
     "start_time": "2023-12-28T13:08:12.192557100Z"
    }
   }
  },
  {
   "cell_type": "code",
   "execution_count": null,
   "outputs": [],
   "source": [
    "final_stderr1=calculate_std_error(mutrate1,mutrate3)\n",
    "final_stderr2=calculate_std_error(mutrate2,mutrate4)\n",
    "final_stderr=(final_stderr1+final_stderr2)/2"
   ],
   "metadata": {
    "collapsed": false
   }
  },
  {
   "cell_type": "code",
   "execution_count": null,
   "outputs": [],
   "source": [
    "#第三步输入xml文件，组合成map格式\n",
    "import xml.etree.ElementTree as ET\n",
    "count=0;shapevalue=[]"
   ],
   "metadata": {
    "collapsed": false
   }
  },
  {
   "cell_type": "code",
   "execution_count": null,
   "outputs": [],
   "source": [
    "with open(\"D:/360MoveData/Users/dgwei/Desktop/BASIC/two-dimensional data analysis/PEDV/refold/result/PEDV-refold.map\", 'w') as f:\n",
    "    tree = ET.parse('D:/360MoveData/Users/dgwei/Desktop/BASIC/two-dimensional data analysis/PEDV/refold/rf_norm/MK584552.1.xml')\n",
    "    root = tree.getroot()\n",
    "    for line in root:\n",
    "        a=root[0][0].text\n",
    "        b=root[0][1].text\n",
    "        shapevalue=[-999 if i.strip()=='NaN' else i.strip() for i in b.split(\",\") ]\n",
    "    for (i),(key,value),(std) in zip( shapevalue,genome_dict.items(),final_stderr):\n",
    "        if i==-999:\n",
    "            std=0\n",
    "        f.write(str(key)+\"\\t\"+str(i)+\"\\t\"+str(std)+'\\t'+str(value)+'\\n')"
   ],
   "metadata": {
    "collapsed": false
   }
  },
  {
   "cell_type": "markdown",
   "source": [
    "找出基因组中well-folded区域"
   ],
   "metadata": {
    "collapsed": false
   }
  },
  {
   "cell_type": "code",
   "execution_count": null,
   "outputs": [],
   "source": [
    "##设置窗口在基因组上滑动\n",
    "win_size=50;step_size=1"
   ],
   "metadata": {
    "collapsed": false
   }
  },
  {
   "cell_type": "code",
   "execution_count": null,
   "outputs": [],
   "source": [
    "#生成窗口文件\n",
    "with open(\"reference/MK584552.1.win50.txt\",\"w\")as f:\n",
    "    with open(\"reference/MK584552.1.chrom.sizes\",\"r\")as F:\n",
    "        for line in F:\n",
    "            line=line.rstrip()\n",
    "            ele=line.split(\"\\t\")\n",
    "            stt=1\n",
    "            while(stt+win_size <= int(ele[1])):#得到所有窗口\n",
    "                end=stt+win_size\n",
    "                print(ele[0]+\"\\t\"+str(stt)+\"\\t\"+str(end))\n",
    "                f.write(ele[0]+\"\\t\"+str(stt)+\"\\t\"+str(end)+'\\n')\n",
    "                stt=stt+step_size"
   ],
   "metadata": {
    "collapsed": false
   }
  },
  {
   "cell_type": "code",
   "execution_count": null,
   "outputs": [],
   "source": [
    "#均一化shape值\n",
    "import numpy as np\n",
    "val=[];spl_val=[]\n",
    "with open(\"D:/360MoveData/Users/dgwei/Desktop/BASIC/two-dimensional data analysis/PEDV/refold/result/PEDV-refold.map\",\"r\")as F:\n",
    "    for line in F:\n",
    "        val.append(float(line.split('\\t')[1].rstrip()))\n",
    "    val=[0 if i==-999 else i for i in val]\n",
    "    val_array=np.array(val)\n",
    "    val_median_shape=np.median(val_array)\n",
    "val_median_shape"
   ],
   "metadata": {
    "collapsed": false
   }
  },
  {
   "cell_type": "code",
   "execution_count": null,
   "outputs": [],
   "source": [
    "with open(\"D:/360MoveData/Users/dgwei/Desktop/BASIC/two-dimensional data analysis/PEDV/refold/result/PEDV-refold.shapenorm.txt\",\"w\")as ff:\n",
    "    with open(\"reference/MK584552.1.win50.txt\", \"r\") as f:\n",
    "        for l in f:\n",
    "            spl_val.append(str(np.median(val_array[int(l.split('\\t')[1])-1:int(l.split('\\t')[2])])-val_median))\n",
    "        ff.write(str('\\n'.join(spl_val)))"
   ],
   "metadata": {
    "collapsed": false
   }
  },
  {
   "cell_type": "code",
   "execution_count": null,
   "outputs": [],
   "source": [
    "#均一化shannon值\n",
    "import pandas as pd\n",
    "# 读取CSV文件\n",
    "df_shannon = pd.read_csv(\"D:/360MoveData/Users/dgwei/Desktop/BASIC/two-dimensional data analysis/PEDV/refold/rf_fold/shannon/MK584552.1.wig\", header=None, sep=\" \", dtype=str,skiprows=2,names=['V1','value'])\n",
    "# 创建新的数据框df_shannon_new\n",
    "df_shannon_new = pd.DataFrame({'V1': range(1, 28045)})\n",
    "# 合并数据框\n",
    "df_shannon_newest = pd.merge(df_shannon, df_shannon_new, left_index=True, right_index=True, how='outer')\n",
    "# # 将缺失值替换为0\n",
    "df_shannon_newest.fillna(0, inplace=True)\n",
    "# # 将V2列转换为数字类型\n",
    "df_shannon_newest['value'] = pd.to_numeric(df_shannon_newest['value'])\n",
    "# # 打印结果\n",
    "df_shannon_newest=df_shannon_newest[['V1_y','value']]"
   ],
   "metadata": {
    "collapsed": false
   }
  },
  {
   "cell_type": "code",
   "execution_count": null,
   "outputs": [],
   "source": [
    "import numpy as np\n",
    "val=[];spl_val=[]\n",
    "val_array=np.array(df_shannon_newest['value'])\n",
    "val_median_shannon=np.median(val_array)\n",
    "val_median_shannon"
   ],
   "metadata": {
    "collapsed": false
   }
  },
  {
   "cell_type": "code",
   "execution_count": null,
   "outputs": [],
   "source": [
    "with open(\"D:/360MoveData/Users/dgwei/Desktop/BASIC/two-dimensional data analysis/PEDV/refold/result/PEDV-refold.shannonnorm.txt\",\"w\")as ff:\n",
    "    with open(\"reference/MK584552.1.win50.txt\", \"r\") as f:\n",
    "        for l in f:\n",
    "            spl_val.append(str(np.median(val_array[int(l.split('\\t')[1])-1:int(l.split('\\t')[2])])))\n",
    "        ff.write(str('\\n'.join(spl_val)))"
   ],
   "metadata": {
    "collapsed": false
   }
  },
  {
   "cell_type": "code",
   "execution_count": null,
   "outputs": [],
   "source": [
    "#找出winReact和winShannon中都小于globa median的位点\n",
    "pos=0;a=[];s=[]\n",
    "with open(\"D:/360MoveData/Users/dgwei/Desktop/BASIC/two-dimensional data analysis/PEDV/refold/result/MK584552.1.wellfolded.txt\",'w') as ff:\n",
    "    with open(\"D:/360MoveData/Users/dgwei/Desktop/BASIC/two-dimensional data analysis/PEDV/refold/result/PEDV-refold.shapenorm.txt\",'r')as F,open(\"D:/360MoveData/Users/dgwei/Desktop/BASIC/two-dimensional data analysis/PEDV/refold/result/PEDV-refold.shannonnorm.txt\",'r') as f:\n",
    "        for line1 in F:\n",
    "            line2=f.readline()\n",
    "            pos+=1\n",
    "            if float(line1) < val_median_shape and float(line2) < val_median_shannon:\n",
    "                a.append(pos)\n",
    "        for i in sorted(set(a)):\n",
    "            if len(s) == 0 or s[-1] + 1 == i:\n",
    "                s.append(i)  # 入栈\n",
    "            else:\n",
    "                if len(s) >= 2:\n",
    "                    print(s)\n",
    "                    ff.write(str(s[0]+25) + '\\t' + str(s[-1]+25) + \"\\n\")\n",
    "                s = []  # 清空\n",
    "                s.append(i)  # 入栈\n",
    "        # 最后一轮，需判断下\n",
    "        if len(s) >= 2:\n",
    "            print(s)"
   ],
   "metadata": {
    "collapsed": false
   }
  },
  {
   "cell_type": "markdown",
   "source": [
    "##一维弧形图和二维交互图展示交互矩阵"
   ],
   "metadata": {
    "collapsed": false
   }
  },
  {
   "cell_type": "code",
   "execution_count": null,
   "outputs": [],
   "source": [
    "def plot_tri_matrix2(matrix, ct_in, title, s, e, r, interp, cmap):\n",
    "    '''\n",
    "    plot a compartment and heatmap mix fig\n",
    "    '''\n",
    "    ##ax size\n",
    "    S = int(s / r)\n",
    "    E = int(e / r)\n",
    "    matrix = matrix.copy()\n",
    "    matrix[np.isnan(matrix)] = 0\n",
    "    matrix = np.log2(matrix + 1)\n",
    "    H = int((E - S)/2)\n",
    "    left, width = 0.1, 0.75\n",
    "    ratio = 0.5\n",
    "    bottom, height = 1 -  0.75 * ratio , 0.75 * ratio\n",
    "    size_stem = [left, bottom - 0.1, width, height]\n",
    "    stept_h = height\n",
    "    bottom_h = bottom - stept_h - 0.04\n",
    "    size_heatmap = [left, bottom_h - 0.1, width, stept_h]\n",
    "    size_colorbar = [left + width - 0.1, bottom_h- 0.05, width/40, height/2]\n",
    "    fig = plt.figure(figsize=(12 * ratio * 2**0.5 , 12))\n",
    "\n",
    "    ##ct\n",
    "    ct = ct_in[s:e]\n",
    "    mask_ct = (ct['5'] < (e-1)) & (ct['5'] > s)\n",
    "    ct = ct[mask_ct]\n",
    "    start = s\n",
    "    col_ric = (ct['1']- start - 1) / r\n",
    "    raw_ric = (ct['5'] - start - 1) / r\n",
    "\n",
    "    ##heatmap\n",
    "    ax = fig.add_axes(size_heatmap)\n",
    "    shp = matrix.shape\n",
    "    ma = np.zeros_like(matrix) * np.nan\n",
    "    ma[S:E,S:E] = matrix[S:E,S:E]\n",
    "    tri_ma = np.zeros([H, E-S]) * np.nan\n",
    "    x,y = np.diag_indices_from(matrix)\n",
    "    for i in np.arange(H):\n",
    "        if (S - i) >= 0 and (E + i) <= shp[0]:\n",
    "            tri_ma[H-i-1] = ma[x[S+i:E+i],y[S-i:E-i]]\n",
    "\n",
    "        elif (S - i) < 0:\n",
    "            step = i - S\n",
    "            tri_ma[H-i-1][step:] = ma[x[S+i+step:E+i],y[S-i+step:E-i]]\n",
    "\n",
    "        elif (E + i) > shp[0]:\n",
    "            step = shp[0] - (E+i)\n",
    "            tri_ma[H-i-1][:step] = ma[x[S+i:E+i+ step],y[S-i:E-i + step]]\n",
    "\n",
    "    nonzero = matrix[S:E,S:E][np.nonzero(matrix[S:E,S:E])]\n",
    "    vmax = np.percentile(nonzero,85)\n",
    "\n",
    "    ##scatter stem loop\n",
    "    sc = ax.imshow(tri_ma[::-1], vmax = vmax, vmin = 0, aspect = 'auto'\n",
    "                   , interpolation = interp, cmap = plt.get_cmap(cmap))\n",
    "    plt.scatter((raw_ric+col_ric)/2, (col_ric-raw_ric) /2 , s = 50, marker = 'v',\n",
    "                color = 'none', edgecolors ='red', alpha=0.25)\n",
    "    ax.tick_params(top=True, labeltop=True, bottom=False, labelbottom=False)\n",
    "    plt.ylim(H,0)\n",
    "    plt.xlim([0,E-S])\n",
    "    plt.xticks(np.arange(0, E-S + 1, r * 10), np.arange(S, E+1, r*10) * r)\n",
    "    plt.yticks([])\n",
    "    ax.spines[['right', 'left', 'bottom']].set_visible(False)\n",
    "\n",
    "    ax = fig.add_axes(size_colorbar)\n",
    "    fig.colorbar(sc,cax = ax)\n",
    "\n",
    "    ##line stem loop\n",
    "\n",
    "    ax = fig.add_axes(size_stem)\n",
    "\n",
    "    for seq in zip(raw_ric, col_ric):\n",
    "        s = seq[0]\n",
    "        e = seq[1]\n",
    "        radius = (e - s) / 2\n",
    "        a,b = ((s+e)/2, 0)\n",
    "        x = np.arange(a - radius, a + radius + 1, 0.01 )\n",
    "        y = b + np.sqrt(radius ** 2 - (x - a) ** 2)\n",
    "        plt.plot(x , y, lw = 0.15, color = 'grey')\n",
    "        plt.plot(x , -y, lw = 0.15, color = 'grey')\n",
    "    ax.spines[['top', 'right', 'left']].set_visible(False)\n",
    "    plt.xlim([0,E-S])\n",
    "    plt.ylim([0,H])\n",
    "    ax.tick_params(top=False, labeltop=False, bottom=True, labelbottom=True)\n",
    "    #plt.xticks(np.arange(0, E-S + 1, r * 10), np.arange(S, E+1, r*10) * r)\n",
    "    plt.xticks(np.arange(0, E-S + 1, r * 10), (' '*np.arange(S, E+1, r*10).shape[0]).split(' ')[:-1])\n",
    "    # plt.xticks([])\n",
    "    plt.yticks([])\n",
    "    ax.set_title(title,fontsize=20)\n",
    "    #ax.set_xlabel('Bp')\n",
    "    return"
   ],
   "metadata": {
    "collapsed": false
   }
  },
  {
   "cell_type": "code",
   "execution_count": null,
   "outputs": [],
   "source": [
    "cmap_list = ['afmhot','viridis', 'cividis', 'RdYlGn', 'pink_r']\n",
    "interpolation_list = ['antialiased', 'none', 'nearest', 'bilinear', 'bicubic', 'spline16', 'spline36', 'hanning', 'hamming', 'hermite', 'kaiser', 'quadric', 'catrom', 'gaussian', 'bessel', 'mitchell', 'sinc', 'lanczos', 'blackman']"
   ],
   "metadata": {
    "collapsed": false
   }
  },
  {
   "cell_type": "code",
   "execution_count": null,
   "outputs": [],
   "source": [
    "import numpy as np\n",
    "import pandas as pd\n",
    "from ric_fun import extract_matrix\n",
    "# matrix1=\"D:/360MoveData/Users/dgwei/Desktop/文章/Scientific_data-Sunju/result/27_in_Virion.1nt.none.matrix\"\n",
    "# matrix2=\"D:/360MoveData/Users/dgwei/Desktop/文章/Scientific_data-Sunju/result/30_in_Virion.1nt.none.matrix\"\n",
    "# ct=\"D:/360MoveData/Users/dgwei/Desktop/文章/Scientific_data-Sunju/result/pdcov_in_Virion.hic\"\n",
    "res=5\n",
    "file_dir=\"D:/360MoveData/Users/dgwei/Desktop/文章/Scientific_data-Sunju/result/\"\n",
    "ma_PDCoV_rna_virion1, oe_PDCoV_rna_virion1, dis_PDCoV_rna_virion1 = extract_matrix(file_dir, '27_in_Virion.5nt.none.matrix', res)\n",
    "ma_PDCoV_rna_virion2, oe_PDCoV_rna_virion2, dis_PDCoV_rna_virion2 = extract_matrix(file_dir, '30_in_Virion.5nt.none.matrix', res)\n",
    "strc_ric_PDCoV_virion = np.loadtxt( file_dir + 'virus.phase4_final.whole.ct', usecols=[0,1,2,3,4,5], dtype=[('1','<i4'),('2','<U2'),('3','<i4'),('4','<i4'),('5','<i4'), ('6','<i4')], skiprows=1)"
   ],
   "metadata": {
    "collapsed": false
   }
  },
  {
   "cell_type": "code",
   "execution_count": null,
   "outputs": [],
   "source": [
    "# plot_tri_matrix2(ma_sars_com_cell, strc_ric_sars2_virion, 'SARS-CoV2:27250-29500Bp', 27250, 29500, 5, 'nearest', 'viridis')"
   ],
   "metadata": {
    "collapsed": false
   }
  },
  {
   "cell_type": "markdown",
   "source": [
    "##距离衰减曲线"
   ],
   "metadata": {
    "collapsed": false
   }
  },
  {
   "cell_type": "code",
   "execution_count": 99,
   "outputs": [],
   "source": [
    "import numpy as np\n",
    "import pandas as pd\n",
    "import matplotlib.pyplot as plt\n",
    "from ric_fun import extract_matrix\n",
    "from ric_fun import get_oe, get_matrix_npz\n",
    "from scipy.stats.mstats import zscore\n",
    "# matrix1 = pd.read_csv('D:/360MoveData/Users/dgwei/Desktop/工作/Vis_of_Covdata/PDCoV_in_Virion.none.1bp.matrix', names=['S', 'E', 'value'], sep='\\t')\n",
    "# matrix1 = pd.read_csv('D:/360MoveData/Users/dgwei/Desktop/文章/Scientific_data-Sunju/result/27_in_Virion.5nt.none.matrix', names=['S', 'E', 'value'], sep='\\t')\n",
    "matrix1 = pd.read_csv('D:/360MoveData/Users/dgwei/Desktop/BASIC/three-dimensional data analysis/PEDV_in_Virion.5nt.raw.matrix', names=['S', 'E', 'value'], sep='\\t')\n",
    "# matrix2 = pd.read_csv('D:/360MoveData/Users/dgwei/Desktop/文章/Scientific_data-Sunju/result/30_in_Virion.5nt.none.matrix', names=['S', 'E', 'value'], sep='\\t')\n",
    "# max(matrix1['E']-matrix1['S'])\n"
   ],
   "metadata": {
    "collapsed": false,
    "ExecuteTime": {
     "end_time": "2024-01-03T07:09:46.210410100Z",
     "start_time": "2024-01-03T07:09:44.889053Z"
    }
   }
  },
  {
   "cell_type": "code",
   "execution_count": 100,
   "outputs": [],
   "source": [
    "matrix1['dis']=matrix1['E']-matrix1['S']\n",
    "# line=matrix1[(matrix1['S']>=65) &(matrix1['S']<=75) & (matrix1['E']>=23975) &(matrix1['E']<=23985)]"
   ],
   "metadata": {
    "collapsed": false,
    "ExecuteTime": {
     "end_time": "2024-01-03T07:09:47.828554700Z",
     "start_time": "2024-01-03T07:09:47.673507500Z"
    }
   }
  },
  {
   "cell_type": "code",
   "execution_count": 101,
   "outputs": [],
   "source": [
    "new_matrix=matrix1.iloc[:,-2:]"
   ],
   "metadata": {
    "collapsed": false,
    "ExecuteTime": {
     "end_time": "2024-01-03T07:09:49.650066800Z",
     "start_time": "2024-01-03T07:09:49.538376900Z"
    }
   }
  },
  {
   "cell_type": "code",
   "execution_count": 102,
   "outputs": [],
   "source": [
    "merge_matrix=new_matrix.groupby('dis').sum().reset_index()"
   ],
   "metadata": {
    "collapsed": false,
    "ExecuteTime": {
     "end_time": "2024-01-03T07:09:50.689318200Z",
     "start_time": "2024-01-03T07:09:50.550084200Z"
    }
   }
  },
  {
   "cell_type": "code",
   "execution_count": 26,
   "outputs": [],
   "source": [
    "# import numpy as np\n",
    "# from scipy.stats import zscore\n",
    "# zscore_data=zscore(merge_matrix['value'])\n",
    "# normalized_data = (zscore_data - zscore_data.min()) / (zscore_data.max() - zscore_data.min())\n",
    "# df=pd.DataFrame(normalized_data)\n",
    "# df['dis']\n",
    "# normalized_data.to_csv('D:/360MoveData/Users/dgwei/Desktop/文章/Scientific_data-Sunju/result/chimeric_coverage.txt', sep='\\n', index=False)"
   ],
   "metadata": {
    "collapsed": false,
    "ExecuteTime": {
     "end_time": "2024-01-03T02:16:31.715887500Z",
     "start_time": "2024-01-03T02:16:31.610290700Z"
    }
   }
  },
  {
   "cell_type": "code",
   "execution_count": 103,
   "outputs": [],
   "source": [
    "merge_matrix['value'] = merge_matrix['value'].apply(lambda x: (x / 1000))"
   ],
   "metadata": {
    "collapsed": false,
    "ExecuteTime": {
     "end_time": "2024-01-03T07:09:52.613450600Z",
     "start_time": "2024-01-03T07:09:52.489127200Z"
    }
   }
  },
  {
   "cell_type": "code",
   "execution_count": 109,
   "outputs": [
    {
     "data": {
      "text/plain": "array([3.931575e+03, 3.199081e+03, 1.013478e+03, ..., 4.000000e-03,\n       1.000000e-03, 1.000000e-03])"
     },
     "execution_count": 109,
     "metadata": {},
     "output_type": "execute_result"
    }
   ],
   "source": [
    "value_array = merge_matrix['value'].values\n",
    "value_array"
   ],
   "metadata": {
    "collapsed": false,
    "ExecuteTime": {
     "end_time": "2024-01-03T07:11:03.174361900Z",
     "start_time": "2024-01-03T07:11:03.020378700Z"
    }
   }
  },
  {
   "cell_type": "code",
   "execution_count": null,
   "outputs": [],
   "source": [
    "# res=5\n",
    "# file_dir=\"D:/360MoveData/Users/dgwei/Desktop/文章/Scientific_data-Sunju/result/\"\n",
    "# ma_PDCoV_rna_virion1, oe_PDCoV_rna_virion1, dis_PDCoV_rna_virion1 = extract_matrix(file_dir, '27_in_Virion.5nt.none.matrix', res)\n",
    "# ma_PDCoV_rna_virion2, oe_PDCoV_rna_virion2, dis_PDCoV_rna_virion2 = extract_matrix(file_dir, '30_in_Virion.5nt.none.matrix', res)\n",
    "# dis_PDCoV_rna_virion1"
   ],
   "metadata": {
    "collapsed": false
   }
  },
  {
   "cell_type": "code",
   "execution_count": 105,
   "outputs": [],
   "source": [
    "# 使用brokenaxes函数创建绘图坐标轴体系，ylim参数中输入断点两侧轴范围，\n",
    "# despine参数控制是否显示上轴和右轴，hspace参数控制断点截断线之间的宽度，d控制断点截断线的长度\n",
    "from brokenaxes import brokenaxes"
   ],
   "metadata": {
    "collapsed": false,
    "ExecuteTime": {
     "end_time": "2024-01-03T07:09:56.323535200Z",
     "start_time": "2024-01-03T07:09:56.195486500Z"
    }
   }
  },
  {
   "cell_type": "code",
   "execution_count": 110,
   "outputs": [
    {
     "data": {
      "text/plain": "<Figure size 640x480 with 3 Axes>",
      "image/png": "[encoded data removed]"
     },
     "metadata": {},
     "output_type": "display_data"
    }
   ],
   "source": [
    "fig=plt.figure()\n",
    "ax = brokenaxes(ylims=((0,15),(3929,3932)),despine=False, hspace=0.05,d=0.01)\n",
    "ax.grid(False)\n",
    "ax.plot(value_array[0:5610], label = 'PEDV-vRICseq',linewidth=1)\n",
    "# plt.plot(dis_SARS2_wdh_vero24h_rep2[50:3000], label = 'PDCoV-rep2',linewidth=1)\n",
    "ax.set_xticks(np.arange(0,5610,1000),fontsize=15)\n",
    "# ax.set_yticks(fontsize=15)\n",
    "ax.legend(loc='upper right',fontsize=\"large\")\n",
    "# ax.legend(loc='upper right',fontsize=\"xx-large\")\n",
    "# plt.savefig('D:/360MoveData/Users/dgwei/Desktop/文章/Scientific_data-Sunju/result/PDCoV-rep2.distance.png', dpi=1200)\n",
    "plt.show()"
   ],
   "metadata": {
    "collapsed": false,
    "ExecuteTime": {
     "end_time": "2024-01-03T07:11:33.011340400Z",
     "start_time": "2024-01-03T07:11:32.778434400Z"
    }
   }
  },
  {
   "cell_type": "markdown",
   "source": [
    "统计嵌合reads覆盖度和100nt腺嘌呤和尿嘧啶含量"
   ],
   "metadata": {
    "collapsed": false
   }
  },
  {
   "cell_type": "code",
   "execution_count": 1,
   "outputs": [],
   "source": [
    "import numpy as np\n",
    "import pandas as pd\n",
    "import matplotlib.pyplot as plt\n",
    "from ric_fun import extract_matrix\n",
    "from ric_fun import get_oe, get_matrix_npz\n",
    "from scipy.stats.mstats import zscore\n",
    "matrix1 = pd.read_csv('D:/360MoveData/Users/dgwei/Desktop/文章/Scientific_data-Sunju/result/27_in_Virion.1nt.none.matrix', names=['S', 'E', 'value'], sep='\\t')\n",
    "# matrix2 = pd.read_csv('D:/360MoveData/Users/dgwei/Desktop/文章/Scientific_data-Sunju/result/30_in_Virion.5nt.none.matrix', names=['S', 'E', 'value'], sep='\\t')"
   ],
   "metadata": {
    "collapsed": false,
    "ExecuteTime": {
     "end_time": "2024-01-11T11:52:27.759856700Z",
     "start_time": "2024-01-11T11:52:23.673687500Z"
    }
   }
  },
  {
   "cell_type": "code",
   "execution_count": 267,
   "outputs": [],
   "source": [
    "start_matrix=matrix1.iloc[:,[0,2]]\n",
    "end_matrix=matrix1.iloc[:,[1,2]]"
   ],
   "metadata": {
    "collapsed": false,
    "ExecuteTime": {
     "end_time": "2023-12-30T06:30:43.182026400Z",
     "start_time": "2023-12-30T06:30:42.834747700Z"
    }
   }
  },
  {
   "cell_type": "code",
   "execution_count": 268,
   "outputs": [],
   "source": [
    "startpos_matrix=start_matrix.groupby('S').sum().reset_index()\n",
    "startpos_matrix=startpos_matrix.rename(columns={'S':'pos'})"
   ],
   "metadata": {
    "collapsed": false,
    "ExecuteTime": {
     "end_time": "2023-12-30T06:30:45.035507900Z",
     "start_time": "2023-12-30T06:30:44.553507500Z"
    }
   }
  },
  {
   "cell_type": "code",
   "execution_count": 269,
   "outputs": [],
   "source": [
    "endpos_matrix=end_matrix.groupby('E').sum().reset_index()\n",
    "endpos_matrix=endpos_matrix.rename(columns={'E':'pos'})"
   ],
   "metadata": {
    "collapsed": false,
    "ExecuteTime": {
     "end_time": "2023-12-30T06:30:46.661473300Z",
     "start_time": "2023-12-30T06:30:46.103669600Z"
    }
   }
  },
  {
   "cell_type": "code",
   "execution_count": 270,
   "outputs": [],
   "source": [
    "allpos_matrix=pd.concat([startpos_matrix,endpos_matrix]).groupby('pos').sum().reset_index().sort_values(by='pos')"
   ],
   "metadata": {
    "collapsed": false,
    "ExecuteTime": {
     "end_time": "2023-12-30T06:30:50.505498300Z",
     "start_time": "2023-12-30T06:30:50.033835900Z"
    }
   }
  },
  {
   "cell_type": "code",
   "execution_count": 271,
   "outputs": [
    {
     "data": {
      "text/plain": "         pos  value\n0          1    0.0\n1          2    0.0\n2          3    0.0\n3          4    0.0\n4          5    0.0\n...      ...    ...\n25415  25416    1.0\n25416  25417    1.0\n25417  25418    3.0\n25418  25419    4.0\n25419  25420    0.0\n\n[25420 rows x 2 columns]",
      "text/html": "<div>\n<style scoped>\n    .dataframe tbody tr th:only-of-type {\n        vertical-align: middle;\n    }\n\n    .dataframe tbody tr th {\n        vertical-align: top;\n    }\n\n    .dataframe thead th {\n        text-align: right;\n    }\n</style>\n<table border=\"1\" class=\"dataframe\">\n  <thead>\n    <tr style=\"text-align: right;\">\n      <th></th>\n      <th>pos</th>\n      <th>value</th>\n    </tr>\n  </thead>\n  <tbody>\n    <tr>\n      <th>0</th>\n      <td>1</td>\n      <td>0.0</td>\n    </tr>\n    <tr>\n      <th>1</th>\n      <td>2</td>\n      <td>0.0</td>\n    </tr>\n    <tr>\n      <th>2</th>\n      <td>3</td>\n      <td>0.0</td>\n    </tr>\n    <tr>\n      <th>3</th>\n      <td>4</td>\n      <td>0.0</td>\n    </tr>\n    <tr>\n      <th>4</th>\n      <td>5</td>\n      <td>0.0</td>\n    </tr>\n    <tr>\n      <th>...</th>\n      <td>...</td>\n      <td>...</td>\n    </tr>\n    <tr>\n      <th>25415</th>\n      <td>25416</td>\n      <td>1.0</td>\n    </tr>\n    <tr>\n      <th>25416</th>\n      <td>25417</td>\n      <td>1.0</td>\n    </tr>\n    <tr>\n      <th>25417</th>\n      <td>25418</td>\n      <td>3.0</td>\n    </tr>\n    <tr>\n      <th>25418</th>\n      <td>25419</td>\n      <td>4.0</td>\n    </tr>\n    <tr>\n      <th>25419</th>\n      <td>25420</td>\n      <td>0.0</td>\n    </tr>\n  </tbody>\n</table>\n<p>25420 rows × 2 columns</p>\n</div>"
     },
     "execution_count": 271,
     "metadata": {},
     "output_type": "execute_result"
    }
   ],
   "source": [
    "allpos_matrix_new = pd.DataFrame({'pos': range(1, 25421),'value':0})\n",
    "allpos_matrix_newest = pd.concat([allpos_matrix,allpos_matrix_new]).groupby('pos').sum().reset_index().sort_values(by='pos')\n",
    "allpos_matrix_newest"
   ],
   "metadata": {
    "collapsed": false,
    "ExecuteTime": {
     "end_time": "2023-12-30T06:30:51.583614800Z",
     "start_time": "2023-12-30T06:30:51.232482300Z"
    }
   }
  },
  {
   "cell_type": "code",
   "execution_count": 272,
   "outputs": [],
   "source": [
    "allpos_matrix_newest.to_csv('D:/360MoveData/Users/dgwei/Desktop/文章/Scientific_data-Sunju/result/chimeric_coverage2.txt', sep='\\t', index=False)"
   ],
   "metadata": {
    "collapsed": false,
    "ExecuteTime": {
     "end_time": "2023-12-30T06:31:25.639412400Z",
     "start_time": "2023-12-30T06:31:25.145700Z"
    }
   }
  },
  {
   "cell_type": "code",
   "execution_count": 273,
   "outputs": [
    {
     "data": {
      "text/plain": "         pos  value     mean\n0          1    0.0     0.00\n1          2    0.0     0.00\n2          3    0.0     0.00\n3          4    0.0     0.00\n4          5    0.0     0.00\n...      ...    ...      ...\n25395  25396   61.0  1383.29\n25396  25397   41.0  1364.14\n25397  25398   23.0  1347.60\n25398  25399   22.0  1327.88\n25399  25400   25.0  1296.03\n\n[25400 rows x 3 columns]",
      "text/html": "<div>\n<style scoped>\n    .dataframe tbody tr th:only-of-type {\n        vertical-align: middle;\n    }\n\n    .dataframe tbody tr th {\n        vertical-align: top;\n    }\n\n    .dataframe thead th {\n        text-align: right;\n    }\n</style>\n<table border=\"1\" class=\"dataframe\">\n  <thead>\n    <tr style=\"text-align: right;\">\n      <th></th>\n      <th>pos</th>\n      <th>value</th>\n      <th>mean</th>\n    </tr>\n  </thead>\n  <tbody>\n    <tr>\n      <th>0</th>\n      <td>1</td>\n      <td>0.0</td>\n      <td>0.00</td>\n    </tr>\n    <tr>\n      <th>1</th>\n      <td>2</td>\n      <td>0.0</td>\n      <td>0.00</td>\n    </tr>\n    <tr>\n      <th>2</th>\n      <td>3</td>\n      <td>0.0</td>\n      <td>0.00</td>\n    </tr>\n    <tr>\n      <th>3</th>\n      <td>4</td>\n      <td>0.0</td>\n      <td>0.00</td>\n    </tr>\n    <tr>\n      <th>4</th>\n      <td>5</td>\n      <td>0.0</td>\n      <td>0.00</td>\n    </tr>\n    <tr>\n      <th>...</th>\n      <td>...</td>\n      <td>...</td>\n      <td>...</td>\n    </tr>\n    <tr>\n      <th>25395</th>\n      <td>25396</td>\n      <td>61.0</td>\n      <td>1383.29</td>\n    </tr>\n    <tr>\n      <th>25396</th>\n      <td>25397</td>\n      <td>41.0</td>\n      <td>1364.14</td>\n    </tr>\n    <tr>\n      <th>25397</th>\n      <td>25398</td>\n      <td>23.0</td>\n      <td>1347.60</td>\n    </tr>\n    <tr>\n      <th>25398</th>\n      <td>25399</td>\n      <td>22.0</td>\n      <td>1327.88</td>\n    </tr>\n    <tr>\n      <th>25399</th>\n      <td>25400</td>\n      <td>25.0</td>\n      <td>1296.03</td>\n    </tr>\n  </tbody>\n</table>\n<p>25400 rows × 3 columns</p>\n</div>"
     },
     "execution_count": 273,
     "metadata": {},
     "output_type": "execute_result"
    }
   ],
   "source": [
    "# 计算每100行的均值\n",
    "allpos_matrix_newest['mean'] = allpos_matrix_newest['value'].rolling(window=100, min_periods=1).mean()\n",
    "allpos_matrix_newest=allpos_matrix_newest[:-20]\n",
    "allpos_matrix_newest"
   ],
   "metadata": {
    "collapsed": false,
    "ExecuteTime": {
     "end_time": "2023-12-30T06:31:30.095592100Z",
     "start_time": "2023-12-30T06:31:29.724112500Z"
    }
   }
  },
  {
   "cell_type": "code",
   "execution_count": 274,
   "outputs": [],
   "source": [
    "# # # 提取每100行的起始位置和结束位置\n",
    "start = range(0, len(allpos_matrix_newest), 100)\n",
    "end = range(100, len(allpos_matrix_newest) + 1, 100)"
   ],
   "metadata": {
    "collapsed": false,
    "ExecuteTime": {
     "end_time": "2023-12-30T06:31:32.796131Z",
     "start_time": "2023-12-30T06:31:32.351770600Z"
    }
   }
  },
  {
   "cell_type": "code",
   "execution_count": 275,
   "outputs": [
    {
     "data": {
      "text/plain": "       start    end  meanvalue\n99         0    100      259.0\n199      100    200      620.0\n299      200    300      277.0\n399      300    400      176.0\n499      400    500      171.0\n...      ...    ...        ...\n24999  24900  25000      227.0\n25099  25000  25100      251.0\n25199  25100  25200      347.0\n25299  25200  25300      782.0\n25399  25300  25400     1296.0\n\n[254 rows x 3 columns]",
      "text/html": "<div>\n<style scoped>\n    .dataframe tbody tr th:only-of-type {\n        vertical-align: middle;\n    }\n\n    .dataframe tbody tr th {\n        vertical-align: top;\n    }\n\n    .dataframe thead th {\n        text-align: right;\n    }\n</style>\n<table border=\"1\" class=\"dataframe\">\n  <thead>\n    <tr style=\"text-align: right;\">\n      <th></th>\n      <th>start</th>\n      <th>end</th>\n      <th>meanvalue</th>\n    </tr>\n  </thead>\n  <tbody>\n    <tr>\n      <th>99</th>\n      <td>0</td>\n      <td>100</td>\n      <td>259.0</td>\n    </tr>\n    <tr>\n      <th>199</th>\n      <td>100</td>\n      <td>200</td>\n      <td>620.0</td>\n    </tr>\n    <tr>\n      <th>299</th>\n      <td>200</td>\n      <td>300</td>\n      <td>277.0</td>\n    </tr>\n    <tr>\n      <th>399</th>\n      <td>300</td>\n      <td>400</td>\n      <td>176.0</td>\n    </tr>\n    <tr>\n      <th>499</th>\n      <td>400</td>\n      <td>500</td>\n      <td>171.0</td>\n    </tr>\n    <tr>\n      <th>...</th>\n      <td>...</td>\n      <td>...</td>\n      <td>...</td>\n    </tr>\n    <tr>\n      <th>24999</th>\n      <td>24900</td>\n      <td>25000</td>\n      <td>227.0</td>\n    </tr>\n    <tr>\n      <th>25099</th>\n      <td>25000</td>\n      <td>25100</td>\n      <td>251.0</td>\n    </tr>\n    <tr>\n      <th>25199</th>\n      <td>25100</td>\n      <td>25200</td>\n      <td>347.0</td>\n    </tr>\n    <tr>\n      <th>25299</th>\n      <td>25200</td>\n      <td>25300</td>\n      <td>782.0</td>\n    </tr>\n    <tr>\n      <th>25399</th>\n      <td>25300</td>\n      <td>25400</td>\n      <td>1296.0</td>\n    </tr>\n  </tbody>\n</table>\n<p>254 rows × 3 columns</p>\n</div>"
     },
     "execution_count": 275,
     "metadata": {},
     "output_type": "execute_result"
    }
   ],
   "source": [
    "# # # 创建新的DataFrame存储结果\n",
    "result = pd.DataFrame({'start': start, 'end': end, 'meanvalue': allpos_matrix_newest['mean'][99::100].round(0)})\n",
    "result"
   ],
   "metadata": {
    "collapsed": false,
    "ExecuteTime": {
     "end_time": "2023-12-30T06:31:35.045953800Z",
     "start_time": "2023-12-30T06:31:34.676341800Z"
    }
   }
  },
  {
   "cell_type": "code",
   "execution_count": 276,
   "outputs": [],
   "source": [
    "import numpy as np\n",
    "from scipy.stats import zscore\n",
    "zscore_data=zscore(result['meanvalue'])\n",
    "normalized_data = (zscore_data - zscore_data.min()) / (zscore_data.max() - zscore_data.min())\n",
    "df=pd.DataFrame(normalized_data)\n",
    "df['start']=result['start'];df['end']=result['end']\n",
    "df['meanvalue']=df['meanvalue'].round(2)"
   ],
   "metadata": {
    "collapsed": false,
    "ExecuteTime": {
     "end_time": "2023-12-30T06:31:39.052569800Z",
     "start_time": "2023-12-30T06:31:38.714331100Z"
    }
   }
  },
  {
   "cell_type": "code",
   "execution_count": 277,
   "outputs": [],
   "source": [
    "df.to_csv('D:/360MoveData/Users/dgwei/Desktop/文章/Scientific_data-Sunju/result/chimeric_coverage2.roll100.txt', sep='\\t', index=False)"
   ],
   "metadata": {
    "collapsed": false,
    "ExecuteTime": {
     "end_time": "2023-12-30T06:31:43.705371300Z",
     "start_time": "2023-12-30T06:31:43.315102600Z"
    }
   }
  },
  {
   "cell_type": "code",
   "execution_count": 25,
   "outputs": [],
   "source": [
    "# 读取基因组序列文件\n",
    "with open('D:/360MoveData/Users/dgwei/Desktop/文章/Scientific_data-Sunju/KT336560.1.fasta', 'r') as file:\n",
    "    next(file)\n",
    "    genome_sequence = file.read().replace('\\n', '')"
   ],
   "metadata": {
    "collapsed": false,
    "ExecuteTime": {
     "end_time": "2024-01-11T13:22:26.708624400Z",
     "start_time": "2024-01-11T13:22:26.451626300Z"
    }
   }
  },
  {
   "cell_type": "code",
   "execution_count": 26,
   "outputs": [],
   "source": [
    "# 定义每个片段的长度\n",
    "segment_length = 50"
   ],
   "metadata": {
    "collapsed": false,
    "ExecuteTime": {
     "end_time": "2024-01-11T13:22:27.629682400Z",
     "start_time": "2024-01-11T13:22:27.468684300Z"
    }
   }
  },
  {
   "cell_type": "code",
   "execution_count": 27,
   "outputs": [],
   "source": [
    "# 统计每个片段中 A 和 U（或 T）的含量\n",
    "with open('D:/360MoveData/Users/dgwei/Desktop/文章/Scientific_data-Sunju/au_content1.txt', 'w') as file:\n",
    "    for i in range(0, len(genome_sequence), segment_length):\n",
    "        segment = genome_sequence[i:i+segment_length]\n",
    "        a_count = segment.count('A')\n",
    "        u_count = segment.count('U') or segment.count('T')  # U 或 T 的数量\n",
    "        total_count = len(segment)\n",
    "        a_percentage = round((a_count / total_count)*100,0)\n",
    "        u_percentage = round((u_count / total_count)*100,0)\n",
    "        au_percentage=(a_percentage+u_percentage)/100\n",
    "        file.write(str(au_percentage)+\"\\n\")"
   ],
   "metadata": {
    "collapsed": false,
    "ExecuteTime": {
     "end_time": "2024-01-11T13:22:29.476222500Z",
     "start_time": "2024-01-11T13:22:29.222222300Z"
    }
   }
  },
  {
   "cell_type": "code",
   "execution_count": 24,
   "outputs": [
    {
     "data": {
      "text/plain": "1271.0"
     },
     "execution_count": 24,
     "metadata": {},
     "output_type": "execute_result"
    }
   ],
   "source": [],
   "metadata": {
    "collapsed": false,
    "ExecuteTime": {
     "end_time": "2024-01-11T12:51:46.751301200Z",
     "start_time": "2024-01-11T12:51:46.602471300Z"
    }
   }
  }
 ],
 "metadata": {
  "kernelspec": {
   "display_name": "Python 3",
   "language": "python",
   "name": "python3"
  },
  "language_info": {
   "codemirror_mode": {
    "name": "ipython",
    "version": 2
   },
   "file_extension": ".py",
   "mimetype": "text/x-python",
   "name": "python",
   "nbconvert_exporter": "python",
   "pygments_lexer": "ipython2",
   "version": "2.7.6"
  }
 },
 "nbformat": 4,
 "nbformat_minor": 0
}
